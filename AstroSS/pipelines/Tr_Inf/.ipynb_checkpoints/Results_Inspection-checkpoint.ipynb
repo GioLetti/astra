{
 "cells": [
  {
   "cell_type": "code",
   "execution_count": 24,
   "metadata": {},
   "outputs": [],
   "source": [
    "%matplotlib inline\n",
    "import numpy as np\n",
    "import h5py \n",
    "from sklearn.metrics import f1_score,jaccard_similarity_score, accuracy_score\n",
    "from sklearn.metrics import precision_recall_fscore_support as pRf1\n",
    "import glob\n",
    "import cv2\n",
    "from scipy.optimize import linear_sum_assignment\n",
    "import sys\n",
    "from skimage import io\n",
    "############### Visualization\n",
    "\n",
    "from ipywidgets import Button, Layout\n",
    "import ipywidgets as widgets\n",
    "from ipywidgets import HBox, VBox\n",
    "import numpy as np\n",
    "import matplotlib.pyplot as plt\n",
    "from IPython.display import display,clear_output,Video\n",
    "from copy import copy\n",
    "import numpy.ma as ma\n",
    "import matplotlib.colors as colors\n",
    "################# Load modules\n",
    "sys.path.insert(0,'/media/DATA/jbonato/astro_segm/AstroSS/modules/')\n",
    "\n",
    "from score_fun import *\n",
    "N = 256\n",
    "M=256"
   ]
  },
  {
   "cell_type": "markdown",
   "metadata": {},
   "source": [
    "# Dataset-1 vs. consensus"
   ]
  },
  {
   "cell_type": "code",
   "execution_count": 2,
   "metadata": {},
   "outputs": [
    {
     "data": {
      "text/plain": [
       "['/media/DATA/jbonato/astro_segm/set1/dataset/SMALL_001_nf.hdf5',\n",
       " '/media/DATA/jbonato/astro_segm/set1/dataset/SMALL_002_nf.hdf5',\n",
       " '/media/DATA/jbonato/astro_segm/set1/dataset/SMALL_003_nf.hdf5',\n",
       " '/media/DATA/jbonato/astro_segm/set1/dataset/SMALL_004_nf.hdf5',\n",
       " '/media/DATA/jbonato/astro_segm/set1/dataset/SMALL_005_nf.hdf5',\n",
       " '/media/DATA/jbonato/astro_segm/set1/dataset/SMALL_006_nf.hdf5',\n",
       " '/media/DATA/jbonato/astro_segm/set1/dataset/SMALL_007_nf.hdf5',\n",
       " '/media/DATA/jbonato/astro_segm/set1/dataset/SMALL_008_nf.hdf5',\n",
       " '/media/DATA/jbonato/astro_segm/set1/dataset/SMALL_009_nf.hdf5',\n",
       " '/media/DATA/jbonato/astro_segm/set1/dataset/SMALL_010_nf.hdf5',\n",
       " '/media/DATA/jbonato/astro_segm/set1/dataset/SMALL_011_nf.hdf5',\n",
       " '/media/DATA/jbonato/astro_segm/set1/dataset/SMALL_012_nf.hdf5',\n",
       " '/media/DATA/jbonato/astro_segm/set1/dataset/SMALL_013_nf.hdf5',\n",
       " '/media/DATA/jbonato/astro_segm/set1/dataset/SMALL_014_nf.hdf5',\n",
       " '/media/DATA/jbonato/astro_segm/set1/dataset/SMALL_015_nf.hdf5',\n",
       " '/media/DATA/jbonato/astro_segm/set1/dataset/SMALL_016_nf.hdf5',\n",
       " '/media/DATA/jbonato/astro_segm/set1/dataset/SMALL_017_nf.hdf5',\n",
       " '/media/DATA/jbonato/astro_segm/set1/dataset/SMALL_018_nf.hdf5',\n",
       " '/media/DATA/jbonato/astro_segm/set1/dataset/SMALL_019_nf.hdf5',\n",
       " '/media/DATA/jbonato/astro_segm/set1/dataset/SMALL_021_nf.hdf5',\n",
       " '/media/DATA/jbonato/astro_segm/set1/dataset/SMALL_022_nf.hdf5',\n",
       " '/media/DATA/jbonato/astro_segm/set1/dataset/SMALL_023_nf.hdf5',\n",
       " '/media/DATA/jbonato/astro_segm/set1/dataset/SMALL_024_nf.hdf5',\n",
       " '/media/DATA/jbonato/astro_segm/set1/dataset/SMALL_025_nf.hdf5']"
      ]
     },
     "execution_count": 2,
     "metadata": {},
     "output_type": "execute_result"
    }
   ],
   "source": [
    "### uery files\n",
    "GT_path = '/media/DATA/jbonato/astro_segm/set1/dataset/'\n",
    "res_path = '/media/DATA/jbonato/astro_segm/Results/D1/'\n",
    "\n",
    "masks_GT = glob.glob(GT_path+'*.*')\n",
    "masks_GT.sort()\n",
    "masks_GT"
   ]
  },
  {
   "cell_type": "code",
   "execution_count": 25,
   "metadata": {},
   "outputs": [
    {
     "ename": "NameError",
     "evalue": "name 'masks_GT' is not defined",
     "output_type": "error",
     "traceback": [
      "\u001b[0;31m---------------------------------------------------------------------------\u001b[0m",
      "\u001b[0;31mNameError\u001b[0m                                 Traceback (most recent call last)",
      "\u001b[0;32m<ipython-input-25-8bc7dcff7847>\u001b[0m in \u001b[0;36m<module>\u001b[0;34m\u001b[0m\n\u001b[1;32m      6\u001b[0m \u001b[0mproc_res\u001b[0m\u001b[0;34m=\u001b[0m\u001b[0;34m[\u001b[0m\u001b[0;34m]\u001b[0m\u001b[0;34m\u001b[0m\u001b[0;34m\u001b[0m\u001b[0m\n\u001b[1;32m      7\u001b[0m \u001b[0mfov\u001b[0m\u001b[0;34m=\u001b[0m\u001b[0;36m0\u001b[0m\u001b[0;34m\u001b[0m\u001b[0;34m\u001b[0m\u001b[0m\n\u001b[0;32m----> 8\u001b[0;31m \u001b[0;32mfor\u001b[0m \u001b[0mGT_small\u001b[0m \u001b[0;32min\u001b[0m \u001b[0mmasks_GT\u001b[0m\u001b[0;34m:\u001b[0m\u001b[0;31m#[j:j+1]\u001b[0m\u001b[0;34m\u001b[0m\u001b[0;34m\u001b[0m\u001b[0m\n\u001b[0m\u001b[1;32m      9\u001b[0m     \u001b[0mname\u001b[0m \u001b[0;34m=\u001b[0m \u001b[0mGT_small\u001b[0m\u001b[0;34m[\u001b[0m\u001b[0;34m-\u001b[0m\u001b[0;36m17\u001b[0m\u001b[0;34m:\u001b[0m\u001b[0;34m-\u001b[0m\u001b[0;36m8\u001b[0m\u001b[0;34m]\u001b[0m\u001b[0;34m+\u001b[0m\u001b[0;34m'D1.hdf5'\u001b[0m\u001b[0;34m\u001b[0m\u001b[0;34m\u001b[0m\u001b[0m\n\u001b[1;32m     10\u001b[0m     \u001b[0;31m# loading GT\u001b[0m\u001b[0;34m\u001b[0m\u001b[0;34m\u001b[0m\u001b[0;34m\u001b[0m\u001b[0m\n",
      "\u001b[0;31mNameError\u001b[0m: name 'masks_GT' is not defined"
     ]
    }
   ],
   "source": [
    "GT_mat = np.zeros((256,256,2))\n",
    "Res_mat = np.zeros_like(GT_mat)\n",
    "\n",
    "h_res = np.empty((24,3))\n",
    "soma_res = []\n",
    "proc_res=[]\n",
    "fov=0\n",
    "for GT_small in masks_GT:#[j:j+1]\n",
    "    name = GT_small[-17:-8]+'D1.hdf5'\n",
    "    # loading GT\n",
    "    dset= h5py.File(GT_small,'r') \n",
    "    GT_mat[:,:,0] =  np.asarray(dset['Values'])\n",
    "    GT_mat[:,:,1] =  np.asarray(dset['Values_soma'])\n",
    "    GT_mat[:,:,0]-=GT_mat[:,:,1]\n",
    "    GT_mat[GT_mat<0]=0\n",
    "    GT_mat[GT_mat>1]=1\n",
    "\n",
    "\n",
    "    # loading Res\n",
    "    dset= h5py.File(res_path+name,'r') \n",
    "    Res_mat[:,:,0] =  np.asarray(dset['Values'])\n",
    "    Res_mat[:,:,1] =  np.asarray(dset['Values_soma'])\n",
    "    \n",
    "\n",
    "    aa = score_cw(GT_mat,Res_mat)\n",
    "    \n",
    "    proc_res.append(aa[:,:3,:])\n",
    "    soma_res.append(np.mean(aa[:,:3,:],axis=0))\n",
    "\n",
    "    a,b,c = true_pos_l(GT_mat[:,:,1],Res_mat[:,:,1],threshold=0.5,N=256)\n",
    "    h_res[fov,0]=a\n",
    "    h_res[fov,1]=b\n",
    "    h_res[fov,2]=c\n",
    "\n",
    "    fov+=1\n",
    "\n",
    "detection = h_res.copy()\n",
    "f1_net = np.zeros_like(detection)\n",
    "f1_net[:,0] = detection[:,0]/detection[:,2]\n",
    "f1_net[:,1] = detection[:,0]/detection[:,1]\n",
    "f1_net[:,2] = 2*(f1_net[:,0]*f1_net[:,1])/(f1_net[:,0]+f1_net[:,1]) \n",
    "mean_f1_net = np.mean(f1_net,axis=0)\n",
    "std_f1_net = np.std(f1_net,axis=0)\n",
    "\n",
    "final_proc = proc_res[0]\n",
    "for r in range(1,len(proc_res)):\n",
    "    final_proc = np.vstack((final_proc,proc_res[r]))\n",
    "mean_val = np.mean(final_proc,axis=0)\n",
    "print('Somata: \\n P: {:.2f}, R:  {:.2f}, F1:  {:.2f}'.format(mean_val[0,0],mean_val[1,0],mean_val[2,0]))\n",
    "print('Processes \\n P: {:.2f}, R:  {:.2f}, F1:  {:.2f}'.format(mean_val[0,1],mean_val[1,1],mean_val[2,1]))\n",
    "print(mean_f1_net)"
   ]
  },
  {
   "cell_type": "markdown",
   "metadata": {},
   "source": [
    "# Results Visualization"
   ]
  },
  {
   "cell_type": "code",
   "execution_count": 26,
   "metadata": {},
   "outputs": [],
   "source": [
    "def draw_cont(mask):\n",
    "    N,M,c = mask.shape\n",
    "    sm_c = np.zeros((N,M))\n",
    "    pr_c = np.zeros((N,M))\n",
    "    contours, hierarchy = cv2.findContours(np.uint8(mask[:,:,1]), cv2.RETR_TREE, cv2.CHAIN_APPROX_NONE)\n",
    "    for j in contours:\n",
    "        sm_c[j[:,0,1],j[:,0,0]]=1\n",
    "        \n",
    "    contours, hierarchy = cv2.findContours(np.uint8(mask[:,:,0]), cv2.RETR_TREE, cv2.CHAIN_APPROX_NONE)\n",
    "    for j in contours:\n",
    "        pr_c[j[:,0,1],j[:,0,0]]=1\n",
    "\n",
    "    return np.where(sm_c==1),np.where(pr_c==1)#sm_c,pr_c#\n",
    "\n",
    "def draw_on_Im(image,c_sm,c_pr):\n",
    "    image_pl = image.copy()\n",
    "    image_pl = image_pl.astype(np.float64)\n",
    "    maxim = image_pl.max()\n",
    "    image_pl/=maxim\n",
    "    image_pl[c_sm]=4\n",
    "    image_pl[c_pr]=10\n",
    "    return image_pl\n",
    "\n",
    "\n",
    "def get_im(mask,image):\n",
    "    sm_net,pr_net = draw_cont(mask)\n",
    "    image_net = draw_on_Im(image,sm_net,pr_net)\n",
    "    return image_net\n"
   ]
  },
  {
   "cell_type": "code",
   "execution_count": 33,
   "metadata": {},
   "outputs": [
    {
     "data": {
      "application/vnd.jupyter.widget-view+json": {
       "model_id": "8b382d47f2924b54b08c2bab22d09564",
       "version_major": 2,
       "version_minor": 0
      },
      "text/plain": [
       "HBox(children=(VBox(children=(Output(layout=Layout(height='500px', width='500px')), IntSlider(value=7, descrip…"
      ]
     },
     "metadata": {},
     "output_type": "display_data"
    }
   ],
   "source": [
    "num  = widgets.IntSlider(\n",
    "    value=7,\n",
    "    min=1,\n",
    "    max=25,\n",
    "    step=1,\n",
    "    description='FOV',\n",
    "    disabled=False,\n",
    "    continuous_update=True,\n",
    "    orientation='horizontal',\n",
    "    readout=True,\n",
    "    readout_format='d'\n",
    ")\n",
    "\n",
    "\n",
    "mapped = widgets.Dropdown(\n",
    "    options=[('inferno',plt.cm.inferno), ('viridis',plt.cm.viridis), ('Greys',plt.cm.gray)],\n",
    "    value=plt.cm.gray,\n",
    "    description='Cmap:',\n",
    "    disabled=False,\n",
    ")\n",
    "projection =  widgets.Dropdown(\n",
    "    options=['median', 'max', 'mean'],\n",
    "    value='median',\n",
    "    description='Projection:',\n",
    "    disabled=False,\n",
    ")\n",
    "\n",
    "\n",
    "button = widgets.Button(\n",
    "    description='Plot',\n",
    ")\n",
    "out=widgets.Output(layout=Layout(width='500px', height='500px'))\n",
    "out2=widgets.Output(layout=Layout(width='500px', height='500px'))\n",
    "button=widgets.Button(description='Next')\n",
    "vbox=widgets.VBox(children=(out,num,mapped,projection,button))\n",
    "hbox=widgets.HBox(children=(vbox,out2))\n",
    "display(hbox)\n",
    "\n",
    "def plot2(b=None):\n",
    "    if num.value==20:\n",
    "        with out:\n",
    "            display('error no image present')\n",
    "    else:\n",
    "        path = '/media/DATA/jbonato/astro_segm/set1/'+str(num.value)+'/'\n",
    "        if len(str(num.value))==1:\n",
    "            zer='00'\n",
    "        else:\n",
    "            zer='0'\n",
    "        res_path = '/media/DATA/jbonato/astro_segm/Results/D1/'\n",
    "        name = 'SMALL_'+zer+str(num.value)+'D1.hdf5'\n",
    "        Res_mat = np.zeros((N,M,2))\n",
    "        dset= h5py.File(res_path+name,'r') \n",
    "        Res_mat[:,:,0] =  np.asarray(dset['Values'])\n",
    "        Res_mat[:,:,1] =  np.asarray(dset['Values_soma'])\n",
    "\n",
    "        it = glob.glob(path+'*')\n",
    "        stack = io.imread(it[0])\n",
    "        video = np.empty((stack.shape[0],256,256),dtype=np.uint8)\n",
    "        for j in range(stack.shape[0]):\n",
    "            img = stack[j,:,:]\n",
    "            bl = cv2.normalize(img, None, 0, 255, cv2.NORM_MINMAX, dtype=cv2.CV_8U)\n",
    "            video[j,:,:]=bl\n",
    "        \n",
    "        imageio.mimwrite('test2.mp4',video, fps=30);\n",
    "        with out2:\n",
    "            clear_output(wait=True)\n",
    "            display(Video('test2.mp4',width=500,height=500))\n",
    "        if projection.value=='median':\n",
    "            im = np.median(stack,axis=0)\n",
    "        elif projection.value == 'mean':\n",
    "            im = np.mean(stack,axis=0)\n",
    "        else:\n",
    "            im = np.amax(stack,axis=0)\n",
    "        imC = get_im(Res_mat,im)\n",
    "        f, ax = plt.subplots(1, 1, figsize=(8, 8))\n",
    "        c = ['snow','violet']\n",
    "        palette = copy(mapped.value)\n",
    "        palette.set_over(c[0],1.0)\n",
    "        palette.set_bad(c[1],1.0)\n",
    "        zm = ma.masked_where(imC>5,imC)\n",
    "        ax.imshow(zm,cmap=palette,norm=colors.Normalize(vmin=0,vmax=1.0))\n",
    "        ax.axis('off')\n",
    "        with out:\n",
    "            clear_output(wait=True)\n",
    "            display(f)\n",
    "    \n",
    "button.on_click(plot2)\n",
    "\n"
   ]
  },
  {
   "cell_type": "code",
   "execution_count": null,
   "metadata": {},
   "outputs": [],
   "source": []
  },
  {
   "cell_type": "code",
   "execution_count": 13,
   "metadata": {},
   "outputs": [],
   "source": []
  },
  {
   "cell_type": "code",
   "execution_count": 14,
   "metadata": {},
   "outputs": [],
   "source": []
  },
  {
   "cell_type": "code",
   "execution_count": null,
   "metadata": {},
   "outputs": [],
   "source": []
  },
  {
   "cell_type": "code",
   "execution_count": null,
   "metadata": {},
   "outputs": [],
   "source": []
  },
  {
   "cell_type": "code",
   "execution_count": null,
   "metadata": {},
   "outputs": [],
   "source": []
  },
  {
   "cell_type": "code",
   "execution_count": null,
   "metadata": {},
   "outputs": [],
   "source": []
  },
  {
   "cell_type": "code",
   "execution_count": null,
   "metadata": {},
   "outputs": [],
   "source": []
  }
 ],
 "metadata": {
  "kernelspec": {
   "display_name": "Python 3",
   "language": "python",
   "name": "python3"
  },
  "language_info": {
   "codemirror_mode": {
    "name": "ipython",
    "version": 3
   },
   "file_extension": ".py",
   "mimetype": "text/x-python",
   "name": "python",
   "nbconvert_exporter": "python",
   "pygments_lexer": "ipython3",
   "version": "3.6.8"
  }
 },
 "nbformat": 4,
 "nbformat_minor": 4
}
