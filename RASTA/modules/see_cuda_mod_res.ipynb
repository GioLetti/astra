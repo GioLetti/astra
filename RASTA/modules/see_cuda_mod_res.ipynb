{
 "cells": [
  {
   "cell_type": "code",
   "execution_count": 9,
   "metadata": {},
   "outputs": [],
   "source": [
    "import numpy as np\n",
    "from skimage import io\n",
    "import matplotlib.pyplot as plt\n",
    "import cv2\n",
    "from sklearn.externals.joblib import Parallel, delayed\n",
    "from skimage.restoration import denoise_nl_means,estimate_sigma\n",
    "from scipy import signal\n",
    "from joblib import Parallel, delayed\n",
    "import os\n",
    "import h5py\n",
    "from numba import cuda,float32,uint16,float64  \n",
    "import time\n",
    "import pickle\n",
    "from sel_active_reg_gen import sel_active_reg\n",
    "\n",
    "\n",
    "\n",
    "\n"
   ]
  },
  {
   "cell_type": "code",
   "execution_count": 13,
   "metadata": {},
   "outputs": [
    {
     "data": {
      "text/plain": [
       "{'list': [0, 40, 80, 120, 160],\n",
       " 'blocks': 20,\n",
       " 'threads': 24,\n",
       " 'BPM_ratio': 4,\n",
       " 'bb': 96,\n",
       " 'N_pix_st': 100,\n",
       " 'astr_min': 80,\n",
       " 'percentile': 80,\n",
       " 'pad': 5,\n",
       " 'astro_num': 4,\n",
       " 'init_th_': 0.6,\n",
       " 'decr_dim': 10,\n",
       " 'decr_th': 25,\n",
       " 'corr_int': False,\n",
       " 'gpu_flag': True}"
      ]
     },
     "execution_count": 13,
     "metadata": {},
     "output_type": "execute_result"
    }
   ],
   "source": [
    "with open('/media/DATA/jbonato/astro_segm/set1/.tmp/dict_dataset1.txt', \"rb\") as fp:   \n",
    "    dict_param = pickle.load(fp)\n",
    "    \n",
    "\n",
    "# dict_param['blocks']=15\n",
    "# dict_param['threads']=24\n",
    "# dict_param['BPM_ratio']=4\n",
    "# dict_param['N_pix_st']=50\n",
    "# dict_param['astr_min']=50\n",
    "# dict_param['th1_p']=.25\n",
    "# dict_param['th2_p']=.1\n",
    "# dict_param['max_min']=np.asarray([345,60])\n",
    "# dict_param['astro_num']=40\n",
    "# dict_param['bb']=80\n",
    "# dict_param['pad']=8\n",
    "# dict_param['list']=[i*54 for i in range(9)]\n",
    "# dict_param['list'][-1]=432\n",
    "# dict_param['decr_dim'] = 5\n",
    "# dict_param['init_th'] = 0.5\n",
    "# dict_param['decr_th'] = 7.333333333333333*25\n",
    "\n",
    "# with open('/media/DATA/jbonato/astro_segm/set4/.tmp/dict_dataset.txt', \"rb\") as fp:   #Pickling\n",
    "#     dict_param = pickle.load(fp)\n",
    "# dict_param['init_th_'] = 0.5\n",
    "\n",
    "# dict_param['BPM_ratio']=3\n",
    "# dict_param['blocks']= 15\n",
    "# dict_param['threads']=32\n",
    "\n",
    "dict_param = {\n",
    "    'list':[0,40,80,120,160],\n",
    "    'blocks':20,\n",
    "    'threads':24,\n",
    "    'BPM_ratio':4,\n",
    "    'bb':96,\n",
    "    \n",
    "    'N_pix_st':100, #starting minimum area\n",
    "    'astr_min':80, # approx. 0.9 min in dataset\n",
    "    'percentile': 80,\n",
    "    'pad':5,\n",
    "    'astro_num':4, # number of astro min in FOV\n",
    "    'init_th_':0.6, # threshold initialization\n",
    "    'decr_dim':10, # astro area decrease\n",
    "    'decr_th':25, # temporal threshold decrease\n",
    "    'corr_int':False, # intensity correction flag\n",
    "    'gpu_flag':True\n",
    "}\n",
    "dict_param\n",
    "\n",
    "\n"
   ]
  },
  {
   "cell_type": "code",
   "execution_count": 14,
   "metadata": {},
   "outputs": [
    {
     "name": "stdout",
     "output_type": "stream",
     "text": [
      "GPU started with  (20, 20)  blocks and  (24, 24)  threads per block\n",
      "Iteration per block:  1.0\n",
      "debug False\n"
     ]
    }
   ],
   "source": [
    "stack = np.zeros((4000,256,256))\n",
    "\n",
    "a_reg = sel_active_reg(stack.astype(np.float32),dict_param)\n",
    "\n",
    "A,B = a_reg.check_sel_active_reg_gpu_gen(void_out=False,debug=False)"
   ]
  },
  {
   "cell_type": "code",
   "execution_count": 15,
   "metadata": {},
   "outputs": [
    {
     "data": {
      "text/plain": [
       "<matplotlib.image.AxesImage at 0x7fce63b0a4a8>"
      ]
     },
     "execution_count": 15,
     "metadata": {},
     "output_type": "execute_result"
    },
    {
     "data": {
      "image/png": "[encoded data removed]",
      "text/plain": [
       "<Figure size 432x288 with 1 Axes>"
      ]
     },
     "metadata": {
      "needs_background": "light"
     },
     "output_type": "display_data"
    }
   ],
   "source": [
    "plt.imshow(B)"
   ]
  },
  {
   "cell_type": "code",
   "execution_count": null,
   "metadata": {},
   "outputs": [],
   "source": []
  }
 ],
 "metadata": {
  "kernelspec": {
   "display_name": "Python 3",
   "language": "python",
   "name": "python3"
  },
  "language_info": {
   "codemirror_mode": {
    "name": "ipython",
    "version": 3
   },
   "file_extension": ".py",
   "mimetype": "text/x-python",
   "name": "python",
   "nbconvert_exporter": "python",
   "pygments_lexer": "ipython3",
   "version": "3.6.7"
  }
 },
 "nbformat": 4,
 "nbformat_minor": 4
}
