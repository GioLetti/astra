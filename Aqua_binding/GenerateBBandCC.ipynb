{
 "cells": [
  {
   "cell_type": "code",
   "execution_count": 185,
   "metadata": {},
   "outputs": [],
   "source": []
  },
  {
   "cell_type": "code",
   "execution_count": 212,
   "metadata": {},
   "outputs": [],
   "source": [
    "import numpy as np\n",
    "import pickle\n",
    "import matplotlib.pyplot as plt\n",
    "import cv2\n",
    "import h5py"
   ]
  },
  {
   "cell_type": "code",
   "execution_count": 213,
   "metadata": {},
   "outputs": [],
   "source": [
    "dict_im = pickle.load( open( \"/media/DATA/jbonato/astro_segm/notebook/inference_ex.pkl\", \"rb\" ))\n",
    "folder_save = '/media/DATA/jbonato/astro_segm/Aqua_binding/Contours/SMALL_'"
   ]
  },
  {
   "cell_type": "code",
   "execution_count": 214,
   "metadata": {},
   "outputs": [],
   "source": [
    "num_list = ['2']\n"
   ]
  },
  {
   "cell_type": "code",
   "execution_count": null,
   "metadata": {},
   "outputs": [],
   "source": []
  },
  {
   "cell_type": "code",
   "execution_count": 215,
   "metadata": {},
   "outputs": [
    {
     "name": "stdout",
     "output_type": "stream",
     "text": [
      "20 0\n",
      "518 20\n",
      "392 0\n",
      "307 0\n",
      "56 0\n",
      "125 56\n",
      "44 125\n",
      "118 0\n"
     ]
    }
   ],
   "source": [
    "for num in num_list:\n",
    "    query = '{0:0>3}'.format(num)\n",
    "    num_cell = dict_im['Cell_num_'+query]\n",
    "    map_cells = np.zeros((num_cell,256,256))\n",
    "\n",
    "    for k in range(num_cell):\n",
    "        cell_query= '{0:0>3}'.format(str(k))\n",
    "        for key in dict_im['ROI_'+query]:\n",
    "            if ('Soma_'+cell_query in key ) or ('Proc_'+cell_query in key ) or ('CC_'+cell_query in key):\n",
    "                c1,c2 = dict_im['ROI_'+query][key]\n",
    "                map_cells[k,c1,c2]+=1\n",
    "\n",
    "    dilate_ROI = 2\n",
    "    BB = np.zeros_like(map_cells)\n",
    "    for k in range(num_cell):#\n",
    "        buff = map_cells[k].astype(np.uint8)\n",
    "        for _ in range(dilate_ROI):\n",
    "            element = cv2.getStructuringElement(cv2.MORPH_CROSS, (3,3))\n",
    "            buff = cv2.dilate(buff, element)\n",
    "\n",
    "        buff[buff>=1]=255\n",
    "        _,thresh = cv2.threshold(buff,1,255,0)\n",
    "        mask = np.zeros((256+2, 256+2), np.uint8)\n",
    "\n",
    "        cv2.floodFill(thresh, mask, (0,0), 255);\n",
    "        mask = cv2.bitwise_not(mask)\n",
    "        mask[mask!=255]=0\n",
    "        mask = mask[1:-1,1:-1]\n",
    "        # find contours in the binary image\n",
    "        contours, _= cv2.findContours(mask,cv2.RETR_EXTERNAL,cv2.CHAIN_APPROX_NONE)\n",
    "        max_ =0  \n",
    "        for cnt in contours:\n",
    "            print(cnt.shape[0],max_)\n",
    "            if cnt.shape[0]>=max_:\n",
    "                cont_max = cnt\n",
    "                max_ = cnt.shape[0]\n",
    "\n",
    "        box =  cv2.boundingRect(cont_max)        \n",
    "        BB[k,box[1]:box[1]+box[3],box[0]:box[0]+box[2]]=1\n",
    "\n",
    "        mask[mask==255]=1\n",
    "        map_cells[k] = mask.astype(np.uint8)\n",
    "\n",
    "        with h5py.File(folder_save +query+'.hdf5','w') as f:\n",
    "            dset = f.create_dataset('cc',data=map_cells)\n",
    "            dset2 = f.create_dataset('bb',data=BB)\n"
   ]
  },
  {
   "cell_type": "code",
   "execution_count": null,
   "metadata": {},
   "outputs": [],
   "source": []
  },
  {
   "cell_type": "code",
   "execution_count": null,
   "metadata": {},
   "outputs": [],
   "source": []
  },
  {
   "cell_type": "code",
   "execution_count": null,
   "metadata": {},
   "outputs": [],
   "source": []
  },
  {
   "cell_type": "code",
   "execution_count": null,
   "metadata": {},
   "outputs": [],
   "source": []
  },
  {
   "cell_type": "code",
   "execution_count": null,
   "metadata": {},
   "outputs": [],
   "source": []
  },
  {
   "cell_type": "code",
   "execution_count": null,
   "metadata": {},
   "outputs": [],
   "source": []
  },
  {
   "cell_type": "code",
   "execution_count": null,
   "metadata": {},
   "outputs": [],
   "source": []
  },
  {
   "cell_type": "code",
   "execution_count": null,
   "metadata": {},
   "outputs": [],
   "source": []
  },
  {
   "cell_type": "code",
   "execution_count": null,
   "metadata": {},
   "outputs": [],
   "source": []
  },
  {
   "cell_type": "code",
   "execution_count": null,
   "metadata": {},
   "outputs": [],
   "source": []
  }
 ],
 "metadata": {
  "kernelspec": {
   "display_name": "Python 3",
   "language": "python",
   "name": "python3"
  },
  "language_info": {
   "codemirror_mode": {
    "name": "ipython",
    "version": 3
   },
   "file_extension": ".py",
   "mimetype": "text/x-python",
   "name": "python",
   "nbconvert_exporter": "python",
   "pygments_lexer": "ipython3",
   "version": "3.6.8"
  }
 },
 "nbformat": 4,
 "nbformat_minor": 4
}
