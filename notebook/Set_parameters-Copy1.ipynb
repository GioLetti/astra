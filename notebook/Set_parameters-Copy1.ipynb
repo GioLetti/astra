{
 "cells": [
  {
   "cell_type": "code",
   "execution_count": 34,
   "metadata": {},
   "outputs": [
    {
     "data": {
      "text/plain": [
       "{'list': [0, 30, 60, 90, 120, 150, 180, 210, 240, 270, 300, 330, 360, 390],\n",
       " 'blocks': 28,\n",
       " 'threads': 20,\n",
       " 'BPM_ratio': 2,\n",
       " 'bb': 40,\n",
       " 'N_pix_st': 35,\n",
       " 'astr_min': 17,\n",
       " 'percentile': 90,\n",
       " 'pad': 5,\n",
       " 'cnt_min': 60}"
      ]
     },
     "execution_count": 34,
     "metadata": {},
     "output_type": "execute_result"
    }
   ],
   "source": [
    "import numpy as np\n",
    "import os\n",
    "import itertools\n",
    "from skimage import io\n",
    "import sys\n",
    "import h5py\n",
    "import glob\n",
    "from skimage import io\n",
    "import matplotlib.pyplot as plt\n",
    "from sklearn.metrics import f1_score\n",
    "import pickle\n",
    "\n",
    "#### MODULES used in the code\n",
    "sys.path.insert(0,'/media/DATA/jbonato/astro_segm/U-net/pre_proc/')\n",
    "from img_Sp_Sharp import create_img\n",
    "from mask_roi_from_fiji import create_mask\n",
    "from gen_single_astro import save_im,tune_th\n",
    "\n",
    "sys.path.insert(0,'/media/DATA/jbonato/astro_segm/U-net/net/')\n",
    "from sel_active_reg_gen import *\n",
    "\n",
    "#SET IMAGES DIM\n",
    "N = 256 \n",
    "M = 256 \n",
    "\n",
    "# SET Parameters\n",
    "### dict active map extraction module\n",
    "# dict_param = {\n",
    "#     'list':[0,40,80,120,160],\n",
    "#     'blocks':15,\n",
    "#     'threads':32,\n",
    "#     'BPM_ratio':3,\n",
    "#     'bb':96,\n",
    "#     'N_pix_st':100, #starting minimum area\n",
    "#     'astr_min':80, # approx. 0.9 min in dataset\n",
    "#     'percentile': 80,\n",
    "#     'pad':5\n",
    "# }\n",
    "\n",
    "dict_param = {\n",
    "    'list':[i for i in range(0,400,30)],\n",
    "    'blocks':28,\n",
    "    'threads':20,\n",
    "    'BPM_ratio':2,\n",
    "    'bb':40,    \n",
    "    'N_pix_st':35, #starting minimum area\n",
    "    'astr_min':17, # approx. 0.9 min in dataset\n",
    "    'percentile': 90,\n",
    "    'pad':5\n",
    "}\n",
    "dict_param['cnt_min']=60\n",
    "dict_param"
   ]
  },
  {
   "cell_type": "markdown",
   "metadata": {},
   "source": [
    "# Get Somata Area"
   ]
  },
  {
   "cell_type": "code",
   "execution_count": null,
   "metadata": {},
   "outputs": [],
   "source": []
  },
  {
   "cell_type": "code",
   "execution_count": 35,
   "metadata": {},
   "outputs": [],
   "source": [
    "import numpy as np\n",
    "from skimage import io\n",
    "import matplotlib.pyplot as plt\n",
    "import cv2\n",
    "from sklearn.externals.joblib import Parallel, delayed\n",
    "from skimage.restoration import denoise_nl_means,estimate_sigma\n",
    "from scipy import signal\n",
    "from joblib import Parallel, delayed\n",
    "import os\n",
    "import h5py\n",
    "from numba import cuda,float32,uint16,float64  \n",
    "\n",
    "\n",
    "@cuda.jit\n",
    "def sel_active_gpu(T,per_mat,stack,im_out,cover,BPM_ratio,stp):\n",
    "    b_dimx = cuda.blockDim.x\n",
    "    b_dimy = cuda.blockDim.y\n",
    "    \n",
    "    bx = cuda.blockIdx.x  \n",
    "    by = cuda.blockIdx.y\n",
    "            \n",
    "    tx = cuda.threadIdx.x\n",
    "    ty = cuda.threadIdx.y\n",
    "\n",
    "    for bz in range(T):\n",
    "        if stack[bz,(bx//BPM_ratio)*stp+(bx%BPM_ratio)*b_dimx+tx,(by//BPM_ratio)*stp+(by%BPM_ratio)*b_dimy+ty] >= per_mat[bz,bx//BPM_ratio,by//BPM_ratio]:\n",
    "            cuda.atomic.add(im_out,(bz,(bx//BPM_ratio)*stp+(bx%BPM_ratio)*b_dimx+tx,(by//BPM_ratio)*stp+(by%BPM_ratio)*b_dimy+ty),1)\n",
    "   \n",
    "        cuda.atomic.add(cover,(bz,(bx//BPM_ratio)*stp+(bx%BPM_ratio)*b_dimx+tx,(by//BPM_ratio)*stp+(by%BPM_ratio)*b_dimy+ty),1)\n",
    "\n",
    "def percent_matrix_par(stack,t,listx,bb,per_tile):\n",
    "    listy = listx\n",
    "    dim = len(listx)\n",
    "    matrix= t*np.ones((dim+1,dim),dtype=np.float32)\n",
    "    \n",
    "    for i in range(dim):\n",
    "        for j in range(dim):\n",
    "            \n",
    "            x = listx[i] \n",
    "            y = listy[j]\n",
    "            matrix[i,j] = np.percentile(stack[t,x:x+bb,y:y+bb],per_tile)  \n",
    "         \n",
    "    return matrix.astype(np.float32)    \n",
    "\n",
    "def sel_active_reg_gpu(stack,dict_params,verbose=True):\n",
    "    \n",
    "    step_list = dict_params['list']\n",
    "    stp = step_list[1]-step_list[0]\n",
    "    blocks = dict_params['blocks']\n",
    "    threads = dict_params['threads']\n",
    "    BPM_ratio = dict_params['BPM_ratio']#block percent_mat ratio\n",
    "    bb = dict_params['bb']\n",
    "    \n",
    "    N_pix_st = dict_params['N_pix_st']\n",
    "    astr_min = dict_params['astr_min']\n",
    "    per_tile = dict_params['percentile']\n",
    "    cnt_min =  dict_params['cnt_min']\n",
    "    \n",
    "    T,N,M =stack.shape\n",
    "    cuda.select_device(2)    \n",
    "    ### allocate in ram\n",
    "    im_out = np.zeros((T,N,M),dtype=np.float32)\n",
    "    cover = np.zeros((T,N,M),dtype=np.intc)\n",
    "    ### allocate and load in DRAM\n",
    "    stack_gpu = cuda.to_device(stack.astype(np.float64))\n",
    "    im_out_g = cuda.to_device(im_out)\n",
    "    cover_g = cuda.to_device(cover)\n",
    " \n",
    "    threadsperblock = (threads,threads)\n",
    "    blockspergrid = (blocks,blocks)\n",
    "    # compute percentile in patches\n",
    "    percent_list = Parallel(n_jobs=10)(delayed(percent_matrix_par) (stack,i,step_list,bb,per_tile) for i in range(T))\n",
    "    percentiles = np.asarray(percent_list)\n",
    "    mat_per = percentiles[:,:-1,:]\n",
    "    \n",
    "    mat_per = mat_per[percentiles[:,-1,0].astype(np.int32),:,:]# reorder the embarasing parallel collection of mat\n",
    "    print(mat_per.shape)\n",
    "    ### allocate percentile matrix\n",
    "    mat_per_g = cuda.to_device(mat_per)    \n",
    "    sel_active_gpu[blockspergrid, threadsperblock](T,mat_per_g,stack_gpu,im_out_g,cover_g,BPM_ratio,stp)\n",
    "    im_out = im_out_g.copy_to_host()\n",
    "    cover = cover_g.copy_to_host()\n",
    "    mask_tot  = im_out/cover    \n",
    "          \n",
    "    \n",
    "    #th_ =round(T*0.6)\n",
    "    th_ = round(T*0.5)\n",
    "   \n",
    "    cnt=0\n",
    "    starting_th = th_\n",
    "    flag_th=True\n",
    "    N_pix = N_pix_st\n",
    "    while(cnt<cnt_min and N_pix>=N_pix_st*0.3 and th_>round(T*0.3)):\n",
    "        if flag_th:\n",
    "            mask_tot_s = np.sum(mask_tot,axis=0)\n",
    "            mask_tot_s[mask_tot_s<=th_]=0\n",
    "            mask_tot_s[mask_tot_s>0.5]=255\n",
    "            mask_tot_s= np.uint8(mask_tot_s)    \n",
    "            ret, labels_r = cv2.connectedComponents(mask_tot_s)\n",
    "            flag_th = False\n",
    "    \n",
    "        labels = labels_r.copy()\n",
    "        cnt=0\n",
    "        for i in range(1, ret):\n",
    "            pts =  np.where(labels == i)    \n",
    "\n",
    "            if len(pts[0]) < N_pix:\n",
    "                  \n",
    "                labels[pts] = 0\n",
    "            else:\n",
    "                cnt+=1\n",
    "               \n",
    "                labels[pts] = 255         \n",
    "        \n",
    "        N_pix-=10\n",
    "        if N_pix<=astr_min and (starting_th-th_)<105:\n",
    "            \n",
    "            th_-=25\n",
    "            flag_th = True  \n",
    "            N_pix=N_pix_st\n",
    "            \n",
    "    if verbose:\n",
    "        print('Zones',cnt)\n",
    "    ret, labels = cv2.connectedComponents(np.uint8(labels))\n",
    "    for i in range(1, ret):\n",
    "        pts =  np.where(labels == i)    \n",
    "        if len(pts[0])<astr_min//4:\n",
    "            labels[pts]=0\n",
    "    labels[labels>0]=1\n",
    "    return labels"
   ]
  },
  {
   "cell_type": "code",
   "execution_count": 37,
   "metadata": {},
   "outputs": [
    {
     "name": "stdout",
     "output_type": "stream",
     "text": [
      "/media/DATA/jbonato/segm_project/set_large/1/ ['/media/DATA/jbonato/segm_project/set_large/1/TSeries-06072018-1654-1089_Ch2__movie_corrected_aligned_im_enh.tif', '/media/DATA/jbonato/segm_project/set_large/1/TSeries-06072018-1654-1089_Ch2__movie_corrected_aligned.tiff']\n",
      "<KeysViewHDF5 ['Values_soma']>\n",
      "(250, 14, 14)\n",
      "(430, 430)\n"
     ]
    }
   ],
   "source": [
    "path = '/media/DATA/jbonato/segm_project/set_large/'\n",
    "res = np.empty((24,7))\n",
    "fov = 0\n",
    "for j in range(1,2):\n",
    "    if j !=20:\n",
    "        \n",
    "        if len(str(j))==1:\n",
    "            test_folder_str='00'+str(j)\n",
    "        else:\n",
    "            test_folder_str='0'+str(j)\n",
    "        \n",
    "        path_f = path+str(j)+'/'\n",
    "        item = glob.glob(path_f+'*')\n",
    "        print(path_f,item)\n",
    "        item = [i for i in item if not('enh' in i)]\n",
    "        stack = io.imread(item[0])\n",
    "        stack = stack[:,3:-2,3:-2]\n",
    "        T,N,_ = stack.shape\n",
    "        \n",
    "        Res_file_path='/media/DATA/jbonato/segm_project/set_large/dataset/SMALL_'+test_folder_str+'_nf.hdf5'\n",
    "        \n",
    "        Res_mat = np.empty((N,N,2))\n",
    "        dset= h5py.File(Res_file_path,'r') \n",
    "        print(dset.keys())\n",
    "        Res_mat[:,:,0] =  np.asarray(dset['Values_soma'])\n",
    "        #Res_mat[:,:,1] =  np.asarray(dset['Values_soma'])\n",
    "\n",
    "        qq =sel_active_reg_gpu(stack,dict_param,verbose=False)\n",
    "        print(qq.shape)"
   ]
  },
  {
   "cell_type": "code",
   "execution_count": 38,
   "metadata": {},
   "outputs": [
    {
     "data": {
      "text/plain": [
       "<matplotlib.image.AxesImage at 0x7ff36287f5c0>"
      ]
     },
     "execution_count": 38,
     "metadata": {},
     "output_type": "execute_result"
    },
    {
     "data": {
      "image/png": "[encoded data removed]",
      "text/plain": [
       "<Figure size 432x288 with 1 Axes>"
      ]
     },
     "metadata": {
      "needs_background": "light"
     },
     "output_type": "display_data"
    }
   ],
   "source": [
    "plt.imshow(qq)\n"
   ]
  },
  {
   "cell_type": "markdown",
   "metadata": {},
   "source": [
    "# Compute Thresholds in Local Activity filter"
   ]
  },
  {
   "cell_type": "code",
   "execution_count": 4,
   "metadata": {},
   "outputs": [
    {
     "name": "stdout",
     "output_type": "stream",
     "text": [
      "/media/DATA/jbonato/segm_project/set/1/ ['/media/DATA/jbonato/segm_project/set/1/TSeries-04082019-1513-1250_Ch2__movie_corrected_aligned.tiff']\n",
      "/media/DATA/jbonato/segm_project/set/2/ ['/media/DATA/jbonato/segm_project/set/2/TSeries-04082019-1513-1251_Ch2__movie_corrected_aligned.tiff']\n",
      "/media/DATA/jbonato/segm_project/set/3/ ['/media/DATA/jbonato/segm_project/set/3/TSeries-04082019-1513-1252_Ch2__movie_corrected_aligned.tiff']\n",
      "/media/DATA/jbonato/segm_project/set/4/ ['/media/DATA/jbonato/segm_project/set/4/TSeries-04112019-1605-1257_Ch2__movie_corrected_aligned.tiff']\n",
      "/media/DATA/jbonato/segm_project/set/5/ ['/media/DATA/jbonato/segm_project/set/5/TSeries-04112019-1605-1258_Ch2__movie_corrected_aligned.tiff']\n",
      "/media/DATA/jbonato/segm_project/set/6/ ['/media/DATA/jbonato/segm_project/set/6/TSeries-04112019-1605-1266_Ch2__movie_corrected_aligned.tiff']\n",
      "/media/DATA/jbonato/segm_project/set/7/ ['/media/DATA/jbonato/segm_project/set/7/TSeries-04112019-1605-1267_Ch2__movie_corrected_aligned.tiff']\n",
      "/media/DATA/jbonato/segm_project/set/8/ ['/media/DATA/jbonato/segm_project/set/8/TSeries-04112019-1605-1268_Ch2__movie_corrected_aligned.tiff']\n",
      "/media/DATA/jbonato/segm_project/set/9/ ['/media/DATA/jbonato/segm_project/set/9/TSeries-04172019-1817-1280_Ch2__movie_corrected_aligned.tiff']\n",
      "/media/DATA/jbonato/segm_project/set/10/ ['/media/DATA/jbonato/segm_project/set/10/TSeries-04172019-1817-1281_Ch2__movie_corrected_aligned.tiff']\n",
      "/media/DATA/jbonato/segm_project/set/11/ ['/media/DATA/jbonato/segm_project/set/11/TSeries-04172019-1817-1282_Ch2__movie_corrected_aligned.tiff']\n",
      "/media/DATA/jbonato/segm_project/set/12/ ['/media/DATA/jbonato/segm_project/set/12/TSeries-04172019-1817-1287_Ch2__movie_corrected_aligned.tiff']\n",
      "/media/DATA/jbonato/segm_project/set/13/ ['/media/DATA/jbonato/segm_project/set/13/TSeries-04172019-1817-1288_Ch2__movie_corrected_aligned.tiff']\n",
      "/media/DATA/jbonato/segm_project/set/14/ ['/media/DATA/jbonato/segm_project/set/14/TSeries-04172019-1817-1289_Ch2__movie_corrected_aligned.tiff']\n",
      "/media/DATA/jbonato/segm_project/set/15/ ['/media/DATA/jbonato/segm_project/set/15/TSeries-04182019-1453-1295_Ch2__movie_corrected_aligned.tiff']\n",
      "/media/DATA/jbonato/segm_project/set/16/ ['/media/DATA/jbonato/segm_project/set/16/TSeries-06072018-1654-1094_Ch2__movie_corrected_aligned.tiff']\n",
      "/media/DATA/jbonato/segm_project/set/17/ ['/media/DATA/jbonato/segm_project/set/17/TSeries-07192018-1913-1119_Ch2__movie_corrected_aligned.tiff']\n",
      "/media/DATA/jbonato/segm_project/set/18/ ['/media/DATA/jbonato/segm_project/set/18/TSeries-07262018-1151-1126_Ch2__movie_corrected_aligned.tiff']\n",
      "/media/DATA/jbonato/segm_project/set/19/ ['/media/DATA/jbonato/segm_project/set/19/TSeries-07262018-1151-1129_Ch2__movie_corrected_aligned.tiff']\n",
      "/media/DATA/jbonato/segm_project/set/21/ ['/media/DATA/jbonato/segm_project/set/21/TSeries-09042017-1020-547_Cycle00001_Ch2_0000movieNoRM4Iteration.tif']\n",
      "/media/DATA/jbonato/segm_project/set/22/ ['/media/DATA/jbonato/segm_project/set/22/TSeries-09042017-1020-551_Cycle00001_Ch2_0000movieNoRM4Iteration.tif']\n",
      "/media/DATA/jbonato/segm_project/set/23/ ['/media/DATA/jbonato/segm_project/set/23/TSeries-09052017-1126-559_Cycle00001_Ch2_0000movieNoRM4Iteration.tif']\n",
      "/media/DATA/jbonato/segm_project/set/24/ ['/media/DATA/jbonato/segm_project/set/24/TSeries-09052017-1126-564_Cycle00001_Ch2_0000movieNoRM4Iteration.tif']\n",
      "/media/DATA/jbonato/segm_project/set/25/ ['/media/DATA/jbonato/segm_project/set/25/TSeries-09052017-1126-572_Cycle00001_Ch2_0000movie_momovieNoRM4Iteration.tif']\n"
     ]
    }
   ],
   "source": [
    "path = '/media/DATA/jbonato/segm_project/set/'\n",
    "res = np.empty((4,2,25))\n",
    "fov = 0\n",
    "for j in range(1,26):\n",
    "    if j !=20:\n",
    "        \n",
    "        if len(str(j))==1:\n",
    "            test_folder_str='00'+str(j)\n",
    "        else:\n",
    "            test_folder_str='0'+str(j)\n",
    "        \n",
    "        path_f = path+str(j)+'/'\n",
    "        item = glob.glob(path_f+'*')\n",
    "        print(path_f,item)\n",
    "\n",
    "        stack = io.imread(item[0])\n",
    "        T,N,_ = stack.shape\n",
    "        \n",
    "        Res_file_path='/media/DATA/jbonato/segm_project/set/dataset/SMALL_'+test_folder_str+'_nf.hdf5'\n",
    "        Res_mat = np.empty((N,N,2))\n",
    "        dset= h5py.File(Res_file_path,'r') \n",
    "        Res_mat[:,:,0] =  np.asarray(dset['Values'])\n",
    "        Res_mat[:,:,1] =  np.asarray(dset['Values_soma'])\n",
    "\n",
    "\n",
    "        maskGT = np.sum(Res_mat,axis=2)\n",
    "        maskGT[maskGT>1]=1\n",
    "        \n",
    "        th_res = tune_th(stack,mask=Res_mat,BB_dim=86)\n",
    "        thre = th_res.save_im()\n",
    "        if j>20:\n",
    "            res[:,:,j-1] = thre\n",
    "        else:\n",
    "            res[:,:,j] = thre\n",
    "\n"
   ]
  },
  {
   "cell_type": "code",
   "execution_count": 11,
   "metadata": {},
   "outputs": [
    {
     "name": "stdout",
     "output_type": "stream",
     "text": [
      "(4, 2)\n"
     ]
    },
    {
     "data": {
      "text/plain": [
       "Text(0.5, 1.0, 'Processes')"
      ]
     },
     "execution_count": 11,
     "metadata": {},
     "output_type": "execute_result"
    },
    {
     "data": {
      "image/png": "[encoded data removed]",
      "text/plain": [
       "<Figure size 1080x288 with 2 Axes>"
      ]
     },
     "metadata": {
      "needs_background": "light"
     },
     "output_type": "display_data"
    }
   ],
   "source": [
    "vec = np.mean(res,axis=2)\n",
    "err = np.std(res,axis=2)\n",
    "print(vec.shape)\n",
    "fig,[ax1,ax2] = plt.subplots(figsize=(15,4),ncols=2,nrows=1)\n",
    "ax1.errorbar(np.arange(4),vec[:,0],yerr=err[:,0])\n",
    "ax2.errorbar(np.arange(4),vec[:,1],yerr=err[:,1])\n",
    "ax1.set_xticks(np.arange(4))\n",
    "ax2.set_xticks(np.arange(4))\n",
    "ax1.set_xticklabels([0.3,0.25,0.20,0.15])\n",
    "ax2.set_xticklabels([0.15,0.1,0.07,0.05])\n",
    "ax1.hlines(xmin=0,xmax=4,y=5,linestyles='dotted')\n",
    "ax2.hlines(xmin=0,xmax=4,y=5,linestyles='dotted')\n",
    "ax1.set_title('Somata')\n",
    "ax1.set_title('Processes')"
   ]
  },
  {
   "cell_type": "code",
   "execution_count": 14,
   "metadata": {},
   "outputs": [],
   "source": [
    "dict_param['th1_p']=0.25\n",
    "dict_param['th2_p']=0.1"
   ]
  },
  {
   "cell_type": "markdown",
   "metadata": {},
   "source": [
    "# Activity Map Generator: Set percentile"
   ]
  },
  {
   "cell_type": "code",
   "execution_count": 3,
   "metadata": {},
   "outputs": [
    {
     "name": "stdout",
     "output_type": "stream",
     "text": [
      "/media/DATA/jbonato/segm_project/set/1/ ['/media/DATA/jbonato/segm_project/set/1/TSeries-04082019-1513-1250_Ch2__movie_corrected_aligned.tiff']\n",
      "/media/DATA/jbonato/segm_project/set/2/ ['/media/DATA/jbonato/segm_project/set/2/TSeries-04082019-1513-1251_Ch2__movie_corrected_aligned.tiff']\n",
      "/media/DATA/jbonato/segm_project/set/3/ ['/media/DATA/jbonato/segm_project/set/3/TSeries-04082019-1513-1252_Ch2__movie_corrected_aligned.tiff']\n",
      "/media/DATA/jbonato/segm_project/set/4/ ['/media/DATA/jbonato/segm_project/set/4/TSeries-04112019-1605-1257_Ch2__movie_corrected_aligned.tiff']\n",
      "/media/DATA/jbonato/segm_project/set/5/ ['/media/DATA/jbonato/segm_project/set/5/TSeries-04112019-1605-1258_Ch2__movie_corrected_aligned.tiff']\n",
      "/media/DATA/jbonato/segm_project/set/6/ ['/media/DATA/jbonato/segm_project/set/6/TSeries-04112019-1605-1266_Ch2__movie_corrected_aligned.tiff']\n",
      "/media/DATA/jbonato/segm_project/set/7/ ['/media/DATA/jbonato/segm_project/set/7/TSeries-04112019-1605-1267_Ch2__movie_corrected_aligned.tiff']\n",
      "/media/DATA/jbonato/segm_project/set/8/ ['/media/DATA/jbonato/segm_project/set/8/TSeries-04112019-1605-1268_Ch2__movie_corrected_aligned.tiff']\n",
      "/media/DATA/jbonato/segm_project/set/9/ ['/media/DATA/jbonato/segm_project/set/9/TSeries-04172019-1817-1280_Ch2__movie_corrected_aligned.tiff']\n",
      "/media/DATA/jbonato/segm_project/set/10/ ['/media/DATA/jbonato/segm_project/set/10/TSeries-04172019-1817-1281_Ch2__movie_corrected_aligned.tiff']\n",
      "/media/DATA/jbonato/segm_project/set/11/ ['/media/DATA/jbonato/segm_project/set/11/TSeries-04172019-1817-1282_Ch2__movie_corrected_aligned.tiff']\n",
      "/media/DATA/jbonato/segm_project/set/12/ ['/media/DATA/jbonato/segm_project/set/12/TSeries-04172019-1817-1287_Ch2__movie_corrected_aligned.tiff']\n",
      "/media/DATA/jbonato/segm_project/set/13/ ['/media/DATA/jbonato/segm_project/set/13/TSeries-04172019-1817-1288_Ch2__movie_corrected_aligned.tiff']\n",
      "/media/DATA/jbonato/segm_project/set/14/ ['/media/DATA/jbonato/segm_project/set/14/TSeries-04172019-1817-1289_Ch2__movie_corrected_aligned.tiff']\n",
      "/media/DATA/jbonato/segm_project/set/15/ ['/media/DATA/jbonato/segm_project/set/15/TSeries-04182019-1453-1295_Ch2__movie_corrected_aligned.tiff']\n",
      "/media/DATA/jbonato/segm_project/set/16/ ['/media/DATA/jbonato/segm_project/set/16/TSeries-06072018-1654-1094_Ch2__movie_corrected_aligned.tiff']\n",
      "/media/DATA/jbonato/segm_project/set/17/ ['/media/DATA/jbonato/segm_project/set/17/TSeries-07192018-1913-1119_Ch2__movie_corrected_aligned.tiff']\n",
      "/media/DATA/jbonato/segm_project/set/18/ ['/media/DATA/jbonato/segm_project/set/18/TSeries-07262018-1151-1126_Ch2__movie_corrected_aligned.tiff']\n",
      "/media/DATA/jbonato/segm_project/set/19/ ['/media/DATA/jbonato/segm_project/set/19/TSeries-07262018-1151-1129_Ch2__movie_corrected_aligned.tiff']\n",
      "/media/DATA/jbonato/segm_project/set/21/ ['/media/DATA/jbonato/segm_project/set/21/TSeries-09042017-1020-547_Cycle00001_Ch2_0000movieNoRM4Iteration.tif']\n",
      "/media/DATA/jbonato/segm_project/set/22/ ['/media/DATA/jbonato/segm_project/set/22/TSeries-09042017-1020-551_Cycle00001_Ch2_0000movieNoRM4Iteration.tif']\n",
      "/media/DATA/jbonato/segm_project/set/23/ ['/media/DATA/jbonato/segm_project/set/23/TSeries-09052017-1126-559_Cycle00001_Ch2_0000movieNoRM4Iteration.tif']\n",
      "/media/DATA/jbonato/segm_project/set/24/ ['/media/DATA/jbonato/segm_project/set/24/TSeries-09052017-1126-564_Cycle00001_Ch2_0000movieNoRM4Iteration.tif']\n",
      "/media/DATA/jbonato/segm_project/set/25/ ['/media/DATA/jbonato/segm_project/set/25/TSeries-09052017-1126-572_Cycle00001_Ch2_0000movie_momovieNoRM4Iteration.tif']\n"
     ]
    }
   ],
   "source": [
    "path = '/media/DATA/jbonato/segm_project/set/'\n",
    "res = np.empty((24,7))\n",
    "fov = 0\n",
    "for j in range(1,26):\n",
    "    if j !=20:\n",
    "        \n",
    "        if len(str(j))==1:\n",
    "            test_folder_str='00'+str(j)\n",
    "        else:\n",
    "            test_folder_str='0'+str(j)\n",
    "        \n",
    "        path_f = path+str(j)+'/'\n",
    "        item = glob.glob(path_f+'*')\n",
    "        print(path_f,item)\n",
    "\n",
    "        stack = io.imread(item[0])\n",
    "        T,N,_ = stack.shape\n",
    "        \n",
    "        Res_file_path='/media/DATA/jbonato/segm_project/set/dataset/SMALL_'+test_folder_str+'_nf.hdf5'\n",
    "        Res_mat = np.empty((N,N,2))\n",
    "        dset= h5py.File(Res_file_path,'r') \n",
    "        Res_mat[:,:,0] =  np.asarray(dset['Values'])\n",
    "        Res_mat[:,:,1] =  np.asarray(dset['Values_soma'])\n",
    "\n",
    "\n",
    "        maskGT = np.sum(Res_mat,axis=2)\n",
    "        maskGT[maskGT>1]=1\n",
    "        iter_ = 0\n",
    "        for i in [30,40,50,60,70,80,90]:\n",
    "            \n",
    "            dict_param['percentile'] = i \n",
    "            \n",
    "            mask = sel_active_reg_gpu(stack,dict_param,verbose=False)\n",
    "            res[fov,iter_] = f1_score(maskGT.flatten(), mask.flatten(), average='binary')\n",
    "            iter_+=1\n",
    "        fov+=1"
   ]
  },
  {
   "cell_type": "code",
   "execution_count": 5,
   "metadata": {},
   "outputs": [
    {
     "data": {
      "image/png": "[encoded data removed]",
      "text/plain": [
       "<Figure size 720x576 with 1 Axes>"
      ]
     },
     "metadata": {
      "needs_background": "light"
     },
     "output_type": "display_data"
    }
   ],
   "source": [
    "fig, ax = plt.subplots(figsize=(10,8),ncols = 1, nrows = 1)\n",
    "\n",
    "ax.errorbar(np.arange(7),np.nanmean(res,axis=0),yerr=np.nanstd(res,axis=0),fmt='--', marker='s')\n",
    "ax.set_xticklabels(labels =[0,30,40,50,60,70,80,90],fontsize=16)\n",
    "\n",
    "ax.set_xlabel('Percentile values',fontsize=16)\n",
    "ax.set_ylabel('F1-score',fontsize=16)\n",
    "ax.tick_params(axis=\"y\", labelsize=16)\n"
   ]
  },
  {
   "cell_type": "code",
   "execution_count": 15,
   "metadata": {},
   "outputs": [],
   "source": [
    "dict_param['percentile']=80"
   ]
  },
  {
   "cell_type": "markdown",
   "metadata": {},
   "source": [
    "# Save Dictionary values"
   ]
  },
  {
   "cell_type": "code",
   "execution_count": 16,
   "metadata": {},
   "outputs": [],
   "source": [
    "set_dir='/media/DATA/jbonato/astro_segm/set/.tmp/'\n",
    "\n",
    "if not(os.path.exists(set_dir)):\n",
    "    os.mkdir(set_dir)\n",
    "    print('Created',set_dir)\n",
    "    \n",
    "with open(set_dir+'dict_dataset1.txt', \"wb\") as fp:   #Pickling\n",
    "    pickle.dump(dict_param, fp)"
   ]
  },
  {
   "cell_type": "code",
   "execution_count": 10,
   "metadata": {},
   "outputs": [
    {
     "data": {
      "text/plain": [
       "{'list': [0, 40, 80, 120, 160],\n",
       " 'blocks': 15,\n",
       " 'threads': 32,\n",
       " 'BPM_ratio': 3,\n",
       " 'bb': 96,\n",
       " 'N_pix_st': 100,\n",
       " 'astr_min': 80,\n",
       " 'percentile': 80,\n",
       " 'pad': 5}"
      ]
     },
     "execution_count": 10,
     "metadata": {},
     "output_type": "execute_result"
    }
   ],
   "source": []
  },
  {
   "cell_type": "code",
   "execution_count": 11,
   "metadata": {},
   "outputs": [
    {
     "data": {
      "text/plain": [
       "{'list': [0, 40, 80, 120, 160],\n",
       " 'blocks': 15,\n",
       " 'threads': 32,\n",
       " 'BPM_ratio': 3,\n",
       " 'bb': 96,\n",
       " 'N_pix_st': 100,\n",
       " 'astr_min': 80,\n",
       " 'percentile': 80,\n",
       " 'pad': 5}"
      ]
     },
     "execution_count": 11,
     "metadata": {},
     "output_type": "execute_result"
    }
   ],
   "source": []
  },
  {
   "cell_type": "code",
   "execution_count": null,
   "metadata": {},
   "outputs": [],
   "source": []
  }
 ],
 "metadata": {
  "kernelspec": {
   "display_name": "Python 3",
   "language": "python",
   "name": "python3"
  },
  "language_info": {
   "codemirror_mode": {
    "name": "ipython",
    "version": 3
   },
   "file_extension": ".py",
   "mimetype": "text/x-python",
   "name": "python",
   "nbconvert_exporter": "python",
   "pygments_lexer": "ipython3",
   "version": "3.6.8"
  }
 },
 "nbformat": 4,
 "nbformat_minor": 4
}
