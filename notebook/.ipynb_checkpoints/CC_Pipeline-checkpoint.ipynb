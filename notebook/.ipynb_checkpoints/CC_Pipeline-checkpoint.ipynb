{
 "cells": [
  {
   "cell_type": "markdown",
   "metadata": {},
   "source": [
    "# In this notbeook threse is an application of the CrossCorrelation module\n",
    "\n"
   ]
  },
  {
   "cell_type": "code",
   "execution_count": 83,
   "metadata": {},
   "outputs": [],
   "source": [
    "from __future__ import print_function\n",
    "#%matplotlib inline\n",
    "import argparse\n",
    "import os\n",
    "import random\n",
    "import torch\n",
    "import torch.nn.functional as F\n",
    "import numpy as np\n",
    "import cv2\n",
    "import glob\n",
    "import os\n",
    "from skimage import io\n",
    "import h5py\n",
    "import matplotlib.pyplot as plt\n",
    "import numpy.ma as ma\n",
    "import matplotlib.pyplot as plt\n",
    "import matplotlib.animation as animation\n",
    "from IPython.display import HTML\n",
    "\n",
    "import sys\n",
    "sys.path.insert(0,'/media/DATA/jbonato/astro_segm/U-net/modules/')\n",
    "from CC import *\n",
    "from test_fun import gen_sc_mask\n"
   ]
  },
  {
   "cell_type": "markdown",
   "metadata": {},
   "source": [
    "## Rocording loading\n"
   ]
  },
  {
   "cell_type": "code",
   "execution_count": 84,
   "metadata": {},
   "outputs": [],
   "source": [
    "device1 = torch.device('cuda:0' if torch.cuda.is_available() else 'cpu')\n",
    "#device = torch.device('cpu')\n",
    "num = '2'\n",
    "query = '00'+num\n",
    "stack_path = '/media/DATA/jbonato/segm_project/set/'+num+'/'\n",
    "item = glob.glob(stack_path+'*')\n",
    "stack_o = io.imread(item[0])"
   ]
  },
  {
   "cell_type": "code",
   "execution_count": 85,
   "metadata": {},
   "outputs": [],
   "source": [
    "plot_video = False\n",
    "if plot_video:\n",
    "    im_list = []\n",
    "    for i in range(100):\n",
    "        im_list.append(stack_o[i,:,:])\n",
    "\n",
    "    fig = plt.figure(figsize=(8,8))\n",
    "    plt.axis(\"off\")\n",
    "    ims = [[plt.imshow(i, animated=True)] for i in im_list]\n",
    "\n",
    "    ani = animation.ArtistAnimation(fig, ims, interval=1, repeat_delay=1000, blit=True)\n",
    "\n",
    "    HTML(ani.to_jshtml())\n",
    "\n",
    "    \n"
   ]
  },
  {
   "cell_type": "code",
   "execution_count": 86,
   "metadata": {},
   "outputs": [],
   "source": [
    "frame,N,M = stack_o.shape\n",
    "mask = np.zeros((N,M,2))\n",
    "Res_file_path='/media/DATA/jbonato/segm_project/U-net/Results/dense_up/SMALL_'+query+'.hdf5'\n",
    "dset= h5py.File(Res_file_path,'r') \n",
    "mask[:,:,0] =  np.asarray(dset['Values'])\n",
    "mask[:,:,1] =  np.asarray(dset['Values_soma'])\n",
    "mask_pl = mask.copy()\n",
    "mask[:4,:,:]=0\n",
    "mask[-4:,:,:]=0\n",
    "mask[:,:4,:]=0\n",
    "mask[:,-4:,:]=0\n",
    "### insert the mask splitter"
   ]
  },
  {
   "cell_type": "code",
   "execution_count": 87,
   "metadata": {},
   "outputs": [
    {
     "name": "stdout",
     "output_type": "stream",
     "text": [
      "1\n",
      "1\n",
      "1\n",
      "1\n",
      "1\n"
     ]
    }
   ],
   "source": [
    "#\n",
    "\n",
    "mask_sp = gen_sc_mask(mask)"
   ]
  },
  {
   "cell_type": "code",
   "execution_count": null,
   "metadata": {},
   "outputs": [],
   "source": []
  },
  {
   "cell_type": "code",
   "execution_count": 92,
   "metadata": {},
   "outputs": [
    {
     "name": "stdout",
     "output_type": "stream",
     "text": [
      "////////// CORR ANALysis //////////\n",
      "True\n"
     ]
    }
   ],
   "source": [
    "r = 60\n",
    "\n",
    "\n",
    "print(10*'/','CORR ANALysis',10*'/')\n",
    "\n",
    "stack = stack_o[:,:,:].copy()\n",
    "\n",
    "print(stack.flags['C_CONTIGUOUS'])\n",
    "\n",
    "####old\n",
    "mask_test_corr = np.empty((2,N,M))\n",
    "mask_test_corr[0,:,:] = mask[:,:,0]\n",
    "mask_test_corr[1,:,:] = mask[:,:,1]\n",
    "\n",
    "coord_st_l = []\n",
    "coord_cir_l = []\n",
    "for j in range(mask_sp.shape[0]):\n",
    "    a,b,_ = create_bb_coord_correlation(np.sum(mask_sp[j,:,:,:],axis=2)) \n",
    "    coord_st_l.append(a[0])\n",
    "    coord_cir_l.append(b[0])\n",
    "\n",
    "\n",
    "# err_corr = comp_err_correlation(coord_st_l,coord_cir_l,stack,mask_sp)\n",
    "# th_corr =err_corr.find_threshold()\n",
    "th_corr =0.85\n",
    "#######################\n",
    "\n",
    "mask_out  = np.zeros((256,256))\n",
    "mask_out2  = np.zeros((256,256))\n",
    "mask_single_corr = np.zeros((120,120,len(coord_st_l)))\n",
    "mask_single_corr2 = np.zeros((120,120,len(coord_st_l)))\n",
    "\n",
    "for j in range(mask_sp.shape[0]):\n",
    "    \n",
    "    #########################################pick coord\n",
    "    coord_bb = coord_st_l[j]\n",
    "    \n",
    "    ########################################define buffer\n",
    "    mask_crop = np.zeros((2,r*2,r*2))\n",
    "    mask_crop[0,:,:] = mask_sp[j,coord_bb[1]:coord_bb[3],coord_bb[0]:coord_bb[2],0]\n",
    "    mask_crop[1,:,:] = mask_sp[j,coord_bb[1]:coord_bb[3],coord_bb[0]:coord_bb[2],1]\n",
    "    \n",
    "    ########################################define stack for cross corr\n",
    "    stack_crop = np.empty((frame,120,120))\n",
    "    stack_crop = stack[:,coord_bb[1]:coord_bb[3],coord_bb[0]:coord_bb[2]].copy()\n",
    "    \n",
    "    #########################################definr map for selected pixels\n",
    "    map_ = np.zeros((256,256))\n",
    "    map_[coord_cir_l[j][0],coord_cir_l[j][1]]=1\n",
    "\n",
    "    ###### filter the corners from the stack and from buff mask other cell segmentation \n",
    "    stack_crop = stack_crop*map_[coord_bb[1]:coord_bb[3],coord_bb[0]:coord_bb[2]]\n",
    "    \n",
    "\n",
    "    if np.sum(mask_sp[j,:,:,0])!=0 and np.sum(mask_sp[j,:,:,1])!=0: \n",
    "       \n",
    "        out_tensor = corr_mask(mask_crop,stack_crop,device1,th_corr)\n",
    "        out_tensor_np = out_tensor[0,:,:].data.cpu().numpy()# + out_tensor[1,:,:].data.cpu().numpy()\n",
    "        out__ = out_tensor[0,:,:].data.cpu().numpy() + out_tensor[1,:,:].data.cpu().numpy()\n",
    "        del out_tensor\n",
    "        torch.cuda.empty_cache()\n",
    "        out_tensor_np = np.nan_to_num(out_tensor_np)\n",
    "        out_tensor_np[out_tensor_np>1]=1 \n",
    "        \n",
    "        mask_out[coord_bb[1]:coord_bb[3],coord_bb[0]:coord_bb[2]] +=   out_tensor_np\n",
    "        out__ = np.nan_to_num(out__)\n",
    "        out__[out__>1]=1 \n",
    "\n",
    "        mask_single_corr[:,:,j]=out_tensor_np\n",
    "        mask_single_corr2[:,:,j]=out__\n"
   ]
  },
  {
   "cell_type": "code",
   "execution_count": 97,
   "metadata": {},
   "outputs": [
    {
     "data": {
      "text/plain": [
       "<matplotlib.image.AxesImage at 0x7f2e1f5f6b00>"
      ]
     },
     "execution_count": 97,
     "metadata": {},
     "output_type": "execute_result"
    },
    {
     "data": {
      "image/png": "[encoded data removed]",
      "text/plain": [
       "<Figure size 432x288 with 1 Axes>"
      ]
     },
     "metadata": {
      "needs_background": "light"
     },
     "output_type": "display_data"
    }
   ],
   "source": [
    "plt.imshow(mask_single_corr2[:,:,4])"
   ]
  },
  {
   "cell_type": "code",
   "execution_count": 90,
   "metadata": {},
   "outputs": [
    {
     "data": {
      "text/plain": [
       "1.0"
      ]
     },
     "execution_count": 90,
     "metadata": {},
     "output_type": "execute_result"
    }
   ],
   "source": [
    "mask_single_corr2[:,:,0].max()"
   ]
  },
  {
   "cell_type": "code",
   "execution_count": 91,
   "metadata": {},
   "outputs": [
    {
     "data": {
      "text/plain": [
       "array([0., 1.])"
      ]
     },
     "execution_count": 91,
     "metadata": {},
     "output_type": "execute_result"
    }
   ],
   "source": [
    "np.unique(mask_single_corr2[:,:,0])"
   ]
  },
  {
   "cell_type": "code",
   "execution_count": null,
   "metadata": {},
   "outputs": [],
   "source": []
  }
 ],
 "metadata": {
  "kernelspec": {
   "display_name": "Python 3",
   "language": "python",
   "name": "python3"
  },
  "language_info": {
   "codemirror_mode": {
    "name": "ipython",
    "version": 3
   },
   "file_extension": ".py",
   "mimetype": "text/x-python",
   "name": "python",
   "nbconvert_exporter": "python",
   "pygments_lexer": "ipython3",
   "version": "3.6.8"
  }
 },
 "nbformat": 4,
 "nbformat_minor": 4
}
