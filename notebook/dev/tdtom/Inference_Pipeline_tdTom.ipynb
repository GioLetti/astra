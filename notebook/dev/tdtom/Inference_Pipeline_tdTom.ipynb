{
 "cells": [
  {
   "cell_type": "code",
   "execution_count": 1,
   "metadata": {},
   "outputs": [],
   "source": [
    "import numpy as np\n",
    "import numpy.ma as ma\n",
    "import os\n",
    "import h5py\n",
    "from skimage import io\n",
    "import matplotlib\n",
    "import matplotlib.pyplot as plt \n",
    "import pandas as pd\n",
    "import math\n",
    "import time\n",
    "import sys\n",
    "import pickle\n",
    "from visdom import Visdom\n",
    "\n",
    "import torch\n",
    "import torch.nn.functional as F\n",
    "from torch.utils.data import Dataset, DataLoader\n",
    "from torchvision import transforms, datasets, models\n",
    "from torchsummary import summary\n",
    "import torch.nn as nn\n",
    "import torch.optim as optim\n",
    "from torch.optim import lr_scheduler\n",
    "\n",
    "from collections import defaultdict\n",
    "from sklearn.metrics import f1_score\n",
    "import cv2\n",
    "import pandas as pd\n",
    "import h5py\n",
    "\n",
    "############### Visualization\n",
    "\n",
    "from ipywidgets import Button, Layout\n",
    "import ipywidgets as widgets\n",
    "from ipywidgets import HBox, VBox\n",
    "from IPython.display import display,clear_output,Video\n",
    "from copy import copy\n",
    "import numpy.ma as ma\n",
    "import matplotlib.colors as colors\n",
    "import imageio\n",
    "\n",
    "\n",
    "sys.path.insert(0,'/astro_folder/RASTA/modules/')\n",
    "from gen_single_astro  import filt_im\n",
    "from sel_active_reg_gen import *\n",
    "from model.dense_up import dense_up\n",
    "\n",
    "from test_fun import gen_sc_mask,fix_mask,prob_calc,small_soma_to_proc,common_merge,art_rem_large,art_rem\n",
    "\n",
    "from get_traces import update_dict_DNN\n",
    "from gui_results import layout\n",
    "from mask_roi_from_fiji import create_mask\n",
    "\n",
    "# model to import\n",
    "model = dense_up(3)\n",
    "device = torch.device('cuda:0' if torch.cuda.is_available() else 'cpu')\n",
    "device1 = torch.device('cpu')#('cuda:1' if torch.cuda.is_available() else 'cpu')\n",
    "model = model.to(device)\n",
    "\n",
    "\n",
    "###\n",
    "MAX_ROI_AREA_PROC=30\n",
    "MU_PX = 1\n",
    "DOMAIN_RADIUS = 60\n",
    "# motion corr in extracting traces\n",
    "motion_corr=True"
   ]
  },
  {
   "cell_type": "code",
   "execution_count": 2,
   "metadata": {},
   "outputs": [],
   "source": [
    "#!apt update && apt install -y libsm6 libxext6"
   ]
  },
  {
   "cell_type": "code",
   "execution_count": 3,
   "metadata": {},
   "outputs": [],
   "source": [
    "#!apt-get install -y libxrender-dev"
   ]
  },
  {
   "cell_type": "code",
   "execution_count": 4,
   "metadata": {},
   "outputs": [
    {
     "name": "stdout",
     "output_type": "stream",
     "text": [
      "/astro_folder/notebook/dev/tdtom\n"
     ]
    }
   ],
   "source": [
    "!pwd\n"
   ]
  },
  {
   "cell_type": "code",
   "execution_count": 5,
   "metadata": {},
   "outputs": [],
   "source": [
    "#PARAMS\n",
    "N=512\n",
    "M=512\n",
    "\n",
    "fov_list = [1]\n",
    "fov_DNN_weights_folder = '/astro_folder/weights/dense_up' \n",
    "set_dir='/astro_folder/set4/'"
   ]
  },
  {
   "cell_type": "code",
   "execution_count": 6,
   "metadata": {},
   "outputs": [],
   "source": [
    "class SimDataset_test(Dataset):\n",
    "    def __init__(self,image_set):\n",
    "        self.input_images = image_set    \n",
    "\n",
    "\n",
    "    def __len__(self):\n",
    "        return len(self.input_images)\n",
    "\n",
    "    def __getitem__(self, idx):        \n",
    "        image = self.input_images[idx]\n",
    "        image = torch.from_numpy(image).float()\n",
    "\n",
    "        return image\n",
    "\n",
    "    \n",
    "vis_flag = False\n",
    "##### LOAD PARAM DICT\n",
    "with open(set_dir+'.tmp/dict_dataset1.txt', \"rb\") as fp:   #Pickling\n",
    "    dict_param = pickle.load(fp)\n",
    "\n",
    "# dict_param"
   ]
  },
  {
   "cell_type": "code",
   "execution_count": 7,
   "metadata": {},
   "outputs": [],
   "source": [
    "dict_param['blocks']=17*2\n",
    "dict_param['threads']=24\n",
    "dict_param['BPM_ratio']=2\n",
    "\n",
    "dict_param['N_pix_st']=50\n",
    "dict_param['astr_min']=30\n",
    "\n",
    "dict_param['th1_p']=.2\n",
    "dict_param['th2_p']=.05\n",
    "\n",
    "dict_param['max_min']=np.asarray([345,30])\n",
    "\n",
    "dict_param['astro_num']=90\n",
    "dict_param['bb']=48\n",
    "dict_param['pad']=0\n",
    "dict_param['list']=[i*29 for i in range(17)]\n",
    "dict_param['decr_dim'] = 5\n",
    "dict_param['init_th'] = 0.5\n",
    "\n",
    "# dict_param['corr_int'] =16  \n",
    "max_min = dict_param['max_min']\n",
    "# dict_param"
   ]
  },
  {
   "cell_type": "code",
   "execution_count": 8,
   "metadata": {},
   "outputs": [],
   "source": [
    "# stack_dir = set_dir+'/4/TOMATO_14_Ch1__concatenate_corrected_aligned'\n",
    "# stack = io.imread(stack_dir + '.tiff').astype(np.uint16)[:750,:,:]\n",
    "# print(stack.shape)\n",
    "# stack[:,220:,0:60]=0\n",
    "\n",
    "# io.imsave(stack_dir + 'SupplementalMovie1_filt.tiff',stack)\n"
   ]
  },
  {
   "cell_type": "code",
   "execution_count": 9,
   "metadata": {},
   "outputs": [],
   "source": [
    "# # # stack.shape\n",
    "# for i in range(30,70):\n",
    "#     print(i,442/i)"
   ]
  },
  {
   "cell_type": "code",
   "execution_count": null,
   "metadata": {},
   "outputs": [],
   "source": []
  },
  {
   "cell_type": "code",
   "execution_count": null,
   "metadata": {},
   "outputs": [],
   "source": []
  },
  {
   "cell_type": "code",
   "execution_count": 10,
   "metadata": {},
   "outputs": [],
   "source": [
    "# # stack.shape\n",
    "# for i in range(20,40):\n",
    "#     print(i,464/i)"
   ]
  },
  {
   "cell_type": "code",
   "execution_count": 11,
   "metadata": {},
   "outputs": [],
   "source": [
    "# plt.figure(figsize=(10,10))\n",
    "# plt.imshow(np.median(stack,axis=0))"
   ]
  },
  {
   "cell_type": "code",
   "execution_count": 12,
   "metadata": {
    "jupyter": {
     "source_hidden": true
    }
   },
   "outputs": [],
   "source": [
    "import numpy as np\n",
    "from skimage import io\n",
    "import matplotlib.pyplot as plt\n",
    "import cv2\n",
    "from sklearn.externals.joblib import Parallel, delayed\n",
    "from skimage.restoration import denoise_nl_means,estimate_sigma\n",
    "from scipy import signal\n",
    "from joblib import Parallel, delayed\n",
    "import os\n",
    "import h5py\n",
    "from numba import cuda,float32,uint16,float64  \n",
    "\n",
    "class ThScal():\n",
    "    def __init__(self,stack):\n",
    "        kernel = np.ones((50,50),np.float32)/(50*50)\n",
    "        density = cv2.filter2D(np.median(stack,axis=0),-1,kernel)\n",
    "        self.density = density/np.amax(density)\n",
    "        \n",
    "    def ThMat(self,ff,th_):\n",
    "        N,M = ff.shape\n",
    "        mask_th = th_*np.ones((N,M))\n",
    "        \n",
    "        cnt=1\n",
    "        for i in [0.6,0.4,0.2,0]:\n",
    "            buff = self.density.copy()\n",
    "            buff[buff<i]=0\n",
    "            buff[buff>=i+0.2]=0\n",
    "            buff[buff>0]=1\n",
    "            mask_th-=buff*(th_*0.05*cnt)\n",
    "            cnt+=1\n",
    "\n",
    "        ff[ff<mask_th]=0\n",
    "        ff[ff>0]=1\n",
    "        return ff\n",
    "\n",
    "# @cuda.jit\n",
    "\n",
    "# (bz,blocks_to_load[stps],mat_per_g,stack_gpu,im_out_g,cover_g,self.BPM_ratio,self.stp,self.iter_block)\n",
    "\n",
    "# def sel_active_gpu(T,per_mat,stack,im_out,cover,BPM_ratio,stp,iter_block):\n",
    "#     b_dimx = cuda.blockDim.x\n",
    "#     b_dimy = cuda.blockDim.y\n",
    "    \n",
    "#     bx = cuda.blockIdx.x  \n",
    "#     by = cuda.blockIdx.y\n",
    "            \n",
    "#     tx = cuda.threadIdx.x\n",
    "#     ty = cuda.threadIdx.y\n",
    "\n",
    "#     for bz in range(T):\n",
    "#         if stack[bz,(bx//BPM_ratio)*stp+(bx%BPM_ratio)*b_dimx+tx,(by//BPM_ratio)*stp+(by%BPM_ratio)*b_dimy+ty] >= per_mat[bz,bx//BPM_ratio,by//BPM_ratio]:\n",
    "#             cuda.atomic.add(im_out,(bz,(bx//BPM_ratio)*stp+(bx%BPM_ratio)*b_dimx+tx,(by//BPM_ratio)*stp+(by%BPM_ratio)*b_dimy+ty),1)\n",
    "   \n",
    "#         cuda.atomic.add(cover,(bz,(bx//BPM_ratio)*stp+(bx%BPM_ratio)*b_dimx+tx,(by//BPM_ratio)*stp+(by%BPM_ratio)*b_dimy+ty),1)\n",
    "\n",
    "@cuda.jit#(\"void(int64,int64,float64[:,:,:],int32[:,:,:],int32[:,:],int32[:,:],int64,int64,int64)\")#\",int32,int32,int32)\")\n",
    "def sel_active_gpu(bz,time_ref,per_mat,stack,im_out,cover,BPM_ratio,stp,iter_block):\n",
    "    #clean code 32 with step 5 with cycle 928 with step*cycle*iter-step\n",
    "    size = cuda.gridDim.x\n",
    "    cycle = size//3\n",
    "    b_dimx = cuda.blockDim.x\n",
    "    b_dimy = cuda.blockDim.y\n",
    "    \n",
    "    bx = cuda.blockIdx.x  \n",
    "    by = cuda.blockIdx.y\n",
    "            \n",
    "    tx = cuda.threadIdx.x\n",
    "    ty = cuda.threadIdx.y\n",
    "\n",
    "    for it_bk in range(1):\n",
    "        for it_bk_y in range(1):\n",
    "        \n",
    "            if it_bk*32*5+((bx//BPM_ratio)*stp)<=928 and it_bk_y*32*5+((by//BPM_ratio)*stp)<=928:\n",
    "\n",
    "                if stack[bz,it_bk*32*5+(bx//BPM_ratio)*stp+(bx%BPM_ratio)*b_dimx+tx,it_bk_y*32*5+(by//BPM_ratio)*stp+(by%BPM_ratio)*b_dimy+ty] >= per_mat[bz+time_ref,it_bk*5+bx//BPM_ratio,it_bk_y*5+by//BPM_ratio]:\n",
    "                    cuda.atomic.add(im_out,(it_bk*32*5+(bx//BPM_ratio)*stp+(bx%BPM_ratio)*b_dimx+tx,it_bk_y*32*5+(by//BPM_ratio)*stp+(by%BPM_ratio)*b_dimy+ty),1)\n",
    "\n",
    "                if bz ==0 and time_ref==0:\n",
    "                    cuda.atomic.add(cover,(it_bk*32*5+(bx//BPM_ratio)*stp+(bx%BPM_ratio)*b_dimx+tx,it_bk_y*32*5+(by//BPM_ratio)*stp+(by%BPM_ratio)*b_dimy+ty),1)\n",
    "\n",
    "class sel_active_reg():\n",
    "    \n",
    "    def __init__(self,stack,dict_params,verbose=True,static=False):\n",
    "        self.stack = stack\n",
    "        self.step_list = dict_params['list']\n",
    "        if len(self.step_list)==1:\n",
    "            self.stp=1\n",
    "        else:\n",
    "            self.stp = self.step_list[1]-self.step_list[0]\n",
    "        self.blocks = dict_params['blocks']\n",
    "        self.threads = dict_params['threads']\n",
    "        self.BPM_ratio = dict_params['BPM_ratio'] # # of block inside a patch\n",
    "        self.bb = dict_params['bb']\n",
    "\n",
    "        self.N_pix_st = dict_params['N_pix_st']\n",
    "        self.astr_min = dict_params['astr_min']\n",
    "        self.per_tile = dict_params['percentile']\n",
    "        self.astro_num = dict_params['astro_num']\n",
    "        self.init_th_ = dict_params['init_th']\n",
    "        self.decr_dim = dict_params['decr_dim']\n",
    "        self.decr_th = dict_params['decr_th']\n",
    "        self.corr_int = dict_params['corr_int']\n",
    "        self.gpu_flag = dict_params['gpu_flag']\n",
    "        self.static = static\n",
    "        self.verbose = verbose\n",
    "        self.iter_block = 5\n",
    "        self.gpu_num = 0\n",
    "        \n",
    "    @staticmethod\n",
    "    def percent_matrix_par(stack,t,listx,bb,per_tile):\n",
    "        listy = listx\n",
    "        dim = len(listx)\n",
    "        matrix= t*np.ones((dim+1,dim),dtype=np.float32)\n",
    "\n",
    "        for i in range(dim):\n",
    "            for j in range(dim):\n",
    "\n",
    "                x = listx[i] \n",
    "                y = listy[j]\n",
    "                matrix[i,j] = np.percentile(stack[t,x:x+bb,y:y+bb],per_tile)  \n",
    "\n",
    "        return matrix.astype(np.float32) \n",
    "\n",
    "    def sel_active_cpu(self):\n",
    "\n",
    "        T,N,M = self.stack.shape\n",
    "        T,N,M = stack.shape\n",
    "\n",
    "        percent_list = Parallel(n_jobs=10,verbose=0)(delayed(self.percent_matrix_par) (self.stack,i,self.step_list,self.bb,self.per_tile) for i in range(T))\n",
    "        percentiles = np.asarray(percent_list)\n",
    "        mat_per = percentiles[:,:-1,:]\n",
    "        mat_per = mat_per[percentiles[:,-1,0].astype(np.int32),:,:]\n",
    "\n",
    "        im_out = np.empty((T,N,M)) \n",
    "        cover = np.zeros((T,N,M)) \n",
    "        for i in range(T):\n",
    "            for x in self.listx:\n",
    "                for y in self.listy:\n",
    "\n",
    "                    buffer_im = self.stack[i,x:x+self.bb,y:y+self.bb]-mat_per[i,x//self.stp,y//self.stp]\n",
    "                    buffer_im[buffer_im<0]=0.\n",
    "                    buffer_im[buffer_im>0]=1.\n",
    "\n",
    "                    im_out[i,x:x+self.bb,y:y+self.bb]+=buffer_im\n",
    "                    cover[i,x:x+self.bb,y:y+self.bb]+=1\n",
    "\n",
    "\n",
    "        \n",
    "        self.mask_tot = np.empty_like(im_out)\n",
    "        self.mask_tot  = im_out/cover \n",
    "    \n",
    "    def sel_active_reg_gpu(self):\n",
    "\n",
    "        T,N,M = self.stack.shape\n",
    "        cuda.select_device(self.gpu_num)    \n",
    "\n",
    "        threadsperblock = (self.threads,self.threads)\n",
    "        blockspergrid = (self.blocks,self.blocks)\n",
    "            \n",
    "        if self.verbose: print('Computing local thresholds')\n",
    "        # compute percentile in patches\n",
    "        if not(self.static):\n",
    "            percent_list = Parallel(n_jobs=-1)(delayed(self.percent_matrix_par) (self.stack,i,self.step_list,self.bb,self.per_tile) for i in range(T))\n",
    "            percentiles = np.asarray(percent_list).astype(np.float32)\n",
    "            mat_per = percentiles[:,:-1,:]\n",
    "\n",
    "            mat_per = mat_per[percentiles[:,-1,0].astype(np.int32),:,:]# reorder the embarasing parallel collection of mat\n",
    "            \n",
    "        #### mod for static fluorophore\n",
    "        # compute a single percentile for all the stack, and than generate a T x num_patch x num_patch \n",
    "        elif self.static:\n",
    "            mat_per = np.percentile(self.stack.flatten(),self.per_tile).reshape(1,1)\n",
    "            mat_per = np.tile(mat_per,(T,1,1))\n",
    "            \n",
    "            \n",
    "        #mat_per = np.zeros((T,len(self.step_list),len(self.step_list)))#,dtype=np.int32   \n",
    "        ### allocate percentile matrix\n",
    "        if self.verbose: print('GPU started',blockspergrid, threadsperblock)\n",
    "        mat_per_g = cuda.to_device(mat_per) \n",
    "        ### allocate in ram\n",
    "        im_out = np.zeros((N,M),dtype=np.int32)\n",
    "        cover = np.zeros((N,M),dtype=np.int32)\n",
    "        ### allocate and load in DRAM\n",
    "        im_out_g = cuda.to_device(im_out)\n",
    "        cover_g = cuda.to_device(cover)\n",
    "        #iter_block_gpu = cuda.to_device(self.iter_block)\n",
    "        blocks_to_load =[i*1000 for i in range((T//1000)+1)]\n",
    "        blocks_to_load.append(T)\n",
    "       \n",
    "        for stps in range(len(blocks_to_load)-1):\n",
    "            stack_gpu = cuda.to_device(self.stack[blocks_to_load[stps]:blocks_to_load[stps+1],:,:])\n",
    "            print(stps)\n",
    "            \n",
    "            for bz in range(blocks_to_load[stps+1]-blocks_to_load[stps]):\n",
    "                sel_active_gpu[blockspergrid, threadsperblock](bz,blocks_to_load[stps],mat_per_g,stack_gpu,im_out_g,cover_g,self.BPM_ratio,self.stp,self.iter_block)\n",
    "                \n",
    "            ### free from old stack\n",
    "            del stack_gpu\n",
    "\n",
    "        im_out = im_out_g.copy_to_host()\n",
    "        cover = cover_g.copy_to_host()\n",
    "        if self.verbose: print('GPU done')\n",
    "        del im_out_g, cover_g, mat_per_g\n",
    "        \n",
    "        self.mask_tot = np.empty_like(im_out).astype(np.float64)\n",
    "        self.mask_tot  = im_out.astype(np.float64)/cover.astype(np.float64) \n",
    "        return im_out,cover \n",
    "          \n",
    "    def get_mask(self,find_round=True):\n",
    "        T,_,_ = self.stack.shape\n",
    "        \n",
    "        if self.gpu_flag:\n",
    "            self.sel_active_reg_gpu()\n",
    "        else:\n",
    "            self.sel_active_reg_cpu()\n",
    "    \n",
    "        if self.corr_int:\n",
    "            print('correcting for non uniform illumination')\n",
    "            scaling = ThScal(self.stack)\n",
    "\n",
    "       \n",
    "        th_ =round(T*self.init_th_)\n",
    "        \n",
    "        if find_round:\n",
    "            #this is an alternative strategy to select the strating point threshold the nearest to th_, it is a seed for the while below \n",
    "            #this strategy can be removed and th_ will be the T*self.init_th_ and not one of the seed points below\n",
    "            # we used this strategy for dataset-1, this approach reduces large variation in th_ due to small variation in self.init_th_\n",
    "            if T>500: \n",
    "                th_list = [200,250,300,350,400,450,500,550,600,650,700]\n",
    "                th_list = (T/750)*np.asarray(th_list)\n",
    "                th_ref =th_list-th_\n",
    "                th_ = th_list[np.argmin(np.abs(th_ref))]\n",
    "        cnt=0\n",
    "        #print(th_)\n",
    "        starting_th = th_\n",
    "        flag_th=True\n",
    "        N_pix = self.N_pix_st\n",
    "        \n",
    "        while(cnt<self.astro_num and N_pix>=self.N_pix_st*0.3 and th_>round(T*0.3)):\n",
    "            if flag_th:\n",
    "                mask_tot_s = self.mask_tot.copy()#np.sum(self.mask_tot,axis=0)\n",
    "\n",
    "                if self.corr_int:\n",
    "                    mask_tot_s = scaling.ThMat(mask_tot_s,th_)\n",
    "                    mask_tot_s= np.uint8(mask_tot_s)\n",
    "                else:\n",
    "                    mask_tot_s[mask_tot_s<=th_]=0\n",
    "                    mask_tot_s[mask_tot_s>0.5]=255\n",
    "                    mask_tot_s= np.uint8(mask_tot_s)  \n",
    "\n",
    "\n",
    "                ret, labels_r = cv2.connectedComponents(mask_tot_s)\n",
    "                flag_th = False\n",
    "\n",
    "            labels = labels_r.copy()\n",
    "            cnt=0\n",
    "            for i in range(1, ret):\n",
    "                pts =  np.where(labels == i)    \n",
    "\n",
    "                if len(pts[0]) < N_pix:\n",
    "\n",
    "                    labels[pts] = 0\n",
    "                else:\n",
    "                    cnt+=1\n",
    "\n",
    "                    labels[pts] = 255         \n",
    "\n",
    "            N_pix-=self.decr_dim\n",
    "            if N_pix<=self.astr_min and (starting_th-th_)<105:\n",
    "\n",
    "                th_-=self.decr_th\n",
    "                flag_th = True  \n",
    "                N_pix=self.N_pix_st\n",
    "\n",
    "\n",
    "        if self.verbose:\n",
    "            print('Zones',cnt)\n",
    "        # clean eventual artifacts\n",
    "        ret, labels = cv2.connectedComponents(np.uint8(labels))\n",
    "        for i in range(1, ret):\n",
    "            pts =  np.where(labels == i)    \n",
    "            if len(pts[0])<self.astr_min//4:\n",
    "                labels[pts]=0\n",
    "        labels[labels>0]=1\n",
    "        return labels"
   ]
  },
  {
   "cell_type": "code",
   "execution_count": 13,
   "metadata": {},
   "outputs": [
    {
     "name": "stdout",
     "output_type": "stream",
     "text": [
      "1\n",
      "/astro_folder/set4/1/TSeries-06282021-1014-791_Ch1__movie_corrected.tiff\n",
      "Computing local thresholds\n",
      "GPU started (34, 34) (24, 24)\n",
      "0\n",
      "1\n",
      "GPU done\n",
      "correcting for non uniform illumination\n",
      "Zones 124\n",
      "check (1200, 512, 512)\n"
     ]
    }
   ],
   "source": [
    "dict_im = {}\n",
    "dict_im['Astro_domain_radius'] = DOMAIN_RADIUS\n",
    "for jj in fov_list:\n",
    "    print(jj)\n",
    "    #im_list = []\n",
    "    Res_1 = np.zeros((N,M,3))\n",
    "\n",
    "    test_folder_str =str(jj)\n",
    "    if len(test_folder_str)==1:\n",
    "        test_folder_str1='00'+test_folder_str\n",
    "    else:\n",
    "        test_folder_str1='0'+test_folder_str\n",
    "\n",
    "    model.load_state_dict(torch.load(fov_DNN_weights_folder+test_folder_str1+'_set1.pt'))\n",
    "    \n",
    "    #collect stack to analyze\n",
    "    stack_dir = set_dir+test_folder_str+'/'\n",
    "\n",
    "    items_stack = os.listdir(stack_dir)\n",
    "\n",
    "    print(stack_dir + items_stack[0])\n",
    "    stack = io.imread(stack_dir + items_stack[0]).astype(np.uint16)\n",
    "    #dict_im['t-series_'+test_folder_str1] = stack\n",
    "    frames,_,_ = stack.shape\n",
    "\n",
    "\n",
    "    a_reg = sel_active_reg(stack.astype(np.float32),dict_param)\n",
    "    #A,B = a_reg.sel_active_reg_gpu()\n",
    "    \n",
    "    mask = a_reg.get_mask()\n",
    "    #mask = fix_mask(mask) rem for small pixel size\n",
    "    \n",
    "    #im_list.append([mask,'Active Regions'])\n",
    "    dict_im['Active Regions_'+test_folder_str1] = mask\n",
    "    \n",
    "    filter_ = filt_im(stack_dir + items_stack[0],mask,dict_param['bb']-2*dict_param['pad'])\n",
    "    _, image_to_plot = filter_.create_img_d4()\n",
    "    \n",
    "    # for other dataset spatia_pp methods can be called from filter_, outputs are stack filtered and spatial map enhanced  \n",
    "    #im_list.append([image_to_plot,'Enhanced'])\n",
    "    dict_im['Enhanced_'+test_folder_str1] = image_to_plot\n",
    "    coord_l = filter_.get_instances()\n",
    "    \n",
    "    assert coord_l!=0, 'Check Active region extraction module'\n",
    "    \n",
    "    \n",
    "    image_stack = np.empty((len(coord_l),dict_param['bb'],dict_param['bb'])) \n",
    "\n",
    "    image_stack,filt_imageL = filter_.save_im(pad=0,case=4)#select the padding val 5 is default\n",
    "    \n",
    "    \n",
    "    image_set = image_stack[:,0,:,:]\n",
    "    image_set = image_set[:,np.newaxis,:,:]\n",
    "\n",
    "    imageL_set = image_to_plot*filt_imageL\n",
    "    imageL_set-=np.mean(imageL_set)\n",
    "    imageL_set= imageL_set[np.newaxis,np.newaxis,:,:]\n",
    "\n",
    "\n",
    "\n",
    "    model.eval()   # Set model to evaluate mode\n",
    "#     ######################################## Prob Map\n",
    "    test_datasetL = SimDataset_test(imageL_set)\n",
    "    test_loader = DataLoader(test_datasetL, batch_size=15, shuffle=False, num_workers=0)\n",
    "\n",
    "    inputs = next(iter(test_loader))\n",
    "    inputs = inputs.to(device)\n",
    "    pred = model(inputs)\n",
    "    \n",
    "    pred_mean = pred.data.cpu().numpy()\n",
    "    del test_datasetL,test_loader, inputs,pred\n",
    "    \n",
    "    mean = pred_mean[0]\n",
    "    maxim = np.amax(mean,axis=0)\n",
    "    mean[mean<maxim]=0\n",
    "        \n",
    "    prob_mapPL,sm_ent = prob_calc(mean[1,:,:],max_min[0],max_min[1])\n",
    "    \n",
    "    #im_list.append([prob_mapPL,'Prob. Map'])\n",
    "    dict_im['Prob. Map PL_'+test_folder_str1] = prob_mapPL\n",
    "    #im_list.append([sm_ent,'Prob. Map'])\n",
    "    dict_im['Prob. Map_'+test_folder_str1] = sm_ent\n",
    "#     ########################################## putative single cell\n",
    "    test_dataset_S = SimDataset_test(image_set)\n",
    "    test_loader = DataLoader(test_dataset_S, batch_size=15, shuffle=False, num_workers=0)\n",
    "\n",
    "    \n",
    "    pred_mean=[]\n",
    "    for inputs in test_loader:\n",
    "        inputs = inputs.to(device)\n",
    "\n",
    "        pred = model(inputs)\n",
    "        pred_mean.append(pred.data.cpu().numpy())\n",
    "        del inputs,pred\n",
    "\n",
    "    torch.cuda.empty_cache()\n",
    "    \n",
    "    for j in range(1,len(pred_mean)):\n",
    "        pred_mean[0]=np.vstack((pred_mean[0],pred_mean[j]))\n",
    "\n",
    "    prob_map = np.zeros((N,M,2))\n",
    "\n",
    "    for i in range(len(coord_l)):\n",
    "        mean= np.zeros((3,dict_param['bb'],dict_param['bb']))\n",
    "        mean = pred_mean[0][i,:,:,:].copy()\n",
    "        \n",
    "        maxim = np.amax(mean,axis=0)\n",
    "        mean[mean<maxim]=0\n",
    "        mean[mean>=maxim]=1\n",
    "\n",
    "        small_soma = small_soma_to_proc(mean[1,:,:],N = int((2/3)*max_min[1])) ####remove too small somata segmentated\n",
    "        mean[0,:,:]+=small_soma\n",
    "        mean[1,:,:]-=small_soma\n",
    "        \n",
    "        coord = coord_l[i]\n",
    "        if dict_param['pad']>0:\n",
    "            Res_1[coord[1]:coord[3],coord[0]:coord[2],0] += mean[0,dict_param['pad']:-dict_param['pad'],dict_param['pad']:-dict_param['pad']]\n",
    "            Res_1[coord[1]:coord[3],coord[0]:coord[2],1] += mean[1,dict_param['pad']:-dict_param['pad'],dict_param['pad']:-dict_param['pad']]\n",
    "        else:\n",
    "            Res_1[coord[1]:coord[3],coord[0]:coord[2],0] += mean[0,:,:]\n",
    "            Res_1[coord[1]:coord[3],coord[0]:coord[2],1] += mean[1,:,:]\n",
    "\n",
    "\n",
    "    Res_1[:,:,0] -= Res_1[:,:,1]\n",
    "    Res_1[Res_1<1]=0\n",
    "    Res_1[Res_1>0]=1\n",
    "\n",
    "#     ######### can be wrapped\n",
    "    \n",
    "    soma_f = common_merge(Res_1[:,:,1],sm_ent)\n",
    "    Res_1[:,:,1]=soma_f\n",
    "\n",
    "    #remove possible artifacts\n",
    "    small_soma = small_soma_to_proc(Res_1[:,:,1],int(0.9*max_min[1]),dilation=False)\n",
    "    Res_1[:,:,1]-=small_soma\n",
    "\n",
    "    Res_1[:,:,0] = Res_1[:,:,0]-Res_1[:,:,1]\n",
    "    Res_1[Res_1<1]=0\n",
    "    Res_1[Res_1>0]=1\n",
    "\n",
    "    #remove large region classified as soma Area>500\n",
    "    Res_1_filt,removal = art_rem_large(Res_1[:,:,1],Res_1[:,:,0],N=int(1.15*max_min[0]))\n",
    "    if removal<2:\n",
    "        Res_1-=Res_1_filt[:,:,np.newaxis]\n",
    "\n",
    "    Res_1_filt,removal = art_rem_large(Res_1[:,:,1],Res_1[:,:,0],N=max_min[0])\n",
    "    if removal<2:\n",
    "        Res_1-=Res_1_filt[:,:,np.newaxis]\n",
    "\n",
    "\n",
    "    #remove processes without soma\n",
    "    Res_1_filt = art_rem(Res_1[:,:,1],Res_1[:,:,0])\n",
    "    Res_1*=Res_1_filt[:,:,np.newaxis]\n",
    "    \n",
    "#     dict_im['Final_Mask_'+test_folder_str1] = Res_1\n",
    "#     print(20*'%')\n",
    "#     #######################################################################################################\n",
    "#     #Visualization of images\n",
    "#     if vis_flag:\n",
    "#         vis = Visdom(port=8097, server=\"http://localhost\",env='inference_plot')\n",
    "#         for key in dict_im.keys():\n",
    "#             if key in ['Active Regions_'+test_folder_str1,'Enhanced_'+test_folder_str1,'Final_Mask_'+test_folder_str1]:\n",
    "#                 image = dict_im[key]\n",
    "#                 fig, ax = plt.subplots(figsize=(4,4))\n",
    "#                 ax.imshow(image)\n",
    "#                 ax.axis('off')\n",
    "#                 ax.set_title(key)\n",
    "#                 vis.matplot(fig)\n",
    "#                 plt.close(fig)\n",
    "    \n",
    "#     #### Extraction\n",
    "#     single_astro_roi = gen_sc_mask(dict_im['Final_Mask_'+test_folder_str1])\n"
   ]
  },
  {
   "cell_type": "code",
   "execution_count": 14,
   "metadata": {},
   "outputs": [
    {
     "data": {
      "text/plain": [
       "<matplotlib.image.AxesImage at 0x7ff1cd4bef60>"
      ]
     },
     "execution_count": 14,
     "metadata": {},
     "output_type": "execute_result"
    },
    {
     "data": {
      "image/png": "[encoded data removed]",
      "text/plain": [
       "<Figure size 720x720 with 1 Axes>"
      ]
     },
     "metadata": {
      "needs_background": "light"
     },
     "output_type": "display_data"
    }
   ],
   "source": [
    "plt.figure(figsize=(10,10))\n",
    "plt.imshow(Res_1)\n"
   ]
  },
  {
   "cell_type": "code",
   "execution_count": 15,
   "metadata": {},
   "outputs": [
    {
     "data": {
      "text/plain": [
       "<matplotlib.image.AxesImage at 0x7ff1cd239da0>"
      ]
     },
     "execution_count": 15,
     "metadata": {},
     "output_type": "execute_result"
    },
    {
     "data": {
      "image/png": "[encoded data removed]",
      "text/plain": [
       "<Figure size 720x720 with 1 Axes>"
      ]
     },
     "metadata": {
      "needs_background": "light"
     },
     "output_type": "display_data"
    }
   ],
   "source": [
    "Res_file_path='/astro_folder/set4/dataset/FOV_001_nf.hdf5'\n",
    "Res_mat = np.zeros((512,512,3))\n",
    "dset= h5py.File(Res_file_path,'r') \n",
    "Res_mat[:,:,0] =  np.asarray(dset['Values'])\n",
    "Res_mat[:,:,1] =  np.asarray(dset['Values_soma'])\n",
    "plt.figure(figsize=(10,10))\n",
    "plt.imshow(Res_mat)"
   ]
  },
  {
   "cell_type": "code",
   "execution_count": 16,
   "metadata": {},
   "outputs": [
    {
     "name": "stderr",
     "output_type": "stream",
     "text": [
      "Clipping input data to the valid range for imshow with RGB data ([0..1] for floats or [0..255] for integers).\n"
     ]
    },
    {
     "data": {
      "text/plain": [
       "<matplotlib.image.AxesImage at 0x7ff1cc126780>"
      ]
     },
     "execution_count": 16,
     "metadata": {},
     "output_type": "execute_result"
    },
    {
     "data": {
      "image/png": "[encoded data removed]",
      "text/plain": [
       "<Figure size 720x720 with 1 Axes>"
      ]
     },
     "metadata": {
      "needs_background": "light"
     },
     "output_type": "display_data"
    }
   ],
   "source": [
    "plt.figure(figsize=(10,10))\n",
    "plt.imshow(2*Res_mat+Res_1)"
   ]
  },
  {
   "cell_type": "code",
   "execution_count": 17,
   "metadata": {},
   "outputs": [
    {
     "name": "stdout",
     "output_type": "stream",
     "text": [
      "0.5462562683728169\n",
      "0.4000436490615452\n"
     ]
    }
   ],
   "source": [
    "from sklearn.metrics import f1_score\n",
    "print(f1_score(Res_mat[:,:,1].flatten(),Res_1[:,:,1].flatten()))\n",
    "print(f1_score(Res_mat[:,:,0].flatten(),Res_1[:,:,0].flatten()))"
   ]
  },
  {
   "cell_type": "code",
   "execution_count": 25,
   "metadata": {},
   "outputs": [
    {
     "data": {
      "text/plain": [
       "0.0"
      ]
     },
     "execution_count": 25,
     "metadata": {},
     "output_type": "execute_result"
    }
   ],
   "source": [
    "Res_mat.min()"
   ]
  },
  {
   "cell_type": "code",
   "execution_count": null,
   "metadata": {},
   "outputs": [],
   "source": [
    "plt.imshow(dict_im['Active Regions_'+test_folder_str1])"
   ]
  },
  {
   "cell_type": "code",
   "execution_count": null,
   "metadata": {},
   "outputs": [],
   "source": [
    "plt.figure(figsize=(10,10))\n",
    "plt.imshow(dict_im['Enhanced_'+test_folder_str1])"
   ]
  },
  {
   "cell_type": "code",
   "execution_count": null,
   "metadata": {},
   "outputs": [],
   "source": [
    "plt.imshow(dict_im['Final_Mask_'+test_folder_str1])"
   ]
  },
  {
   "cell_type": "markdown",
   "metadata": {},
   "source": [
    "# Visualization of results"
   ]
  },
  {
   "cell_type": "code",
   "execution_count": 5,
   "metadata": {},
   "outputs": [
    {
     "data": {
      "application/vnd.jupyter.widget-view+json": {
       "model_id": "f56663db1876490b94fbb2960ce023c4",
       "version_major": 2,
       "version_minor": 0
      },
      "text/plain": [
       "VBox(children=(Output(layout=Layout(height='400px', width='1200px')), HBox(children=(VBox(children=(Dropdown(d…"
      ]
     },
     "metadata": {},
     "output_type": "display_data"
    }
   ],
   "source": [
    "fov_name = []\n",
    "for j in fov_list:\n",
    "    j = str(j)\n",
    "    if len(j)==1:\n",
    "        j='00'+j\n",
    "    else:\n",
    "        j='0'+j\n",
    "    fov_name.append(j)\n",
    "fov_name\n",
    "hbox,button,display_plot = layout(fov_name,dict_im)\n",
    "display(hbox)\n",
    "button.on_click(display_plot)"
   ]
  },
  {
   "cell_type": "markdown",
   "metadata": {},
   "source": [
    "# Manual curation\n",
    "Export ROIs for ImageJ"
   ]
  },
  {
   "cell_type": "code",
   "execution_count": 6,
   "metadata": {},
   "outputs": [],
   "source": [
    "from ROI_manual_curation import *"
   ]
  },
  {
   "cell_type": "code",
   "execution_count": 7,
   "metadata": {},
   "outputs": [
    {
     "name": "stdout",
     "output_type": "stream",
     "text": [
      "FOV 002\n"
     ]
    }
   ],
   "source": [
    "#export ROIs for ImageJ\n",
    "export_roi(dict_im,fov_list,N=256,M=256,folder_save = '/media/DATA/jbonato/astro_segm/notebook/')"
   ]
  },
  {
   "cell_type": "code",
   "execution_count": 8,
   "metadata": {},
   "outputs": [],
   "source": [
    "#clean dictionary from ROIs and extracted traces\n",
    "dict_im = clean_dict(dict_im,fov_list)"
   ]
  },
  {
   "cell_type": "code",
   "execution_count": 9,
   "metadata": {},
   "outputs": [
    {
     "name": "stdout",
     "output_type": "stream",
     "text": [
      "NUM ROI 5\n",
      "ROI NUM 5\n",
      "%%%%%%%%%%%%%%%%%%%%%%%%%%%%%%%%%%%%%%%%%%%%%%%%%% Extracting cell: 0\n",
      "ROIS 4\n",
      "SPLIT DONE (256, 256, 10)\n",
      "Extraction: done\n",
      "%%%%%%%%%%%%%%%%%%%%%%%%%%%%%%%%%%%%%%%%%%%%%%%%%% Extracting cell: 1\n",
      "ROIS 1\n",
      "SPLIT DONE (256, 256, 24)\n",
      "Extraction: done\n",
      "%%%%%%%%%%%%%%%%%%%%%%%%%%%%%%%%%%%%%%%%%%%%%%%%%% Extracting cell: 2\n",
      "ROIS 4\n",
      "SPLIT DONE (256, 256, 10)\n",
      "Extraction: done\n",
      "%%%%%%%%%%%%%%%%%%%%%%%%%%%%%%%%%%%%%%%%%%%%%%%%%% Extracting cell: 3\n",
      "ROIS 3\n",
      "SPLIT DONE (256, 256, 11)\n",
      "Extraction: done\n",
      "%%%%%%%%%%%%%%%%%%%%%%%%%%%%%%%%%%%%%%%%%%%%%%%%%% Extracting cell: 4\n",
      "ROIS 4\n",
      "SPLIT DONE (256, 256, 9)\n",
      "Extraction: done\n"
     ]
    }
   ],
   "source": [
    "#update dict_im with the manual curated\n",
    "for fov in fov_list:\n",
    "    folder = f'{str(fov):0>3}'\n",
    "    mask_ret = read_roi_curated(folder,N=256,M=256,folder_read='/media/DATA/jbonato/astro_segm/notebook/')\n",
    "    dict_im = update_dict_DNN(dict_im,mask_ret,folder,motion_corr,MAX_ROI_AREA_PROC,MU_PX)\n",
    "    #### save dict\n",
    "    pickle.dump(dict_im, open( \"inference_ex.pkl\", \"wb\" ) )"
   ]
  },
  {
   "cell_type": "code",
   "execution_count": null,
   "metadata": {},
   "outputs": [],
   "source": []
  },
  {
   "cell_type": "code",
   "execution_count": 39,
   "metadata": {},
   "outputs": [
    {
     "ename": "NvvmError",
     "evalue": "Failed to compile\n\n<unnamed> (38, 31): parse expected comma after getelementptr's type\nNVVM_ERROR_COMPILATION",
     "output_type": "error",
     "traceback": [
      "\u001b[0;31m---------------------------------------------------------------------------\u001b[0m",
      "\u001b[0;31mNvvmError\u001b[0m                                 Traceback (most recent call last)",
      "\u001b[0;32m<ipython-input-39-bb64af635639>\u001b[0m in \u001b[0;36m<module>\u001b[0;34m\u001b[0m\n\u001b[1;32m     17\u001b[0m \u001b[0mthreadsperblock\u001b[0m \u001b[0;34m=\u001b[0m \u001b[0;36m256\u001b[0m\u001b[0;34m\u001b[0m\u001b[0;34m\u001b[0m\u001b[0m\n\u001b[1;32m     18\u001b[0m \u001b[0mblockspergrid\u001b[0m \u001b[0;34m=\u001b[0m \u001b[0mmath\u001b[0m\u001b[0;34m.\u001b[0m\u001b[0mceil\u001b[0m\u001b[0;34m(\u001b[0m\u001b[0mdata\u001b[0m\u001b[0;34m.\u001b[0m\u001b[0mshape\u001b[0m\u001b[0;34m[\u001b[0m\u001b[0;36m0\u001b[0m\u001b[0;34m]\u001b[0m \u001b[0;34m/\u001b[0m \u001b[0mthreadsperblock\u001b[0m\u001b[0;34m)\u001b[0m\u001b[0;34m\u001b[0m\u001b[0;34m\u001b[0m\u001b[0m\n\u001b[0;32m---> 19\u001b[0;31m \u001b[0mmy_kernel\u001b[0m\u001b[0;34m[\u001b[0m\u001b[0mblockspergrid\u001b[0m\u001b[0;34m,\u001b[0m \u001b[0mthreadsperblock\u001b[0m\u001b[0;34m]\u001b[0m\u001b[0;34m(\u001b[0m\u001b[0mdata\u001b[0m\u001b[0;34m)\u001b[0m\u001b[0;34m\u001b[0m\u001b[0;34m\u001b[0m\u001b[0m\n\u001b[0m\u001b[1;32m     20\u001b[0m \u001b[0mprint\u001b[0m\u001b[0;34m(\u001b[0m\u001b[0mdata\u001b[0m\u001b[0;34m)\u001b[0m\u001b[0;34m\u001b[0m\u001b[0;34m\u001b[0m\u001b[0m\n",
      "\u001b[0;32m/media/DATA/jbonato/st_myenv/lib/python3.6/site-packages/numba/cuda/compiler.py\u001b[0m in \u001b[0;36m__call__\u001b[0;34m(self, *args)\u001b[0m\n\u001b[1;32m    804\u001b[0m         \u001b[0mSpecialize\u001b[0m \u001b[0;32mand\u001b[0m \u001b[0minvoke\u001b[0m \u001b[0mthis\u001b[0m \u001b[0mkernel\u001b[0m \u001b[0;32mwith\u001b[0m \u001b[0;34m*\u001b[0m\u001b[0margs\u001b[0m\u001b[0;34m*\u001b[0m\u001b[0;34m.\u001b[0m\u001b[0;34m\u001b[0m\u001b[0;34m\u001b[0m\u001b[0m\n\u001b[1;32m    805\u001b[0m         '''\n\u001b[0;32m--> 806\u001b[0;31m         \u001b[0mkernel\u001b[0m \u001b[0;34m=\u001b[0m \u001b[0mself\u001b[0m\u001b[0;34m.\u001b[0m\u001b[0mspecialize\u001b[0m\u001b[0;34m(\u001b[0m\u001b[0;34m*\u001b[0m\u001b[0margs\u001b[0m\u001b[0;34m)\u001b[0m\u001b[0;34m\u001b[0m\u001b[0;34m\u001b[0m\u001b[0m\n\u001b[0m\u001b[1;32m    807\u001b[0m         \u001b[0mcfg\u001b[0m \u001b[0;34m=\u001b[0m \u001b[0mkernel\u001b[0m\u001b[0;34m[\u001b[0m\u001b[0mself\u001b[0m\u001b[0;34m.\u001b[0m\u001b[0mgriddim\u001b[0m\u001b[0;34m,\u001b[0m \u001b[0mself\u001b[0m\u001b[0;34m.\u001b[0m\u001b[0mblockdim\u001b[0m\u001b[0;34m,\u001b[0m \u001b[0mself\u001b[0m\u001b[0;34m.\u001b[0m\u001b[0mstream\u001b[0m\u001b[0;34m,\u001b[0m \u001b[0mself\u001b[0m\u001b[0;34m.\u001b[0m\u001b[0msharedmem\u001b[0m\u001b[0;34m]\u001b[0m\u001b[0;34m\u001b[0m\u001b[0;34m\u001b[0m\u001b[0m\n\u001b[1;32m    808\u001b[0m         \u001b[0mcfg\u001b[0m\u001b[0;34m(\u001b[0m\u001b[0;34m*\u001b[0m\u001b[0margs\u001b[0m\u001b[0;34m)\u001b[0m\u001b[0;34m\u001b[0m\u001b[0;34m\u001b[0m\u001b[0m\n",
      "\u001b[0;32m/media/DATA/jbonato/st_myenv/lib/python3.6/site-packages/numba/cuda/compiler.py\u001b[0m in \u001b[0;36mspecialize\u001b[0;34m(self, *args)\u001b[0m\n\u001b[1;32m    815\u001b[0m         argtypes = tuple(\n\u001b[1;32m    816\u001b[0m             [self.typingctx.resolve_argument_type(a) for a in args])\n\u001b[0;32m--> 817\u001b[0;31m         \u001b[0mkernel\u001b[0m \u001b[0;34m=\u001b[0m \u001b[0mself\u001b[0m\u001b[0;34m.\u001b[0m\u001b[0mcompile\u001b[0m\u001b[0;34m(\u001b[0m\u001b[0margtypes\u001b[0m\u001b[0;34m)\u001b[0m\u001b[0;34m\u001b[0m\u001b[0;34m\u001b[0m\u001b[0m\n\u001b[0m\u001b[1;32m    818\u001b[0m         \u001b[0;32mreturn\u001b[0m \u001b[0mkernel\u001b[0m\u001b[0;34m\u001b[0m\u001b[0;34m\u001b[0m\u001b[0m\n\u001b[1;32m    819\u001b[0m \u001b[0;34m\u001b[0m\u001b[0m\n",
      "\u001b[0;32m/media/DATA/jbonato/st_myenv/lib/python3.6/site-packages/numba/cuda/compiler.py\u001b[0m in \u001b[0;36mcompile\u001b[0;34m(self, sig)\u001b[0m\n\u001b[1;32m    834\u001b[0m             \u001b[0mself\u001b[0m\u001b[0;34m.\u001b[0m\u001b[0mdefinitions\u001b[0m\u001b[0;34m[\u001b[0m\u001b[0;34m(\u001b[0m\u001b[0mcc\u001b[0m\u001b[0;34m,\u001b[0m \u001b[0margtypes\u001b[0m\u001b[0;34m)\u001b[0m\u001b[0;34m]\u001b[0m \u001b[0;34m=\u001b[0m \u001b[0mkernel\u001b[0m\u001b[0;34m\u001b[0m\u001b[0;34m\u001b[0m\u001b[0m\n\u001b[1;32m    835\u001b[0m             \u001b[0;32mif\u001b[0m \u001b[0mself\u001b[0m\u001b[0;34m.\u001b[0m\u001b[0mbind\u001b[0m\u001b[0;34m:\u001b[0m\u001b[0;34m\u001b[0m\u001b[0;34m\u001b[0m\u001b[0m\n\u001b[0;32m--> 836\u001b[0;31m                 \u001b[0mkernel\u001b[0m\u001b[0;34m.\u001b[0m\u001b[0mbind\u001b[0m\u001b[0;34m(\u001b[0m\u001b[0;34m)\u001b[0m\u001b[0;34m\u001b[0m\u001b[0;34m\u001b[0m\u001b[0m\n\u001b[0m\u001b[1;32m    837\u001b[0m         \u001b[0;32mreturn\u001b[0m \u001b[0mkernel\u001b[0m\u001b[0;34m\u001b[0m\u001b[0;34m\u001b[0m\u001b[0m\n\u001b[1;32m    838\u001b[0m \u001b[0;34m\u001b[0m\u001b[0m\n",
      "\u001b[0;32m/media/DATA/jbonato/st_myenv/lib/python3.6/site-packages/numba/cuda/compiler.py\u001b[0m in \u001b[0;36mbind\u001b[0;34m(self)\u001b[0m\n\u001b[1;32m    542\u001b[0m         \u001b[0mForce\u001b[0m \u001b[0mbinding\u001b[0m \u001b[0mto\u001b[0m \u001b[0mcurrent\u001b[0m \u001b[0mCUDA\u001b[0m \u001b[0mcontext\u001b[0m\u001b[0;34m\u001b[0m\u001b[0;34m\u001b[0m\u001b[0m\n\u001b[1;32m    543\u001b[0m         \"\"\"\n\u001b[0;32m--> 544\u001b[0;31m         \u001b[0mself\u001b[0m\u001b[0;34m.\u001b[0m\u001b[0m_func\u001b[0m\u001b[0;34m.\u001b[0m\u001b[0mget\u001b[0m\u001b[0;34m(\u001b[0m\u001b[0;34m)\u001b[0m\u001b[0;34m\u001b[0m\u001b[0;34m\u001b[0m\u001b[0m\n\u001b[0m\u001b[1;32m    545\u001b[0m \u001b[0;34m\u001b[0m\u001b[0m\n\u001b[1;32m    546\u001b[0m     \u001b[0;34m@\u001b[0m\u001b[0mproperty\u001b[0m\u001b[0;34m\u001b[0m\u001b[0;34m\u001b[0m\u001b[0m\n",
      "\u001b[0;32m/media/DATA/jbonato/st_myenv/lib/python3.6/site-packages/numba/cuda/compiler.py\u001b[0m in \u001b[0;36mget\u001b[0;34m(self)\u001b[0m\n\u001b[1;32m    420\u001b[0m         \u001b[0mcufunc\u001b[0m \u001b[0;34m=\u001b[0m \u001b[0mself\u001b[0m\u001b[0;34m.\u001b[0m\u001b[0mcache\u001b[0m\u001b[0;34m.\u001b[0m\u001b[0mget\u001b[0m\u001b[0;34m(\u001b[0m\u001b[0mdevice\u001b[0m\u001b[0;34m.\u001b[0m\u001b[0mid\u001b[0m\u001b[0;34m)\u001b[0m\u001b[0;34m\u001b[0m\u001b[0;34m\u001b[0m\u001b[0m\n\u001b[1;32m    421\u001b[0m         \u001b[0;32mif\u001b[0m \u001b[0mcufunc\u001b[0m \u001b[0;32mis\u001b[0m \u001b[0;32mNone\u001b[0m\u001b[0;34m:\u001b[0m\u001b[0;34m\u001b[0m\u001b[0;34m\u001b[0m\u001b[0m\n\u001b[0;32m--> 422\u001b[0;31m             \u001b[0mptx\u001b[0m \u001b[0;34m=\u001b[0m \u001b[0mself\u001b[0m\u001b[0;34m.\u001b[0m\u001b[0mptx\u001b[0m\u001b[0;34m.\u001b[0m\u001b[0mget\u001b[0m\u001b[0;34m(\u001b[0m\u001b[0;34m)\u001b[0m\u001b[0;34m\u001b[0m\u001b[0;34m\u001b[0m\u001b[0m\n\u001b[0m\u001b[1;32m    423\u001b[0m \u001b[0;34m\u001b[0m\u001b[0m\n\u001b[1;32m    424\u001b[0m             \u001b[0;31m# Link\u001b[0m\u001b[0;34m\u001b[0m\u001b[0;34m\u001b[0m\u001b[0;34m\u001b[0m\u001b[0m\n",
      "\u001b[0;32m/media/DATA/jbonato/st_myenv/lib/python3.6/site-packages/numba/cuda/compiler.py\u001b[0m in \u001b[0;36mget\u001b[0;34m(self)\u001b[0m\n\u001b[1;32m    391\u001b[0m             \u001b[0march\u001b[0m \u001b[0;34m=\u001b[0m \u001b[0mnvvm\u001b[0m\u001b[0;34m.\u001b[0m\u001b[0mget_arch_option\u001b[0m\u001b[0;34m(\u001b[0m\u001b[0;34m*\u001b[0m\u001b[0mcc\u001b[0m\u001b[0;34m)\u001b[0m\u001b[0;34m\u001b[0m\u001b[0;34m\u001b[0m\u001b[0m\n\u001b[1;32m    392\u001b[0m             ptx = nvvm.llvm_to_ptx(self.llvmir, opt=3, arch=arch,\n\u001b[0;32m--> 393\u001b[0;31m                                    **self._extra_options)\n\u001b[0m\u001b[1;32m    394\u001b[0m             \u001b[0mself\u001b[0m\u001b[0;34m.\u001b[0m\u001b[0mcache\u001b[0m\u001b[0;34m[\u001b[0m\u001b[0mcc\u001b[0m\u001b[0;34m]\u001b[0m \u001b[0;34m=\u001b[0m \u001b[0mptx\u001b[0m\u001b[0;34m\u001b[0m\u001b[0;34m\u001b[0m\u001b[0m\n\u001b[1;32m    395\u001b[0m             \u001b[0;32mif\u001b[0m \u001b[0mconfig\u001b[0m\u001b[0;34m.\u001b[0m\u001b[0mDUMP_ASSEMBLY\u001b[0m\u001b[0;34m:\u001b[0m\u001b[0;34m\u001b[0m\u001b[0;34m\u001b[0m\u001b[0m\n",
      "\u001b[0;32m/media/DATA/jbonato/st_myenv/lib/python3.6/site-packages/numba/cuda/cudadrv/nvvm.py\u001b[0m in \u001b[0;36mllvm_to_ptx\u001b[0;34m(llvmir, **opts)\u001b[0m\n\u001b[1;32m    494\u001b[0m     \u001b[0mcu\u001b[0m\u001b[0;34m.\u001b[0m\u001b[0madd_module\u001b[0m\u001b[0;34m(\u001b[0m\u001b[0mlibdevice\u001b[0m\u001b[0;34m.\u001b[0m\u001b[0mget\u001b[0m\u001b[0;34m(\u001b[0m\u001b[0;34m)\u001b[0m\u001b[0;34m)\u001b[0m\u001b[0;34m\u001b[0m\u001b[0;34m\u001b[0m\u001b[0m\n\u001b[1;32m    495\u001b[0m \u001b[0;34m\u001b[0m\u001b[0m\n\u001b[0;32m--> 496\u001b[0;31m     \u001b[0mptx\u001b[0m \u001b[0;34m=\u001b[0m \u001b[0mcu\u001b[0m\u001b[0;34m.\u001b[0m\u001b[0mcompile\u001b[0m\u001b[0;34m(\u001b[0m\u001b[0;34m**\u001b[0m\u001b[0mopts\u001b[0m\u001b[0;34m)\u001b[0m\u001b[0;34m\u001b[0m\u001b[0;34m\u001b[0m\u001b[0m\n\u001b[0m\u001b[1;32m    497\u001b[0m     \u001b[0;31m# XXX remove debug_pubnames seems to be necessary sometimes\u001b[0m\u001b[0;34m\u001b[0m\u001b[0;34m\u001b[0m\u001b[0;34m\u001b[0m\u001b[0m\n\u001b[1;32m    498\u001b[0m     \u001b[0;32mreturn\u001b[0m \u001b[0mpatch_ptx_debug_pubnames\u001b[0m\u001b[0;34m(\u001b[0m\u001b[0mptx\u001b[0m\u001b[0;34m)\u001b[0m\u001b[0;34m\u001b[0m\u001b[0;34m\u001b[0m\u001b[0m\n",
      "\u001b[0;32m/media/DATA/jbonato/st_myenv/lib/python3.6/site-packages/numba/cuda/cudadrv/nvvm.py\u001b[0m in \u001b[0;36mcompile\u001b[0;34m(self, **options)\u001b[0m\n\u001b[1;32m    231\u001b[0m                                           for x in opts])\n\u001b[1;32m    232\u001b[0m         \u001b[0merr\u001b[0m \u001b[0;34m=\u001b[0m \u001b[0mself\u001b[0m\u001b[0;34m.\u001b[0m\u001b[0mdriver\u001b[0m\u001b[0;34m.\u001b[0m\u001b[0mnvvmCompileProgram\u001b[0m\u001b[0;34m(\u001b[0m\u001b[0mself\u001b[0m\u001b[0;34m.\u001b[0m\u001b[0m_handle\u001b[0m\u001b[0;34m,\u001b[0m \u001b[0mlen\u001b[0m\u001b[0;34m(\u001b[0m\u001b[0mopts\u001b[0m\u001b[0;34m)\u001b[0m\u001b[0;34m,\u001b[0m \u001b[0mc_opts\u001b[0m\u001b[0;34m)\u001b[0m\u001b[0;34m\u001b[0m\u001b[0;34m\u001b[0m\u001b[0m\n\u001b[0;32m--> 233\u001b[0;31m         \u001b[0mself\u001b[0m\u001b[0;34m.\u001b[0m\u001b[0m_try_error\u001b[0m\u001b[0;34m(\u001b[0m\u001b[0merr\u001b[0m\u001b[0;34m,\u001b[0m \u001b[0;34m'Failed to compile\\n'\u001b[0m\u001b[0;34m)\u001b[0m\u001b[0;34m\u001b[0m\u001b[0;34m\u001b[0m\u001b[0m\n\u001b[0m\u001b[1;32m    234\u001b[0m \u001b[0;34m\u001b[0m\u001b[0m\n\u001b[1;32m    235\u001b[0m         \u001b[0;31m# get result\u001b[0m\u001b[0;34m\u001b[0m\u001b[0;34m\u001b[0m\u001b[0;34m\u001b[0m\u001b[0m\n",
      "\u001b[0;32m/media/DATA/jbonato/st_myenv/lib/python3.6/site-packages/numba/cuda/cudadrv/nvvm.py\u001b[0m in \u001b[0;36m_try_error\u001b[0;34m(self, err, msg)\u001b[0m\n\u001b[1;32m    249\u001b[0m \u001b[0;34m\u001b[0m\u001b[0m\n\u001b[1;32m    250\u001b[0m     \u001b[0;32mdef\u001b[0m \u001b[0m_try_error\u001b[0m\u001b[0;34m(\u001b[0m\u001b[0mself\u001b[0m\u001b[0;34m,\u001b[0m \u001b[0merr\u001b[0m\u001b[0;34m,\u001b[0m \u001b[0mmsg\u001b[0m\u001b[0;34m)\u001b[0m\u001b[0;34m:\u001b[0m\u001b[0;34m\u001b[0m\u001b[0;34m\u001b[0m\u001b[0m\n\u001b[0;32m--> 251\u001b[0;31m         \u001b[0mself\u001b[0m\u001b[0;34m.\u001b[0m\u001b[0mdriver\u001b[0m\u001b[0;34m.\u001b[0m\u001b[0mcheck_error\u001b[0m\u001b[0;34m(\u001b[0m\u001b[0merr\u001b[0m\u001b[0;34m,\u001b[0m \u001b[0;34m\"%s\\n%s\"\u001b[0m \u001b[0;34m%\u001b[0m \u001b[0;34m(\u001b[0m\u001b[0mmsg\u001b[0m\u001b[0;34m,\u001b[0m \u001b[0mself\u001b[0m\u001b[0;34m.\u001b[0m\u001b[0mget_log\u001b[0m\u001b[0;34m(\u001b[0m\u001b[0;34m)\u001b[0m\u001b[0;34m)\u001b[0m\u001b[0;34m)\u001b[0m\u001b[0;34m\u001b[0m\u001b[0;34m\u001b[0m\u001b[0m\n\u001b[0m\u001b[1;32m    252\u001b[0m \u001b[0;34m\u001b[0m\u001b[0m\n\u001b[1;32m    253\u001b[0m     \u001b[0;32mdef\u001b[0m \u001b[0mget_log\u001b[0m\u001b[0;34m(\u001b[0m\u001b[0mself\u001b[0m\u001b[0;34m)\u001b[0m\u001b[0;34m:\u001b[0m\u001b[0;34m\u001b[0m\u001b[0;34m\u001b[0m\u001b[0m\n",
      "\u001b[0;32m/media/DATA/jbonato/st_myenv/lib/python3.6/site-packages/numba/cuda/cudadrv/nvvm.py\u001b[0m in \u001b[0;36mcheck_error\u001b[0;34m(self, error, msg, exit)\u001b[0m\n\u001b[1;32m    139\u001b[0m                 \u001b[0msys\u001b[0m\u001b[0;34m.\u001b[0m\u001b[0mexit\u001b[0m\u001b[0;34m(\u001b[0m\u001b[0;36m1\u001b[0m\u001b[0;34m)\u001b[0m\u001b[0;34m\u001b[0m\u001b[0;34m\u001b[0m\u001b[0m\n\u001b[1;32m    140\u001b[0m             \u001b[0;32melse\u001b[0m\u001b[0;34m:\u001b[0m\u001b[0;34m\u001b[0m\u001b[0;34m\u001b[0m\u001b[0m\n\u001b[0;32m--> 141\u001b[0;31m                 \u001b[0;32mraise\u001b[0m \u001b[0mexc\u001b[0m\u001b[0;34m\u001b[0m\u001b[0;34m\u001b[0m\u001b[0m\n\u001b[0m\u001b[1;32m    142\u001b[0m \u001b[0;34m\u001b[0m\u001b[0m\n\u001b[1;32m    143\u001b[0m \u001b[0;34m\u001b[0m\u001b[0m\n",
      "\u001b[0;31mNvvmError\u001b[0m: Failed to compile\n\n<unnamed> (38, 31): parse expected comma after getelementptr's type\nNVVM_ERROR_COMPILATION"
     ]
    }
   ],
   "source": [
    "from __future__ import division\n",
    "from numba import cuda\n",
    "import numpy\n",
    "import math\n",
    "        \n",
    "\n",
    "\n",
    "# CUDA kernel\n",
    "@cuda.jit\n",
    "def my_kernel(io_array):\n",
    "    pos = cuda.grid(1)\n",
    "    if pos < io_array.size:\n",
    "        io_array[pos] *= 2 # do the computation\n",
    "\n",
    "# Host code   \n",
    "data = numpy.ones(256)\n",
    "threadsperblock = 256\n",
    "blockspergrid = math.ceil(data.shape[0] / threadsperblock)\n",
    "my_kernel[blockspergrid, threadsperblock](data)\n",
    "print(data)"
   ]
  },
  {
   "cell_type": "code",
   "execution_count": null,
   "metadata": {},
   "outputs": [],
   "source": [
    "\n"
   ]
  },
  {
   "cell_type": "code",
   "execution_count": null,
   "metadata": {},
   "outputs": [],
   "source": []
  },
  {
   "cell_type": "code",
   "execution_count": null,
   "metadata": {},
   "outputs": [],
   "source": []
  },
  {
   "cell_type": "code",
   "execution_count": null,
   "metadata": {},
   "outputs": [],
   "source": []
  },
  {
   "cell_type": "code",
   "execution_count": null,
   "metadata": {},
   "outputs": [],
   "source": []
  },
  {
   "cell_type": "code",
   "execution_count": null,
   "metadata": {},
   "outputs": [],
   "source": []
  },
  {
   "cell_type": "code",
   "execution_count": null,
   "metadata": {},
   "outputs": [],
   "source": []
  },
  {
   "cell_type": "code",
   "execution_count": null,
   "metadata": {},
   "outputs": [],
   "source": []
  }
 ],
 "metadata": {
  "kernelspec": {
   "display_name": "Python 3",
   "language": "python",
   "name": "python3"
  },
  "language_info": {
   "codemirror_mode": {
    "name": "ipython",
    "version": 3
   },
   "file_extension": ".py",
   "mimetype": "text/x-python",
   "name": "python",
   "nbconvert_exporter": "python",
   "pygments_lexer": "ipython3",
   "version": "3.6.9"
  }
 },
 "nbformat": 4,
 "nbformat_minor": 4
}
