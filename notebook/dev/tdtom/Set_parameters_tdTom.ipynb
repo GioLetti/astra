{
 "cells": [
  {
   "cell_type": "code",
   "execution_count": 8,
   "metadata": {},
   "outputs": [],
   "source": [
    "root_folder='/media/DATA/jbonato/astro_segm'"
   ]
  },
  {
   "cell_type": "code",
   "execution_count": 9,
   "metadata": {},
   "outputs": [],
   "source": [
    "import numpy as np\n",
    "import os\n",
    "import itertools\n",
    "from skimage import io\n",
    "import sys\n",
    "import h5py\n",
    "import glob\n",
    "from skimage import io\n",
    "import matplotlib.pyplot as plt\n",
    "from sklearn.metrics import f1_score\n",
    "import pickle\n",
    "import cv2\n",
    "\n",
    "#### MODULES used in the code\n",
    "sys.path.insert(0,root_folder+'/RASTA/modules/')\n",
    "#from img_Sp_Sharp import create_img\n",
    "from mask_roi_from_fiji import create_mask\n",
    "from gen_single_astro import save_im,tune_th,spatial_pp\n",
    "from sel_active_reg_gen import *\n",
    "\n",
    "#SET IMAGES DIM\n",
    "N = 512\n",
    "M = 512 \n",
    "\n",
    "#SET Parameters\n",
    "## dict active map extraction module\n",
    "# dict_param = {\n",
    "#     'list':[0,40,80,120,160],\n",
    "#     'blocks':15,\n",
    "#     'threads':32,\n",
    "#     'BPM_ratio':3,\n",
    "#     'bb':96,\n",
    "    \n",
    "#     'N_pix_st':100, #starting minimum area\n",
    "#     'astr_min':80, # approx. 0.9 min in dataset\n",
    "#     'percentile': 80,\n",
    "#     'pad':5,\n",
    "#     'astro_num':4, # number of astro min in FOV\n",
    "#     'init_th_':0.6, # threshold initialization\n",
    "#     'decr_dim':10, # astro area decrease\n",
    "#     'decr_th':25, # temporal threshold decrease\n",
    "#     'corr_int':False, # intensity correction flag\n",
    "#     'gpu_flag':True\n",
    "# }\n",
    "\n",
    "# dict_param = {\n",
    "#     'list':[0],\n",
    "#     'blocks':8,\n",
    "#     'threads':32,\n",
    "#     'BPM_ratio':8,\n",
    "#     'bb':256,\n",
    "#     'N_pix_st':250, #starting minimum area\n",
    "#     'astr_min':225, # approx. 0.9 min in dataset\n",
    "#     'percentile': 80,\n",
    "#     'pad':5,\n",
    "#     'astro_num':1, # number of astro min in FOV\n",
    "\n",
    "#     'init_th_':0.65, # threshold initialization approx. 120 frame\n",
    "#     'decr_dim':25, # astro area decrease\n",
    "#     'decr_th':25, # temporal threshold decrease\n",
    "#     'corr_int':False, # intensity correction flag\n",
    "#     'gpu_flag':True\n",
    "# }\n",
    "\n",
    "# dict_param = {\n",
    "#     'list':[i for i in range(0,390,30)],\n",
    "#     'blocks':15,\n",
    "#     'threads':20,\n",
    "#     'BPM_ratio':2,\n",
    "#     'bb':48,\n",
    "#     'N_pix_st':25, #starting minimum area\n",
    "#     'astr_min':22, \n",
    "#     'percentile': 90,\n",
    "#     'pad':0,\n",
    "#     'astro_num':95, # number of astro min in FOV\n",
    "#     'init_th':0.5, # threshold initialization approx. 125\n",
    "#     'decr_dim':3, # astro area decrease\n",
    "#     'decr_th':12, # temporal threshold decrease\n",
    "#     'corr_int':True, # intensity correction flag\n",
    "#     'gpu_flag':True\n",
    "# }\n",
    "\n",
    "#Dataset 4\n",
    "dict_param = {\n",
    "    'list':[i*29 for i in range(17)],\n",
    "    'blocks':17*2,\n",
    "    'threads':24,\n",
    "    'BPM_ratio':2,\n",
    "    'bb':48,\n",
    "    'N_pix_st':50, #starting minimum area\n",
    "    'astr_min':30, \n",
    "    'percentile': 90,\n",
    "    'pad':0,\n",
    "    'astro_num':90, # number of astro min in FOV\n",
    "    'init_th':0.5, # threshold initialization approx. 125\n",
    "    'decr_dim':5, # astro area decrease\n",
    "    'decr_th':12, # temporal threshold decrease\n",
    "    'corr_int':True, # intensity correction flag\n",
    "    'gpu_flag':True\n",
    "}\n"
   ]
  },
  {
   "cell_type": "code",
   "execution_count": null,
   "metadata": {},
   "outputs": [],
   "source": []
  },
  {
   "cell_type": "markdown",
   "metadata": {},
   "source": [
    "# Generate Masks from .zip "
   ]
  },
  {
   "cell_type": "code",
   "execution_count": 11,
   "metadata": {},
   "outputs": [
    {
     "name": "stdout",
     "output_type": "stream",
     "text": [
      "Created /media/DATA/jbonato/astro_segm/set4/dataset/\n"
     ]
    }
   ],
   "source": [
    "folder_to_save = root_folder+'/set4/dataset/'\n",
    "mask_path_root = root_folder+'/zip_mask/consensus/D4/'\n",
    "if not(os.path.exists(folder_to_save)):\n",
    "    os.mkdir(folder_to_save)\n",
    "    print('Created',folder_to_save)\n",
    "\n",
    "prefix='FOV_'\n",
    "folder_to_save+= prefix"
   ]
  },
  {
   "cell_type": "code",
   "execution_count": 12,
   "metadata": {},
   "outputs": [],
   "source": [
    "remove_flag = False  # set true if you want to remove all\n",
    "if remove_flag:\n",
    "    for fl in glob.glob(folder_to_save+'*.hdf5'):\n",
    "        os.remove(fl)\n",
    "    for fl in glob.glob(folder_to_save+'*.tif'):\n",
    "        os.remove(fl)\n",
    "\n",
    "items = os.listdir(mask_path_root)#collect folder\n",
    "items = [i for i in items if 'FOV' in i]"
   ]
  },
  {
   "cell_type": "code",
   "execution_count": 13,
   "metadata": {},
   "outputs": [
    {
     "data": {
      "text/plain": [
       "['FOV_001.zip',\n",
       " 'FOV_002.zip',\n",
       " 'FOV_008.zip',\n",
       " 'FOV_006.zip',\n",
       " 'FOV_007.zip',\n",
       " 'FOV_003.zip',\n",
       " 'FOV_004.zip',\n",
       " 'FOV_005.zip']"
      ]
     },
     "execution_count": 13,
     "metadata": {},
     "output_type": "execute_result"
    }
   ],
   "source": [
    "items"
   ]
  },
  {
   "cell_type": "code",
   "execution_count": 14,
   "metadata": {},
   "outputs": [
    {
     "name": "stdout",
     "output_type": "stream",
     "text": [
      "mask num:  001  in  /media/DATA/jbonato/astro_segm/zip_mask/consensus/D4/FOV_001.zip\n",
      "mask num:  002  in  /media/DATA/jbonato/astro_segm/zip_mask/consensus/D4/FOV_002.zip\n",
      "mask num:  008  in  /media/DATA/jbonato/astro_segm/zip_mask/consensus/D4/FOV_008.zip\n",
      "mask num:  006  in  /media/DATA/jbonato/astro_segm/zip_mask/consensus/D4/FOV_006.zip\n",
      "mask num:  007  in  /media/DATA/jbonato/astro_segm/zip_mask/consensus/D4/FOV_007.zip\n",
      "mask num:  003  in  /media/DATA/jbonato/astro_segm/zip_mask/consensus/D4/FOV_003.zip\n",
      "mask num:  004  in  /media/DATA/jbonato/astro_segm/zip_mask/consensus/D4/FOV_004.zip\n",
      "mask num:  005  in  /media/DATA/jbonato/astro_segm/zip_mask/consensus/D4/FOV_005.zip\n"
     ]
    }
   ],
   "source": [
    "im_enh_l=[]\n",
    "\n",
    "for item in items:        \n",
    "        ######################################Mask#################################################\n",
    "        mask_path = mask_path_root+item\n",
    "        print('mask num: ',mask_path[-7:-4],' in ',mask_path)\n",
    "\n",
    "        c_mask = create_mask(mask_path)###mask generation from .zip file generated using fiji\n",
    "        instances_num = c_mask.get_dim()\n",
    "\n",
    "        mask = np.empty((N, M, instances_num))\n",
    "        soma_num, mask = c_mask.create_multiple_mask_im(im_dim=512)#im_dim=None add this attribute \n",
    "        #if N,M are different from 256\n",
    "\n",
    "        values_soma = np.zeros((N,M),dtype = np.float32 )\n",
    "\n",
    "        values_soma = np.sum(mask[:,:,:soma_num],axis=2)\n",
    "        values = np.sum(mask[:,:,soma_num:],axis=2)\n",
    "        values[values>1]=1\n",
    "        values = values.astype(np.float32) \n",
    "        values_soma = values_soma.astype(np.float32)\n",
    "        \n",
    "        #save unfiltered mask\n",
    "        with h5py.File(folder_to_save +mask_path[-7:-4]+'_nf.hdf5','w') as f:\n",
    "            dset = f.create_dataset('Values',data=values)\n",
    "            dset2 = f.create_dataset('Values_soma',data=values_soma)\n",
    "                "
   ]
  },
  {
   "cell_type": "markdown",
   "metadata": {},
   "source": [
    "# Get Somata Area"
   ]
  },
  {
   "cell_type": "code",
   "execution_count": 15,
   "metadata": {},
   "outputs": [
    {
     "name": "stdout",
     "output_type": "stream",
     "text": [
      "/media/DATA/jbonato/astro_segm/set4/dataset/FOV_001_nf.hdf5\n",
      "(512, 512)\n",
      "71 258\n",
      "/media/DATA/jbonato/astro_segm/set4/dataset/FOV_002_nf.hdf5\n",
      "(512, 512)\n",
      "52 174\n",
      "/media/DATA/jbonato/astro_segm/set4/dataset/FOV_003_nf.hdf5\n",
      "(512, 512)\n",
      "56 213\n",
      "/media/DATA/jbonato/astro_segm/set4/dataset/FOV_004_nf.hdf5\n",
      "(512, 512)\n",
      "63 200\n",
      "/media/DATA/jbonato/astro_segm/set4/dataset/FOV_005_nf.hdf5\n",
      "(512, 512)\n",
      "48 158\n",
      "/media/DATA/jbonato/astro_segm/set4/dataset/FOV_006_nf.hdf5\n",
      "(512, 512)\n",
      "52 171\n",
      "/media/DATA/jbonato/astro_segm/set4/dataset/FOV_007_nf.hdf5\n",
      "(512, 512)\n",
      "40 142\n",
      "/media/DATA/jbonato/astro_segm/set4/dataset/FOV_008_nf.hdf5\n",
      "(512, 512)\n",
      "46 173\n",
      "There are 638 somata\n",
      "MIN 40 and MAX 258\n"
     ]
    }
   ],
   "source": [
    "def measure_soma(soma,area_soma):\n",
    "    ret, labels = cv2.connectedComponents(np.uint8(soma))\n",
    "    min = 10000\n",
    "    max = 0\n",
    "    for i in range(1,ret):\n",
    "        pts = np.where(labels==i)\n",
    "        area_soma.append(len(pts[0]))\n",
    "        if len(pts[0])<min:\n",
    "            min = len(pts[0])\n",
    "        elif len(pts[0])>max:\n",
    "            max = len(pts[0])\n",
    "            \n",
    "    print(min,max)\n",
    "    return ret-1\n",
    "\n",
    "items = glob.glob(root_folder+'/set4/dataset/*.hdf5')\n",
    "#items = glob.glob('/media/DATA/jbonato/segm_project/mask_compl/*.hdf5')\n",
    "hdf5_tot=[i for i in items if 'nf' in i]\n",
    "res = np.empty((len(hdf5_tot),2))\n",
    "hdf5_tot.sort()\n",
    "hdf5_tot\n",
    "\n",
    "area_soma = []\n",
    "\n",
    "g=0\n",
    "for i in hdf5_tot:\n",
    "    print(i)\n",
    "    area_soma_s = []\n",
    "    dset= h5py.File(i,'r') \n",
    "    proc_mask =  np.asarray(dset['Values'])\n",
    "    soma_mask =  np.asarray(dset['Values_soma'])\n",
    "    print(proc_mask.shape)\n",
    "    proc_mask -= soma_mask\n",
    "    proc_mask[proc_mask<0]=0\n",
    "    g+= measure_soma(soma_mask,area_soma_s)\n",
    "    \n",
    "    area_soma.append(area_soma_s)\n",
    "\n",
    "\n",
    "area_soma = list(itertools.chain.from_iterable(area_soma))\n",
    "area_soma = np.asarray(area_soma)\n",
    "print('There are {:d} somata'.format(g))\n",
    "print('MIN {:d} and MAX {:d}'.format(area_soma.min(),area_soma.max()))\n",
    "dict_param['max_min'] = np.asarray([area_soma.max(),area_soma.min()])"
   ]
  },
  {
   "cell_type": "code",
   "execution_count": 16,
   "metadata": {},
   "outputs": [
    {
     "data": {
      "text/plain": [
       "<matplotlib.image.AxesImage at 0x7fca145db160>"
      ]
     },
     "execution_count": 16,
     "metadata": {},
     "output_type": "execute_result"
    },
    {
     "data": {
      "image/png": "[encoded data removed]",
      "text/plain": [
       "<Figure size 432x288 with 1 Axes>"
      ]
     },
     "metadata": {
      "needs_background": "light"
     },
     "output_type": "display_data"
    }
   ],
   "source": [
    "plt.imshow(soma_mask)"
   ]
  },
  {
   "cell_type": "markdown",
   "metadata": {},
   "source": [
    "# Compute Thresholds in Local Activity filter"
   ]
  },
  {
   "cell_type": "code",
   "execution_count": 10,
   "metadata": {},
   "outputs": [
    {
     "name": "stdout",
     "output_type": "stream",
     "text": [
      "/astro_folder/set4/1/ ['/astro_folder/set4/1/TSeries-06282021-1014-791_Ch1__movie_corrected.tiff']\n",
      "512\n",
      "3354.0\n",
      "THRESH 0.3 0.15\n",
      "THRESH 0.25 0.1\n",
      "THRESH 0.2 0.07\n",
      "THRESH 0.15 0.05\n",
      "SOMA [3.60763268 1.1627907  0.47704234 0.14907573]\n",
      "Proc [13.6436967   6.96012906  4.26365522  3.2265499 ]\n",
      "/astro_folder/set4/2/ ['/astro_folder/set4/2/TSeries-07012021-0901-798_Ch1__movie_corrected.tiff']\n",
      "512\n",
      "2756.0\n",
      "THRESH 0.3 0.15\n",
      "THRESH 0.25 0.1\n",
      "THRESH 0.2 0.07\n",
      "THRESH 0.15 0.05\n",
      "SOMA [0.79825835 0.07256894 0.         0.        ]\n",
      "Proc [3.72409326 2.81735751 2.4611399  2.39637306]\n",
      "/astro_folder/set4/3/ ['/astro_folder/set4/3/TSeries-07012021-0901-799_Ch1__movie_corrected.tiff']\n",
      "512\n",
      "2522.0\n",
      "THRESH 0.3 0.15\n",
      "THRESH 0.25 0.1\n",
      "THRESH 0.2 0.07\n",
      "THRESH 0.15 0.05\n",
      "SOMA [6.66137986 0.15860428 0.         0.        ]\n",
      "Proc [29.79885057 12.21264368 10.37356322 10.31609195]\n",
      "/astro_folder/set4/4/ ['/astro_folder/set4/4/TOMATO_14_Ch1__concatenate_corrected_aligned.tiff']\n",
      "512\n",
      "2815.0\n",
      "THRESH 0.3 0.15\n",
      "THRESH 0.25 0.1\n",
      "THRESH 0.2 0.07\n",
      "THRESH 0.15 0.05\n",
      "SOMA [7.95737123 1.34991119 0.14209591 0.        ]\n",
      "Proc [32.25294651  7.3662738   2.56119674  2.06255666]\n",
      "/astro_folder/set4/5/ ['/astro_folder/set4/5/TOMATO_17_Ch1__concatenate_corrected_aligned.tiff']\n",
      "512\n",
      "2189.0\n",
      "THRESH 0.3 0.15\n",
      "THRESH 0.25 0.1\n",
      "THRESH 0.2 0.07\n",
      "THRESH 0.15 0.05\n",
      "SOMA [6.898127   0.63956144 0.         0.        ]\n",
      "Proc [31.02253033  7.72468433  5.4468928   5.32309978]\n",
      "/astro_folder/set4/6/ ['/astro_folder/set4/6/TOMATO_20_Ch1__concatenate_corrected_aligned.tiff']\n",
      "512\n",
      "4348.0\n",
      "THRESH 0.3 0.15\n",
      "THRESH 0.25 0.1\n",
      "THRESH 0.2 0.07\n",
      "THRESH 0.15 0.05\n",
      "SOMA [3.28886845 1.2649494  0.48298068 0.1149954 ]\n",
      "Proc [13.78758228  8.45045366  6.0665362   4.1451699 ]\n",
      "/astro_folder/set4/7/ ['/astro_folder/set4/7/TOMATO_23_Ch1__concatenate_corrected_aligned.tiff']\n",
      "512\n",
      "2543.0\n",
      "THRESH 0.3 0.15\n",
      "THRESH 0.25 0.1\n",
      "THRESH 0.2 0.07\n",
      "THRESH 0.15 0.05\n",
      "SOMA [2.04482894 0.62917814 0.39323634 0.1179709 ]\n",
      "Proc [9.83606557 5.47479122 3.71172286 2.56727498]\n",
      "/astro_folder/set4/8/ ['/astro_folder/set4/8/TOMATO_26_Ch1__concatenate_corrected_aligned.tiff']\n",
      "512\n",
      "3152.0\n",
      "THRESH 0.3 0.15\n",
      "THRESH 0.25 0.1\n",
      "THRESH 0.2 0.07\n",
      "THRESH 0.15 0.05\n",
      "SOMA [3.61675127 1.58629442 0.72969543 0.28553299]\n",
      "Proc [12.58726899  6.18069815  3.47022587  2.2587269 ]\n"
     ]
    }
   ],
   "source": [
    "path = root_folder+'/set4/'\n",
    "res = np.zeros((4,2,8))\n",
    "fov = 0\n",
    "for j in range(1,9):\n",
    "    if j !=20:\n",
    "        \n",
    "        if len(str(j))==1:\n",
    "            test_folder_str='00'+str(j)\n",
    "        else:\n",
    "            test_folder_str='0'+str(j)\n",
    "        \n",
    "        path_f = path+str(j)+'/'\n",
    "        item = glob.glob(path_f+'*')\n",
    "        print(path_f,item)\n",
    " \n",
    "        sp_pp=spatial_pp(item[0])\n",
    "        stack,_ = sp_pp.create_img_d4()\n",
    "        ### use functions in spatia_pp for the generation of corrected stack\n",
    "        ### for dataset2 and dataset3\n",
    "        T,N,_ = stack.shape\n",
    "        print(N)\n",
    "        Res_file_path=root_folder+'/set4/dataset/FOV_'+test_folder_str+'_nf.hdf5'\n",
    "        Res_mat = np.empty((N,N,2))\n",
    "        dset= h5py.File(Res_file_path,'r') \n",
    "        Res_mat[:,:,0] =  np.asarray(dset['Values'])\n",
    "        Res_mat[:,:,1] =  np.asarray(dset['Values_soma'])\n",
    "\n",
    "        print(np.sum(Res_mat[:300,:300,1]))\n",
    "        th_res = tune_th(stack[:,:300,:300],mask=Res_mat[:300,:300,:],BB_dim=48)\n",
    "        \n",
    "        thre = th_res.save_im()\n",
    "        print('SOMA',thre[:,0])\n",
    "        print('Proc',thre[:,1])\n",
    "        if j>20:\n",
    "            res[:,:,j-2] = thre\n",
    "        else:\n",
    "            res[:,:,j-1] = thre\n",
    "\n"
   ]
  },
  {
   "cell_type": "code",
   "execution_count": 9,
   "metadata": {},
   "outputs": [],
   "source": [
    "# res[:,0,:3]"
   ]
  },
  {
   "cell_type": "code",
   "execution_count": 11,
   "metadata": {},
   "outputs": [
    {
     "name": "stdout",
     "output_type": "stream",
     "text": [
      "(4, 2)\n"
     ]
    },
    {
     "data": {
      "text/plain": [
       "Text(0.5, 1.0, 'Processes')"
      ]
     },
     "execution_count": 11,
     "metadata": {},
     "output_type": "execute_result"
    },
    {
     "data": {
      "image/png": "[encoded data removed]",
      "text/plain": [
       "<Figure size 1080x288 with 2 Axes>"
      ]
     },
     "metadata": {
      "needs_background": "light"
     },
     "output_type": "display_data"
    }
   ],
   "source": [
    "vec = np.mean(res,axis=2)\n",
    "err = np.std(res,axis=2)\n",
    "print(vec.shape)\n",
    "fig,[ax1,ax2] = plt.subplots(figsize=(15,4),ncols=2,nrows=1)\n",
    "ax1.errorbar(np.arange(4),vec[:,0],yerr=err[:,0])\n",
    "ax2.errorbar(np.arange(4),vec[:,1],yerr=err[:,1])\n",
    "ax1.set_xticks(np.arange(4))\n",
    "ax2.set_xticks(np.arange(4))\n",
    "ax1.set_xticklabels([0.3,0.25,0.20,0.15])\n",
    "ax2.set_xticklabels([0.15,0.1,0.07,0.05])\n",
    "ax1.hlines(xmin=0,xmax=4,y=5,linestyles='dotted')\n",
    "ax2.hlines(xmin=0,xmax=4,y=5,linestyles='dotted')\n",
    "ax1.set_title('Somata')\n",
    "ax2.set_title('Processes')\n"
   ]
  },
  {
   "cell_type": "code",
   "execution_count": 17,
   "metadata": {},
   "outputs": [],
   "source": [
    "dict_param['th1_p']=0.25\n",
    "dict_param['th2_p']=0.1"
   ]
  },
  {
   "cell_type": "markdown",
   "metadata": {},
   "source": [
    "# Activity Map Generator: Set percentile"
   ]
  },
  {
   "cell_type": "code",
   "execution_count": 9,
   "metadata": {},
   "outputs": [
    {
     "name": "stdout",
     "output_type": "stream",
     "text": [
      "/media/DATA/jbonato/astro_segm/set1/1/ ['/media/DATA/jbonato/astro_segm/set1/1/TSeries-04082019-1513-1250_Ch2__movie_corrected_aligned.tiff']\n",
      "/media/DATA/jbonato/astro_segm/set1/2/ ['/media/DATA/jbonato/astro_segm/set1/2/TSeries-04082019-1513-1251_Ch2__movie_corrected_aligned.tiff']\n",
      "/media/DATA/jbonato/astro_segm/set1/3/ ['/media/DATA/jbonato/astro_segm/set1/3/TSeries-04082019-1513-1252_Ch2__movie_corrected_aligned.tiff']\n",
      "/media/DATA/jbonato/astro_segm/set1/4/ ['/media/DATA/jbonato/astro_segm/set1/4/TSeries-04112019-1605-1257_Ch2__movie_corrected_aligned.tiff']\n",
      "/media/DATA/jbonato/astro_segm/set1/5/ ['/media/DATA/jbonato/astro_segm/set1/5/TSeries-04112019-1605-1258_Ch2__movie_corrected_aligned.tiff']\n",
      "/media/DATA/jbonato/astro_segm/set1/6/ ['/media/DATA/jbonato/astro_segm/set1/6/TSeries-04112019-1605-1266_Ch2__movie_corrected_aligned.tiff']\n",
      "/media/DATA/jbonato/astro_segm/set1/7/ ['/media/DATA/jbonato/astro_segm/set1/7/TSeries-04112019-1605-1267_Ch2__movie_corrected_aligned.tiff']\n",
      "/media/DATA/jbonato/astro_segm/set1/8/ ['/media/DATA/jbonato/astro_segm/set1/8/TSeries-04112019-1605-1268_Ch2__movie_corrected_aligned.tiff']\n",
      "/media/DATA/jbonato/astro_segm/set1/9/ ['/media/DATA/jbonato/astro_segm/set1/9/TSeries-04172019-1817-1280_Ch2__movie_corrected_aligned.tiff']\n",
      "/media/DATA/jbonato/astro_segm/set1/10/ ['/media/DATA/jbonato/astro_segm/set1/10/TSeries-04172019-1817-1281_Ch2__movie_corrected_aligned.tiff']\n",
      "/media/DATA/jbonato/astro_segm/set1/11/ ['/media/DATA/jbonato/astro_segm/set1/11/TSeries-04172019-1817-1282_Ch2__movie_corrected_aligned.tiff']\n",
      "/media/DATA/jbonato/astro_segm/set1/12/ ['/media/DATA/jbonato/astro_segm/set1/12/TSeries-04172019-1817-1287_Ch2__movie_corrected_aligned.tiff']\n",
      "/media/DATA/jbonato/astro_segm/set1/13/ ['/media/DATA/jbonato/astro_segm/set1/13/TSeries-04172019-1817-1288_Ch2__movie_corrected_aligned.tiff']\n",
      "/media/DATA/jbonato/astro_segm/set1/14/ ['/media/DATA/jbonato/astro_segm/set1/14/TSeries-04172019-1817-1289_Ch2__movie_corrected_aligned.tiff']\n",
      "/media/DATA/jbonato/astro_segm/set1/15/ ['/media/DATA/jbonato/astro_segm/set1/15/TSeries-04182019-1453-1295_Ch2__movie_corrected_aligned.tiff']\n",
      "/media/DATA/jbonato/astro_segm/set1/16/ ['/media/DATA/jbonato/astro_segm/set1/16/TSeries-06072018-1654-1094_Ch2__movie_corrected_aligned.tiff']\n",
      "/media/DATA/jbonato/astro_segm/set1/17/ ['/media/DATA/jbonato/astro_segm/set1/17/TSeries-07192018-1913-1119_Ch2__movie_corrected_aligned.tiff']\n",
      "/media/DATA/jbonato/astro_segm/set1/18/ ['/media/DATA/jbonato/astro_segm/set1/18/TSeries-07262018-1151-1126_Ch2__movie_corrected_aligned.tiff']\n",
      "/media/DATA/jbonato/astro_segm/set1/19/ ['/media/DATA/jbonato/astro_segm/set1/19/TSeries-07262018-1151-1129_Ch2__movie_corrected_aligned.tiff']\n",
      "/media/DATA/jbonato/astro_segm/set1/21/ ['/media/DATA/jbonato/astro_segm/set1/21/TSeries-09042017-1020-547_Cycle00001_Ch2_0000movieNoRM4Iteration.tif']\n",
      "/media/DATA/jbonato/astro_segm/set1/22/ ['/media/DATA/jbonato/astro_segm/set1/22/TSeries-09042017-1020-551_Cycle00001_Ch2_0000movieNoRM4Iteration.tif']\n",
      "/media/DATA/jbonato/astro_segm/set1/23/ ['/media/DATA/jbonato/astro_segm/set1/23/TSeries-09052017-1126-559_Cycle00001_Ch2_0000movieNoRM4Iteration.tif']\n",
      "/media/DATA/jbonato/astro_segm/set1/24/ ['/media/DATA/jbonato/astro_segm/set1/24/TSeries-09052017-1126-564_Cycle00001_Ch2_0000movieNoRM4Iteration.tif']\n",
      "/media/DATA/jbonato/astro_segm/set1/25/ ['/media/DATA/jbonato/astro_segm/set1/25/TSeries-09052017-1126-572_Cycle00001_Ch2_0000movie_momovieNoRM4Iteration.tif']\n"
     ]
    }
   ],
   "source": [
    "\n",
    "res = np.empty((24,7))\n",
    "fov = 0\n",
    "resize=False\n",
    "\n",
    "for j in range(1,26):\n",
    "    if j !=20:\n",
    "        \n",
    "        if len(str(j))==1:\n",
    "            test_folder_str='00'+str(j)\n",
    "        else:\n",
    "            test_folder_str='0'+str(j)\n",
    "        \n",
    "        path_f = path+str(j)+'/'\n",
    "        item = glob.glob(path_f+'*')\n",
    "        print(path_f,item)\n",
    "        \n",
    "        #for dataset2 and dataset3 this class is necessary to transform the stack\n",
    "        #sp_pp=spatial_pp(item[0])\n",
    "        #stack,_ = sp_pp.create_img()\n",
    "\n",
    "        stack = io.imread(item[0])\n",
    "        T,N,_ = stack.shape\n",
    "\n",
    "        Res_file_path=root_path+'/set1/dataset/SMALL_'+test_folder_str+'_nf.hdf5'\n",
    "        Res_mat = np.empty((N,N,2))\n",
    "        dset= h5py.File(Res_file_path,'r') \n",
    "        Res_mat[:,:,0] =  np.asarray(dset['Values'])\n",
    "        Res_mat[:,:,1] =  np.asarray(dset['Values_soma'])\n",
    "\n",
    "\n",
    "        maskGT = np.sum(Res_mat,axis=2)\n",
    "        maskGT[maskGT>1]=1\n",
    "        iter_ = 0\n",
    "        for i in [30,40,50,60,70,80,90]:\n",
    "            \n",
    "            dict_param['percentile'] = i \n",
    "            \n",
    "            cr = sel_active_reg(stack,dict_param,verbose=False)\n",
    "            mask = cr.get_mask()\n",
    "            res[fov,iter_] = f1_score(maskGT.flatten(), mask.flatten(), average='binary')\n",
    "            iter_+=1\n",
    "        fov+=1"
   ]
  },
  {
   "cell_type": "code",
   "execution_count": null,
   "metadata": {},
   "outputs": [],
   "source": []
  },
  {
   "cell_type": "code",
   "execution_count": 10,
   "metadata": {},
   "outputs": [
    {
     "data": {
      "image/png": "[encoded data removed]",
      "text/plain": [
       "<Figure size 720x576 with 1 Axes>"
      ]
     },
     "metadata": {
      "needs_background": "light"
     },
     "output_type": "display_data"
    }
   ],
   "source": [
    "fig, ax = plt.subplots(figsize=(10,8),ncols = 1, nrows = 1)\n",
    "\n",
    "ax.errorbar(np.arange(7),np.nanmean(res,axis=0),yerr=np.nanstd(res,axis=0),fmt='--', marker='s')\n",
    "ax.set_xticklabels(labels =[0,30,40,50,60,70,80,90],fontsize=16)\n",
    "\n",
    "ax.set_xlabel('Percentile values',fontsize=16)\n",
    "ax.set_ylabel('F1-score',fontsize=16)\n",
    "ax.tick_params(axis=\"y\", labelsize=16)\n"
   ]
  },
  {
   "cell_type": "code",
   "execution_count": 18,
   "metadata": {},
   "outputs": [],
   "source": [
    "dict_param['percentile']=80"
   ]
  },
  {
   "cell_type": "markdown",
   "metadata": {},
   "source": [
    "# Save Dictionary values"
   ]
  },
  {
   "cell_type": "code",
   "execution_count": 21,
   "metadata": {},
   "outputs": [],
   "source": [
    "set_dir=root_folder+'/set4/.tmp/'\n",
    "\n",
    "if not(os.path.exists(set_dir)):\n",
    "    os.mkdir(set_dir)\n",
    "    print('Created',set_dir)\n",
    "    \n",
    "with open(set_dir+'dict_dataset.txt', \"wb\") as fp:   #Pickling\n",
    "    pickle.dump(dict_param, fp)"
   ]
  },
  {
   "cell_type": "code",
   "execution_count": 22,
   "metadata": {},
   "outputs": [
    {
     "data": {
      "text/plain": [
       "{'list': [0,\n",
       "  29,\n",
       "  58,\n",
       "  87,\n",
       "  116,\n",
       "  145,\n",
       "  174,\n",
       "  203,\n",
       "  232,\n",
       "  261,\n",
       "  290,\n",
       "  319,\n",
       "  348,\n",
       "  377,\n",
       "  406,\n",
       "  435,\n",
       "  464],\n",
       " 'blocks': 34,\n",
       " 'threads': 24,\n",
       " 'BPM_ratio': 2,\n",
       " 'bb': 48,\n",
       " 'N_pix_st': 50,\n",
       " 'astr_min': 30,\n",
       " 'percentile': 80,\n",
       " 'pad': 0,\n",
       " 'astro_num': 90,\n",
       " 'init_th': 0.5,\n",
       " 'decr_dim': 5,\n",
       " 'decr_th': 12,\n",
       " 'corr_int': True,\n",
       " 'gpu_flag': True,\n",
       " 'max_min': array([258,  40]),\n",
       " 'th1_p': 0.25,\n",
       " 'th2_p': 0.1}"
      ]
     },
     "execution_count": 22,
     "metadata": {},
     "output_type": "execute_result"
    }
   ],
   "source": [
    "dict_param"
   ]
  },
  {
   "cell_type": "code",
   "execution_count": null,
   "metadata": {},
   "outputs": [],
   "source": []
  },
  {
   "cell_type": "code",
   "execution_count": null,
   "metadata": {},
   "outputs": [],
   "source": []
  },
  {
   "cell_type": "code",
   "execution_count": null,
   "metadata": {},
   "outputs": [],
   "source": []
  }
 ],
 "metadata": {
  "kernelspec": {
   "display_name": "Python 3",
   "language": "python",
   "name": "python3"
  },
  "language_info": {
   "codemirror_mode": {
    "name": "ipython",
    "version": 3
   },
   "file_extension": ".py",
   "mimetype": "text/x-python",
   "name": "python",
   "nbconvert_exporter": "python",
   "pygments_lexer": "ipython3",
   "version": "3.6.8"
  }
 },
 "nbformat": 4,
 "nbformat_minor": 4
}
