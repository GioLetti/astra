{
 "cells": [
  {
   "cell_type": "code",
   "execution_count": 13,
   "metadata": {},
   "outputs": [],
   "source": [
    "root_folder='/media/DATA/jbonato/astro_segm'"
   ]
  },
  {
   "cell_type": "code",
   "execution_count": 14,
   "metadata": {},
   "outputs": [],
   "source": [
    "import numpy as np\n",
    "import matplotlib.pyplot as plt\n",
    "import os\n",
    "from skimage import io\n",
    "import sys\n",
    "import h5py\n",
    "import glob\n",
    "import shutil\n",
    "from joblib import Parallel, delayed\n",
    "import torch\n",
    "import torch.nn.functional as F\n",
    "from torch.utils.data import Dataset, DataLoader\n",
    "from torchvision import transforms, datasets, models\n",
    "from torchsummary import summary\n",
    "import torch.optim as optim\n",
    "from torch.optim import lr_scheduler\n",
    "import torch.nn as nn\n",
    "from collections import defaultdict\n",
    "\n",
    "import time\n",
    "import copy\n",
    " \n",
    "\n",
    "# ##################import modules\n",
    "sys.path.insert(0,root_folder+'/RASTA/modules/')\n",
    "from aug_images import compose_tr\n",
    "\n",
    "from model.dense_up import dense_up\n",
    "from train_mod import train_model\n",
    "\n",
    "\n",
    "# torch.backends.cudnn.benchmark = True\n",
    "# torch.backends.cudnn.enabled = True"
   ]
  },
  {
   "cell_type": "markdown",
   "metadata": {},
   "source": [
    "## Set up"
   ]
  },
  {
   "cell_type": "code",
   "execution_count": 15,
   "metadata": {},
   "outputs": [
    {
     "name": "stdout",
     "output_type": "stream",
     "text": [
      "Removing: FOV: 007\n"
     ]
    }
   ],
   "source": [
    "model_dict={'dense_up': dense_up(3)\n",
    "            }\n",
    "folder_w = root_folder+'/weights/'\n",
    "if not(os.path.exists(folder_w)):\n",
    "    os.mkdir(folder_w)\n",
    "    print('Created',folder_w)\n",
    "    \n",
    "#########################\n",
    "model_n = 'dense_up'\n",
    "parallel_n =True\n",
    "data_dir = root_folder+'/set4/train_single'\n",
    "workers = 1\n",
    "epochs = 15\n",
    "batch_size = 35\n",
    "lr = 1e-4\n",
    "parallel = True\n",
    "test_folders = ['7']\n",
    "#image size: this value must be divisible for 2^4 i.e. 98, 128,256,512\n",
    "N=48\n",
    "M=48\n",
    "###########################\n",
    "items = os.listdir(data_dir)\n",
    "for test_f in test_folders:\n",
    "   \n",
    "    test_folder_str = test_f\n",
    "    if len(test_folder_str)==1:\n",
    "        test_folder_str='00'+test_folder_str\n",
    "    else:\n",
    "        test_folder_str='0'+test_folder_str\n",
    "\n",
    "    print('Removing: FOV:',test_folder_str)\n",
    "    test=[]\n",
    "    query_num = len(items)\n",
    "    for i in items:\n",
    "        if 'SMALL_'+test_folder_str in i:\n",
    "            items.remove(i)\n",
    "            test.append(i)\n",
    "\n",
    "    assert query_num-len(test)==len(items),'Error in removing test folders'\n",
    "\n",
    "\n",
    "\n"
   ]
  },
  {
   "cell_type": "markdown",
   "metadata": {},
   "source": [
    "## Images Loading"
   ]
  },
  {
   "cell_type": "code",
   "execution_count": 16,
   "metadata": {},
   "outputs": [
    {
     "name": "stdout",
     "output_type": "stream",
     "text": [
      "im shape: (577, 1, 48, 48)\n",
      "label shape (577, 3, 48, 48)\n",
      "Training Images: 404\n",
      "Cross Validation Images: 173\n"
     ]
    }
   ],
   "source": [
    "counter = 0\n",
    "counter2 = 0\n",
    "query_pref = 'nh'# the files in train_single folder with this suffix will not be loaded\n",
    "\n",
    "im = np.empty((N,M),dtype = np.float32)\n",
    "\n",
    "flag=True\n",
    "for item in items:\n",
    "    path_to_item = os.path.join(data_dir,item)\n",
    "    filename, file_extension = os.path.splitext(path_to_item)\n",
    "    if os.path.isfile(path_to_item) and file_extension == '.tif' and filename[-2:]!='nh':        \n",
    "        im = io.imread(path_to_item)\n",
    "        #if counter == 0: \n",
    "        if flag:\n",
    "            out_im = im\n",
    "            out_im = out_im[np.newaxis,:,:]\n",
    "        else:\n",
    "            out_im = np.concatenate((out_im,im[np.newaxis,:,:]),axis=0)\n",
    "        \n",
    "        dset= h5py.File(filename+'.hdf5','r') \n",
    "        proc_mask =  np.asarray(dset['Values'])\n",
    "        soma_mask =  np.asarray(dset['Values_soma'])\n",
    "        proc_mask[np.where(proc_mask==soma_mask)]=0\n",
    "        back = np.ones((N,M),dtype=np.int64)-proc_mask-soma_mask\n",
    "        back[back<0]=0\n",
    "        mask = np.concatenate((proc_mask[:,:,np.newaxis],soma_mask[:,:,np.newaxis],back[:,:,np.newaxis]),axis=2).astype(np.float32)\n",
    "        \n",
    "        if flag:\n",
    "            label = mask\n",
    "            label = label[np.newaxis,:,:,:]\n",
    "            flag=False\n",
    "        else:\n",
    "            label = np.concatenate((label,mask[np.newaxis,:,:,:]),axis=0)\n",
    "        \n",
    "\n",
    "label = np.swapaxes(label,1,3)\n",
    "label = np.swapaxes(label,2,3)\n",
    "\n",
    "out_im = out_im[:,np.newaxis,:,:].astype(np.float32)\n",
    "\n",
    "print('im shape:',out_im.shape)\n",
    "print('label shape', label.shape)\n",
    "\n",
    "NN = out_im.shape[0]-(out_im.shape[0]*3)//10\n",
    "#val im\n",
    "out_im_val = out_im[NN:,:,:,:]\n",
    "#tr im\n",
    "out_im =out_im[:NN,:,:,:]\n",
    "#val labels\n",
    "label_val =label[NN:,:,:,:]\n",
    "#tr labels\n",
    "label =label[:NN,:,:,:]\n",
    "\n",
    "print('Training Images:', out_im.shape[0])\n",
    "print('Cross Validation Images:', out_im_val.shape[0])\n"
   ]
  },
  {
   "cell_type": "markdown",
   "metadata": {},
   "source": [
    "## Data Augmentation"
   ]
  },
  {
   "cell_type": "code",
   "execution_count": 17,
   "metadata": {},
   "outputs": [
    {
     "name": "stdout",
     "output_type": "stream",
     "text": [
      "16\n"
     ]
    },
    {
     "name": "stderr",
     "output_type": "stream",
     "text": [
      "[Parallel(n_jobs=12)]: Using backend ThreadingBackend with 12 concurrent workers.\n",
      "[Parallel(n_jobs=12)]: Done  26 tasks      | elapsed:    0.2s\n",
      "[Parallel(n_jobs=12)]: Done 176 tasks      | elapsed:    0.9s\n",
      "[Parallel(n_jobs=12)]: Done 404 out of 404 | elapsed:    2.0s finished\n"
     ]
    },
    {
     "name": "stdout",
     "output_type": "stream",
     "text": [
      "Training set loaded\n",
      "Training Images: 6868\n",
      "Cross Validation Images: 173\n"
     ]
    }
   ],
   "source": [
    "##blur\n",
    "param_blur = {\n",
    "    'sigma':6\n",
    "}\n",
    "N=48\n",
    "M=48\n",
    "##perspective\n",
    "Nper20 = int(N*0.2)\n",
    "Mper20 = int(M*0.2)\n",
    "pts2m = [np.float32([[0,0],[0,N],[M-Mper20,Nper20],[M-Mper20,N-Nper20]]),\n",
    "        np.float32([[Mper20,Nper20],[Mper20,N-Nper20],[M,0],[M,N]]),\n",
    "        np.float32([[0,0],[Mper20,N-Nper20],[M,0],[M-Mper20,N-Nper20]]),\n",
    "        np.float32([[Mper20,Nper20],[0,N],[M-Mper20,Nper20],[M,N]])]\n",
    "param_persp ={\n",
    "    'len':len(pts2m),\n",
    "    'pts2m': pts2m\n",
    "    }\n",
    "#optic\n",
    "param_pin = {\n",
    "     'pin_fact': -0.5 \n",
    "}\n",
    "param_bar = {\n",
    "    'bar_fact': 0.8\n",
    "}\n",
    "##elastic spec:\n",
    "param_el = {\n",
    "    'alpha': N*0.3,\n",
    "    'sigma': N*0.08,\n",
    "    'alpha_affine': N*0.08,\n",
    "    'iteration':2\n",
    "}\n",
    "########################################################################\n",
    "#Dict for augmentation\n",
    "########################################################################\n",
    "augmenters_dict = {\n",
    "    'rot':[3],\n",
    "    'blur':[1,param_blur],\n",
    "    'noise_gauss':[1],\n",
    "    'noise_sp':[1],\n",
    "    'scal1':[1],\n",
    "    'scal2':[1],\n",
    "    'persp':[param_persp['len'],param_persp],\n",
    "    'flip_ver':[1],\n",
    "    'flip_or':[1],\n",
    "    'scal_int1':[1],\n",
    "    'scal_int2':[1],\n",
    "    #'optic_pin':[1,param_pin],\n",
    "    #'optic_bar':[1,param_bar],\n",
    "    #'elastic':[param_el['iteration'],param_el]\n",
    "    }\n",
    "\n",
    "foo_list = compose_tr(augmenters_dict)\n",
    "\n",
    "\n",
    "\n",
    "n_transf=0\n",
    "for key in augmenters_dict.keys():\n",
    "    n_transf += augmenters_dict[key][0]\n",
    "print(n_transf)\n",
    "def fun (i,N,M,n_tr,foolist):\n",
    "    \n",
    "    foolambda = lambda a,b,foolist : [x(a,b) for x in foolist]\n",
    "    sample = np.empty((n_tr,4,N,M))\n",
    "    \n",
    "    k = foolambda(out_im[i,0,:,:],np.dstack((label[i,0,:,:],label[i,1,:,:])),foolist)\n",
    "    c_ind = 0\n",
    "    for j in range(len(k)):\n",
    "        disc = k[j][0].shape\n",
    "        if len(disc)==3:\n",
    "            ind = disc[0]\n",
    "        else:\n",
    "            ind=1\n",
    "        sample[c_ind:c_ind+ind,0,:,:]=k[j][0]\n",
    "        sample[c_ind:c_ind+ind,1:,:,:]=k[j][1]\n",
    "        c_ind+=ind\n",
    "\n",
    "    del k\n",
    "    return sample\n",
    "\n",
    "\n",
    "\n",
    "\n",
    "list_samples = Parallel(n_jobs=12,verbose=1,require='sharedmem')(delayed(fun) (i,N,M,n_transf,foo_list) for i in range(out_im.shape[0]))\n",
    "list_samples = np.asarray(list_samples)\n",
    "rank,batch,ch,N,M = list_samples.shape\n",
    "list_samples = list_samples.reshape(rank*batch,ch,N,M)\n",
    "\n",
    "out_im = np.vstack((out_im,list_samples[:,0,:,:][:,np.newaxis,:,:]))\n",
    "label = np.vstack((label,list_samples[:,1:,:,:]))\n",
    "label[label<0.2]=0.0\n",
    "label[label>=0.2]=1.0\n",
    "\n",
    "print('Training set loaded\\nTraining Images:', out_im.shape[0])\n",
    "print('Cross Validation Images:', out_im_val.shape[0])"
   ]
  },
  {
   "cell_type": "code",
   "execution_count": 18,
   "metadata": {},
   "outputs": [
    {
     "name": "stdout",
     "output_type": "stream",
     "text": [
      "/media/DATA/jbonato/astro_segm/notebook/dev/tdtom\n"
     ]
    }
   ],
   "source": [
    "!pwd"
   ]
  },
  {
   "cell_type": "code",
   "execution_count": null,
   "metadata": {},
   "outputs": [],
   "source": []
  },
  {
   "cell_type": "code",
   "execution_count": null,
   "metadata": {},
   "outputs": [],
   "source": []
  },
  {
   "cell_type": "markdown",
   "metadata": {},
   "source": [
    "## Set up Dataloader"
   ]
  },
  {
   "cell_type": "code",
   "execution_count": 19,
   "metadata": {},
   "outputs": [
    {
     "name": "stdout",
     "output_type": "stream",
     "text": [
      "{'train': 6868, 'val': 173}\n"
     ]
    }
   ],
   "source": [
    "mean_out_im =  np.mean(np.mean(out_im,axis=3),axis=2)\n",
    "mean_out_im_val = np.mean(np.mean(out_im_val,axis=3),axis=2)\n",
    "\n",
    "out_im = (out_im-mean_out_im[:,:,np.newaxis,np.newaxis])\n",
    "out_im_val = (out_im_val-mean_out_im_val[:,:,np.newaxis,np.newaxis])\n",
    "\n",
    "class SimDataset(Dataset):\n",
    "    def __init__(self,flag=True):\n",
    "        if flag:\n",
    "            self.input_images, self.target_masks = out_im[:,:,:,:],label[:,:,:,:]     \n",
    "        else:\n",
    "            self.input_images, self.target_masks = out_im_val[:,:,:,:],label_val[:,:,:,:]\n",
    "    \n",
    "    def __len__(self):\n",
    "        return len(self.input_images)\n",
    "    \n",
    "    def __getitem__(self, idx):        \n",
    "        image = self.input_images[idx]\n",
    "        mask = self.target_masks[idx]\n",
    "        image = torch.from_numpy(image).float()\n",
    "        mask = torch.from_numpy(mask).float()\n",
    "        return [image, mask]\n",
    "\n",
    "\n",
    "train_set = SimDataset()\n",
    "val_set = SimDataset(flag = False)\n",
    "\n",
    "image_datasets = {\n",
    "    'train': train_set, 'val': val_set\n",
    "}\n",
    "\n",
    "if parallel:\n",
    "    batch_size =3*batch_size\n",
    "else:\n",
    "    batch_size =batch_size\n",
    "\n",
    "dataloaders = {\n",
    "    'train': DataLoader(train_set, batch_size=batch_size, shuffle=True, num_workers=1),\n",
    "    'val': DataLoader(val_set, batch_size=batch_size, shuffle=True, num_workers=1)\n",
    "}\n",
    "\n",
    "\n",
    "dataset_sizes = {\n",
    "    x: len(image_datasets[x]) for x in image_datasets.keys()\n",
    "}\n",
    "\n",
    "print(dataset_sizes)\n"
   ]
  },
  {
   "cell_type": "markdown",
   "metadata": {},
   "source": [
    "## Set up training stuff\n",
    "\n",
    "- Freezing layers\n",
    "- Parallel Training\n",
    "- Single Loss flag\n",
    "- Set weights filename\n",
    "- Training parameters scheduler"
   ]
  },
  {
   "cell_type": "code",
   "execution_count": 20,
   "metadata": {},
   "outputs": [
    {
     "name": "stdout",
     "output_type": "stream",
     "text": [
      "---------- \n",
      " MODEL dense_up\n",
      "SAVING in  /media/DATA/jbonato/astro_segm/weights/dense_up007_set4_v2.pt\n"
     ]
    }
   ],
   "source": [
    "# model to import\n",
    "device = torch.device('cuda:0' if torch.cuda.is_available() else 'cpu')\n",
    "model = model_dict[model_n]\n",
    "print(10*'-','\\n','MODEL',str(model_n))\n",
    "ct=0\n",
    "if model == 'dense_up':\n",
    "    #for child in model.children():\n",
    "    for child in model.children():\n",
    "        if ct>1 and ct<5:\n",
    "            print('freezing child', ct)\n",
    "            for params in child.parameters():\n",
    "                params.requires_grad=False\n",
    "        ct += 1\n",
    "\n",
    "if parallel_n:\n",
    "    model = nn.DataParallel(model,device_ids=[0,1,2])\n",
    "\n",
    "model = model.to(device)\n",
    "\n",
    "if model_n == 'dense_up' or model_n == 'UNet' :\n",
    "    single_loss =True\n",
    "else:\n",
    "    single_loss = False\n",
    "\n",
    "weights_str=folder_w+model_n+test_folder_str+'_set4_v2.pt'\n",
    "print('SAVING in ',weights_str)\n",
    "\n",
    "optimizer_ft = optim.Adam(model.parameters(), lr=lr)\n",
    "\n",
    "exp_lr_scheduler = lr_scheduler.MultiStepLR(optimizer_ft, milestones=[6,30], gamma=0.1)\n",
    "\n"
   ]
  },
  {
   "cell_type": "markdown",
   "metadata": {},
   "source": [
    "### Visdom for live training and cross validation loss \n",
    "\n",
    "You can use visdom typyng visdom in your bash or creating a tmux session. Than navigate to \n",
    "\n",
    "http://localhost:8097\n",
    "\n",
    "If you are running the notebook on a server you must establish a ssh connection \n",
    "\n",
    "ssh -N -L 8097:localhost:8097 user@server_id"
   ]
  },
  {
   "cell_type": "code",
   "execution_count": 21,
   "metadata": {},
   "outputs": [],
   "source": [
    "use_visdom = False"
   ]
  },
  {
   "cell_type": "markdown",
   "metadata": {},
   "source": [
    "### Training the net with Inception-ResNet-v2 blocks freezed"
   ]
  },
  {
   "cell_type": "code",
   "execution_count": 22,
   "metadata": {},
   "outputs": [
    {
     "name": "stdout",
     "output_type": "stream",
     "text": [
      "Epoch 0/11\n",
      "----------\n",
      "LR 0.0001\n",
      "train: bce: 0.251765, dice: 1.363718, loss: 1.489600\n",
      "val: bce: 0.198805, dice: 1.078235, loss: 1.177637\n",
      "saving best model\n",
      "0m 59s\n",
      "Epoch 1/11\n",
      "----------\n",
      "LR 0.0001\n",
      "train: bce: 0.178611, dice: 1.064508, loss: 1.153813\n",
      "val: bce: 0.147841, dice: 0.864128, loss: 0.938049\n",
      "saving best model\n",
      "0m 57s\n",
      "Epoch 2/11\n",
      "----------\n",
      "LR 0.0001\n",
      "train: bce: 0.162502, dice: 0.951414, loss: 1.032665\n",
      "val: bce: 0.136298, dice: 0.805396, loss: 0.873545\n",
      "saving best model\n",
      "0m 57s\n",
      "Epoch 3/11\n",
      "----------\n",
      "LR 0.0001\n",
      "train: bce: 0.150264, dice: 0.874350, loss: 0.949482\n",
      "val: bce: 0.159718, dice: 0.786272, loss: 0.866131\n",
      "saving best model\n",
      "0m 56s\n",
      "Epoch 4/11\n",
      "----------\n",
      "LR 0.0001\n",
      "train: bce: 0.140645, dice: 0.813643, loss: 0.883966\n",
      "val: bce: 0.150803, dice: 0.797822, loss: 0.873224\n",
      "0m 57s\n",
      "Epoch 5/11\n",
      "----------\n",
      "LR 1e-05\n",
      "train: bce: 0.128979, dice: 0.759602, loss: 0.824092\n",
      "val: bce: 0.141363, dice: 0.737363, loss: 0.808044\n",
      "saving best model\n",
      "0m 57s\n",
      "Epoch 6/11\n",
      "----------\n",
      "LR 1e-05\n",
      "train: bce: 0.113175, dice: 0.693132, loss: 0.749720\n",
      "val: bce: 0.140170, dice: 0.688173, loss: 0.758258\n",
      "saving best model\n",
      "0m 56s\n",
      "Epoch 7/11\n",
      "----------\n",
      "LR 1e-05\n",
      "train: bce: 0.107593, dice: 0.665402, loss: 0.719198\n",
      "val: bce: 0.143282, dice: 0.690936, loss: 0.762577\n",
      "0m 57s\n",
      "Epoch 8/11\n",
      "----------\n",
      "LR 1e-05\n",
      "train: bce: 0.104572, dice: 0.648991, loss: 0.701277\n",
      "val: bce: 0.138681, dice: 0.703337, loss: 0.772677\n",
      "0m 57s\n",
      "Epoch 9/11\n",
      "----------\n",
      "LR 1e-05\n",
      "train: bce: 0.101969, dice: 0.631914, loss: 0.682899\n",
      "val: bce: 0.144949, dice: 0.710958, loss: 0.783433\n",
      "0m 57s\n",
      "Epoch 10/11\n",
      "----------\n",
      "LR 1e-05\n",
      "train: bce: 0.099226, dice: 0.618164, loss: 0.667777\n",
      "val: bce: 0.143466, dice: 0.691606, loss: 0.763340\n",
      "0m 57s\n",
      "Epoch 11/11\n",
      "----------\n",
      "LR 1e-05\n",
      "train: bce: 0.097355, dice: 0.606215, loss: 0.654893\n",
      "val: bce: 0.146504, dice: 0.701055, loss: 0.774307\n",
      "0m 57s\n",
      "Best val loss: 0.758258\n"
     ]
    }
   ],
   "source": [
    "model,loss_val,_,_ = train_model(model, optimizer_ft, exp_lr_scheduler, num_epochs=epochs-3,\\\n",
    "                                 dataloaders=dataloaders,device=device,single_loss=single_loss,\\\n",
    "                                 use_visdom=use_visdom)"
   ]
  },
  {
   "cell_type": "markdown",
   "metadata": {},
   "source": [
    "### Fine Tuning"
   ]
  },
  {
   "cell_type": "code",
   "execution_count": 23,
   "metadata": {},
   "outputs": [
    {
     "name": "stdout",
     "output_type": "stream",
     "text": [
      "freezing child 2\n",
      "freezing child 3\n",
      "freezing child 4\n",
      "Epoch 0/2\n",
      "----------\n",
      "LR 5e-06\n",
      "train: bce: 0.108521, dice: 0.668232, loss: 0.722493\n",
      "val: bce: 0.142213, dice: 0.684223, loss: 0.755330\n",
      "saving best model\n",
      "0m 53s\n",
      "Epoch 1/2\n",
      "----------\n",
      "LR 5e-06\n",
      "train: bce: 0.105066, dice: 0.652581, loss: 0.705114\n",
      "val: bce: 0.141022, dice: 0.696621, loss: 0.767132\n",
      "0m 56s\n",
      "Epoch 2/2\n",
      "----------\n",
      "LR 5e-06\n",
      "train: bce: 0.103130, dice: 0.639155, loss: 0.690720\n",
      "val: bce: 0.143673, dice: 0.693615, loss: 0.765451\n",
      "0m 56s\n",
      "Best val loss: 0.755330\n"
     ]
    }
   ],
   "source": [
    "if model_n == 'dense_up':\n",
    "    ct=0\n",
    "    #for child in model.children():\n",
    "    for child in model.module.children():\n",
    "        if ct>1 and ct<5:\n",
    "            print('freezing child', ct)\n",
    "            for params in child.parameters():\n",
    "                params.requires_grad=True\n",
    "        ct += 1\n",
    "\n",
    "    optimizer_ft = optim.Adam(model.parameters(), lr=(0.05*lr))\n",
    "    exp_lr_scheduler = lr_scheduler.StepLR(optimizer_ft, step_size=200, gamma=0.1)\n",
    "    \n",
    "    model,loss_val,_,_ = train_model(model, optimizer_ft, exp_lr_scheduler,num_epochs=3,\\\n",
    "                                     best_loss=loss_val,dataloaders=dataloaders,device=device,\\\n",
    "                                     single_loss=single_loss,use_visdom=use_visdom)\n",
    "    "
   ]
  },
  {
   "cell_type": "code",
   "execution_count": 24,
   "metadata": {},
   "outputs": [],
   "source": [
    "weights_str=folder_w+model_n+test_folder_str+'_set4.pt'"
   ]
  },
  {
   "cell_type": "code",
   "execution_count": 25,
   "metadata": {},
   "outputs": [],
   "source": [
    "qq =  model.module.state_dict()\n",
    "#qq = model.state_dict()\n",
    "for k, v in qq.items():\n",
    "    qq[k] = v.cpu()\n",
    "torch.save(qq,weights_str)\n",
    "\n"
   ]
  },
  {
   "cell_type": "code",
   "execution_count": 26,
   "metadata": {},
   "outputs": [],
   "source": [
    "###free mem\n",
    "del model,out_im,out_im_val,label,label_val,train_set,val_set"
   ]
  },
  {
   "cell_type": "code",
   "execution_count": 27,
   "metadata": {},
   "outputs": [
    {
     "data": {
      "text/plain": [
       "'/media/DATA/jbonato/astro_segm/weights/dense_up007_set4.pt'"
      ]
     },
     "execution_count": 27,
     "metadata": {},
     "output_type": "execute_result"
    }
   ],
   "source": [
    "weights_str"
   ]
  },
  {
   "cell_type": "code",
   "execution_count": null,
   "metadata": {},
   "outputs": [],
   "source": []
  }
 ],
 "metadata": {
  "kernelspec": {
   "display_name": "Python 3",
   "language": "python",
   "name": "python3"
  },
  "language_info": {
   "codemirror_mode": {
    "name": "ipython",
    "version": 3
   },
   "file_extension": ".py",
   "mimetype": "text/x-python",
   "name": "python",
   "nbconvert_exporter": "python",
   "pygments_lexer": "ipython3",
   "version": "3.6.8"
  }
 },
 "nbformat": 4,
 "nbformat_minor": 4
}
