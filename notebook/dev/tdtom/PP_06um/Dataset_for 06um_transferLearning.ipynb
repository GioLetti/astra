{
 "cells": [
  {
   "cell_type": "code",
   "execution_count": 7,
   "metadata": {},
   "outputs": [],
   "source": [
    "import numpy as np\n",
    "import os\n",
    "from skimage import io\n",
    "import sys\n",
    "import h5py\n",
    "import glob\n",
    "from skimage import io\n",
    "import matplotlib.pyplot as plt\n",
    "import pickle\n",
    "import cv2\n"
   ]
  },
  {
   "cell_type": "code",
   "execution_count": 8,
   "metadata": {},
   "outputs": [],
   "source": [
    "folder =  '/media/DATA/jbonato/astro_segm/set5/train_single_or/'\n",
    "folder_save = '/media/DATA/jbonato/astro_segm/set5/train_single/'\n",
    "\n",
    "file_list = glob.glob(folder+'*')\n",
    "file_list = [i for i in file_list if not('nf_enh' in i) and not('.hdf5' in i) ]\n",
    "file_list.sort()"
   ]
  },
  {
   "cell_type": "code",
   "execution_count": 9,
   "metadata": {},
   "outputs": [
    {
     "name": "stdout",
     "output_type": "stream",
     "text": [
      "/media/DATA/jbonato/astro_segm/set5/train_single_or/SMALL_001_single_0\n",
      "/media/DATA/jbonato/astro_segm/set5/train_single_or/SMALL_001_single_1\n",
      "/media/DATA/jbonato/astro_segm/set5/train_single_or/SMALL_001_single_2\n",
      "/media/DATA/jbonato/astro_segm/set5/train_single_or/SMALL_001_single_3\n",
      "/media/DATA/jbonato/astro_segm/set5/train_single_or/SMALL_001_single_4\n",
      "/media/DATA/jbonato/astro_segm/set5/train_single_or/SMALL_002_single_0\n",
      "/media/DATA/jbonato/astro_segm/set5/train_single_or/SMALL_002_single_1\n",
      "/media/DATA/jbonato/astro_segm/set5/train_single_or/SMALL_002_single_2\n",
      "/media/DATA/jbonato/astro_segm/set5/train_single_or/SMALL_002_single_3\n",
      "/media/DATA/jbonato/astro_segm/set5/train_single_or/SMALL_002_single_4\n",
      "/media/DATA/jbonato/astro_segm/set5/train_single_or/SMALL_003_single_0\n",
      "/media/DATA/jbonato/astro_segm/set5/train_single_or/SMALL_003_single_1\n",
      "/media/DATA/jbonato/astro_segm/set5/train_single_or/SMALL_003_single_2\n",
      "/media/DATA/jbonato/astro_segm/set5/train_single_or/SMALL_004_single_0\n",
      "/media/DATA/jbonato/astro_segm/set5/train_single_or/SMALL_004_single_1\n",
      "/media/DATA/jbonato/astro_segm/set5/train_single_or/SMALL_004_single_2\n",
      "/media/DATA/jbonato/astro_segm/set5/train_single_or/SMALL_004_single_3\n",
      "/media/DATA/jbonato/astro_segm/set5/train_single_or/SMALL_004_single_4\n",
      "/media/DATA/jbonato/astro_segm/set5/train_single_or/SMALL_004_single_5\n",
      "/media/DATA/jbonato/astro_segm/set5/train_single_or/SMALL_005_single_0\n",
      "/media/DATA/jbonato/astro_segm/set5/train_single_or/SMALL_005_single_1\n",
      "/media/DATA/jbonato/astro_segm/set5/train_single_or/SMALL_005_single_2\n",
      "/media/DATA/jbonato/astro_segm/set5/train_single_or/SMALL_005_single_3\n",
      "/media/DATA/jbonato/astro_segm/set5/train_single_or/SMALL_005_single_4\n",
      "/media/DATA/jbonato/astro_segm/set5/train_single_or/SMALL_006_single_0\n",
      "/media/DATA/jbonato/astro_segm/set5/train_single_or/SMALL_006_single_1\n",
      "/media/DATA/jbonato/astro_segm/set5/train_single_or/SMALL_006_single_2\n",
      "/media/DATA/jbonato/astro_segm/set5/train_single_or/SMALL_006_single_3\n",
      "/media/DATA/jbonato/astro_segm/set5/train_single_or/SMALL_007_single_0\n",
      "/media/DATA/jbonato/astro_segm/set5/train_single_or/SMALL_007_single_1\n",
      "/media/DATA/jbonato/astro_segm/set5/train_single_or/SMALL_007_single_2\n",
      "/media/DATA/jbonato/astro_segm/set5/train_single_or/SMALL_007_single_3\n",
      "/media/DATA/jbonato/astro_segm/set5/train_single_or/SMALL_007_single_4\n",
      "/media/DATA/jbonato/astro_segm/set5/train_single_or/SMALL_007_single_5\n",
      "/media/DATA/jbonato/astro_segm/set5/train_single_or/SMALL_008_single_0\n",
      "/media/DATA/jbonato/astro_segm/set5/train_single_or/SMALL_008_single_1\n",
      "/media/DATA/jbonato/astro_segm/set5/train_single_or/SMALL_008_single_2\n",
      "/media/DATA/jbonato/astro_segm/set5/train_single_or/SMALL_008_single_3\n",
      "/media/DATA/jbonato/astro_segm/set5/train_single_or/SMALL_008_single_4\n",
      "/media/DATA/jbonato/astro_segm/set5/train_single_or/SMALL_008_single_5\n",
      "/media/DATA/jbonato/astro_segm/set5/train_single_or/SMALL_008_single_6\n",
      "/media/DATA/jbonato/astro_segm/set5/train_single_or/SMALL_009_single_0\n",
      "/media/DATA/jbonato/astro_segm/set5/train_single_or/SMALL_009_single_1\n",
      "/media/DATA/jbonato/astro_segm/set5/train_single_or/SMALL_009_single_2\n",
      "/media/DATA/jbonato/astro_segm/set5/train_single_or/SMALL_009_single_3\n",
      "/media/DATA/jbonato/astro_segm/set5/train_single_or/SMALL_010_single_0\n",
      "/media/DATA/jbonato/astro_segm/set5/train_single_or/SMALL_010_single_1\n",
      "/media/DATA/jbonato/astro_segm/set5/train_single_or/SMALL_010_single_2\n",
      "/media/DATA/jbonato/astro_segm/set5/train_single_or/SMALL_010_single_3\n",
      "/media/DATA/jbonato/astro_segm/set5/train_single_or/SMALL_010_single_4\n",
      "/media/DATA/jbonato/astro_segm/set5/train_single_or/SMALL_010_single_5\n",
      "/media/DATA/jbonato/astro_segm/set5/train_single_or/SMALL_011_single_0\n",
      "/media/DATA/jbonato/astro_segm/set5/train_single_or/SMALL_011_single_1\n",
      "/media/DATA/jbonato/astro_segm/set5/train_single_or/SMALL_011_single_2\n",
      "/media/DATA/jbonato/astro_segm/set5/train_single_or/SMALL_011_single_3\n",
      "/media/DATA/jbonato/astro_segm/set5/train_single_or/SMALL_011_single_4\n",
      "/media/DATA/jbonato/astro_segm/set5/train_single_or/SMALL_011_single_5\n",
      "/media/DATA/jbonato/astro_segm/set5/train_single_or/SMALL_012_single_0\n",
      "/media/DATA/jbonato/astro_segm/set5/train_single_or/SMALL_012_single_1\n",
      "/media/DATA/jbonato/astro_segm/set5/train_single_or/SMALL_012_single_2\n",
      "/media/DATA/jbonato/astro_segm/set5/train_single_or/SMALL_012_single_3\n",
      "/media/DATA/jbonato/astro_segm/set5/train_single_or/SMALL_012_single_4\n",
      "/media/DATA/jbonato/astro_segm/set5/train_single_or/SMALL_013_single_0\n",
      "/media/DATA/jbonato/astro_segm/set5/train_single_or/SMALL_013_single_1\n",
      "/media/DATA/jbonato/astro_segm/set5/train_single_or/SMALL_013_single_2\n",
      "/media/DATA/jbonato/astro_segm/set5/train_single_or/SMALL_013_single_3\n",
      "/media/DATA/jbonato/astro_segm/set5/train_single_or/SMALL_014_single_0\n",
      "/media/DATA/jbonato/astro_segm/set5/train_single_or/SMALL_014_single_1\n",
      "/media/DATA/jbonato/astro_segm/set5/train_single_or/SMALL_014_single_2\n",
      "/media/DATA/jbonato/astro_segm/set5/train_single_or/SMALL_014_single_3\n",
      "/media/DATA/jbonato/astro_segm/set5/train_single_or/SMALL_015_single_0\n",
      "/media/DATA/jbonato/astro_segm/set5/train_single_or/SMALL_015_single_1\n",
      "/media/DATA/jbonato/astro_segm/set5/train_single_or/SMALL_015_single_2\n",
      "/media/DATA/jbonato/astro_segm/set5/train_single_or/SMALL_015_single_3\n",
      "/media/DATA/jbonato/astro_segm/set5/train_single_or/SMALL_015_single_4\n",
      "/media/DATA/jbonato/astro_segm/set5/train_single_or/SMALL_016_single_0\n",
      "/media/DATA/jbonato/astro_segm/set5/train_single_or/SMALL_016_single_1\n",
      "/media/DATA/jbonato/astro_segm/set5/train_single_or/SMALL_016_single_2\n",
      "/media/DATA/jbonato/astro_segm/set5/train_single_or/SMALL_016_single_3\n",
      "/media/DATA/jbonato/astro_segm/set5/train_single_or/SMALL_016_single_4\n",
      "/media/DATA/jbonato/astro_segm/set5/train_single_or/SMALL_016_single_5\n",
      "/media/DATA/jbonato/astro_segm/set5/train_single_or/SMALL_017_single_0\n",
      "/media/DATA/jbonato/astro_segm/set5/train_single_or/SMALL_017_single_1\n",
      "/media/DATA/jbonato/astro_segm/set5/train_single_or/SMALL_017_single_2\n",
      "/media/DATA/jbonato/astro_segm/set5/train_single_or/SMALL_017_single_3\n",
      "/media/DATA/jbonato/astro_segm/set5/train_single_or/SMALL_017_single_4\n",
      "/media/DATA/jbonato/astro_segm/set5/train_single_or/SMALL_018_single_0\n",
      "/media/DATA/jbonato/astro_segm/set5/train_single_or/SMALL_018_single_1\n",
      "/media/DATA/jbonato/astro_segm/set5/train_single_or/SMALL_018_single_2\n",
      "/media/DATA/jbonato/astro_segm/set5/train_single_or/SMALL_018_single_3\n",
      "/media/DATA/jbonato/astro_segm/set5/train_single_or/SMALL_018_single_4\n",
      "/media/DATA/jbonato/astro_segm/set5/train_single_or/SMALL_018_single_5\n",
      "/media/DATA/jbonato/astro_segm/set5/train_single_or/SMALL_019_single_0\n",
      "/media/DATA/jbonato/astro_segm/set5/train_single_or/SMALL_019_single_1\n",
      "/media/DATA/jbonato/astro_segm/set5/train_single_or/SMALL_019_single_2\n",
      "/media/DATA/jbonato/astro_segm/set5/train_single_or/SMALL_019_single_3\n",
      "/media/DATA/jbonato/astro_segm/set5/train_single_or/SMALL_019_single_4\n",
      "/media/DATA/jbonato/astro_segm/set5/train_single_or/SMALL_019_single_5\n",
      "/media/DATA/jbonato/astro_segm/set5/train_single_or/SMALL_021_single_0\n",
      "/media/DATA/jbonato/astro_segm/set5/train_single_or/SMALL_021_single_1\n",
      "/media/DATA/jbonato/astro_segm/set5/train_single_or/SMALL_021_single_2\n",
      "/media/DATA/jbonato/astro_segm/set5/train_single_or/SMALL_021_single_3\n",
      "/media/DATA/jbonato/astro_segm/set5/train_single_or/SMALL_021_single_4\n",
      "/media/DATA/jbonato/astro_segm/set5/train_single_or/SMALL_022_single_0\n",
      "/media/DATA/jbonato/astro_segm/set5/train_single_or/SMALL_022_single_1\n",
      "/media/DATA/jbonato/astro_segm/set5/train_single_or/SMALL_022_single_2\n",
      "/media/DATA/jbonato/astro_segm/set5/train_single_or/SMALL_022_single_3\n",
      "/media/DATA/jbonato/astro_segm/set5/train_single_or/SMALL_023_single_0\n",
      "/media/DATA/jbonato/astro_segm/set5/train_single_or/SMALL_023_single_1\n",
      "/media/DATA/jbonato/astro_segm/set5/train_single_or/SMALL_023_single_2\n",
      "/media/DATA/jbonato/astro_segm/set5/train_single_or/SMALL_023_single_3\n",
      "/media/DATA/jbonato/astro_segm/set5/train_single_or/SMALL_024_single_0\n",
      "/media/DATA/jbonato/astro_segm/set5/train_single_or/SMALL_024_single_1\n",
      "/media/DATA/jbonato/astro_segm/set5/train_single_or/SMALL_024_single_2\n",
      "/media/DATA/jbonato/astro_segm/set5/train_single_or/SMALL_024_single_3\n",
      "/media/DATA/jbonato/astro_segm/set5/train_single_or/SMALL_024_single_4\n",
      "/media/DATA/jbonato/astro_segm/set5/train_single_or/SMALL_025_single_0\n",
      "/media/DATA/jbonato/astro_segm/set5/train_single_or/SMALL_025_single_1\n",
      "/media/DATA/jbonato/astro_segm/set5/train_single_or/SMALL_025_single_2\n",
      "/media/DATA/jbonato/astro_segm/set5/train_single_or/SMALL_025_single_3\n",
      "/media/DATA/jbonato/astro_segm/set5/train_single_or/SMALL_025_single_4\n"
     ]
    }
   ],
   "source": [
    "for file in file_list:\n",
    "    \n",
    "    print(file[:-4])\n",
    "    \n",
    "    image = io.imread(file)\n",
    "    dset= h5py.File(file[:-4]+'.hdf5','r') \n",
    "    \n",
    "    proc_mask =  np.asarray(dset['Values'])\n",
    "    soma_mask =  np.asarray(dset['Values_soma'])\n",
    "    \n",
    "    im_out = cv2.resize(image[5:-5,5:-5], (73,73))\n",
    "    \n",
    "    im_out = np.pad(im_out,((4,3),(4,3)),'constant').astype(np.float32)\n",
    "    name = os.path.basename(file)[:-4]\n",
    "    io.imsave(folder_save+name+'.tiff',im_out)\n",
    "    \n",
    "    proc_mask = cv2.resize(proc_mask[5:-5,5:-5], (73,73))\n",
    "    proc_mask = np.pad(proc_mask,((4,3),(4,3)),'constant').astype(np.float32)\n",
    "    \n",
    "    proc_mask[proc_mask<0.1]=0\n",
    "    proc_mask[proc_mask>0]=1\n",
    "    \n",
    "    soma_mask = cv2.resize(soma_mask[5:-5,5:-5], (73,73))\n",
    "    soma_mask = np.pad(soma_mask,((4,3),(4,3)),'constant').astype(np.float32)\n",
    "    soma_mask[soma_mask<0.1]=0\n",
    "    soma_mask[soma_mask>0]=1\n",
    "    \n",
    "    with h5py.File(folder_save+name+'.hdf5','w') as f:\n",
    "        dset = f.create_dataset('Values',data=proc_mask)\n",
    "        dset2 = f.create_dataset('Values_soma',data=soma_mask)"
   ]
  },
  {
   "cell_type": "code",
   "execution_count": 10,
   "metadata": {},
   "outputs": [
    {
     "data": {
      "text/plain": [
       "<matplotlib.image.AxesImage at 0x7f0e93fcc5f8>"
      ]
     },
     "execution_count": 10,
     "metadata": {},
     "output_type": "execute_result"
    },
    {
     "data": {
      "image/png": "[encoded data removed]",
      "text/plain": [
       "<Figure size 432x288 with 1 Axes>"
      ]
     },
     "metadata": {
      "needs_background": "light"
     },
     "output_type": "display_data"
    }
   ],
   "source": [
    "#image.shape\n",
    "plt.imshow(soma_mask)"
   ]
  },
  {
   "cell_type": "code",
   "execution_count": 11,
   "metadata": {},
   "outputs": [
    {
     "data": {
      "text/plain": [
       "<matplotlib.image.AxesImage at 0x7f0e93f945f8>"
      ]
     },
     "execution_count": 11,
     "metadata": {},
     "output_type": "execute_result"
    },
    {
     "data": {
      "image/png": "[encoded data removed]",
      "text/plain": [
       "<Figure size 432x288 with 1 Axes>"
      ]
     },
     "metadata": {
      "needs_background": "light"
     },
     "output_type": "display_data"
    }
   ],
   "source": [
    "plt.imshow(im_out)"
   ]
  },
  {
   "cell_type": "code",
   "execution_count": null,
   "metadata": {},
   "outputs": [],
   "source": []
  },
  {
   "cell_type": "code",
   "execution_count": null,
   "metadata": {},
   "outputs": [],
   "source": []
  }
 ],
 "metadata": {
  "kernelspec": {
   "display_name": "Python 3",
   "language": "python",
   "name": "python3"
  },
  "language_info": {
   "codemirror_mode": {
    "name": "ipython",
    "version": 3
   },
   "file_extension": ".py",
   "mimetype": "text/x-python",
   "name": "python",
   "nbconvert_exporter": "python",
   "pygments_lexer": "ipython3",
   "version": "3.6.8"
  }
 },
 "nbformat": 4,
 "nbformat_minor": 4
}
