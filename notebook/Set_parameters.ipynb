{
 "cells": [
  {
   "cell_type": "code",
   "execution_count": 1,
   "metadata": {},
   "outputs": [],
   "source": [
    "import numpy as np\n",
    "import os\n",
    "import itertools\n",
    "from skimage import io\n",
    "import sys\n",
    "import h5py\n",
    "import glob\n",
    "from skimage import io\n",
    "import matplotlib.pyplot as plt\n",
    "from sklearn.metrics import f1_score\n",
    "import pickle\n",
    "import cv2\n",
    "\n",
    "#### MODULES used in the code\n",
    "sys.path.insert(0,'/media/DATA/jbonato/astro_segm/AstroSS/modules/')\n",
    "#from img_Sp_Sharp import create_img\n",
    "from mask_roi_from_fiji import create_mask\n",
    "from gen_single_astro import save_im,tune_th,spatial_pp\n",
    "from sel_active_reg_gen import *\n",
    "\n",
    "#SET IMAGES DIM\n",
    "N = 256 \n",
    "M = 256 \n",
    "\n",
    "#SET Parameters\n",
    "## dict active map extraction module\n",
    "dict_param = {\n",
    "    'list':[0,40,80,120,160],\n",
    "    'blocks':15,\n",
    "    'threads':32,\n",
    "    'BPM_ratio':3,\n",
    "    'bb':96,\n",
    "    \n",
    "    'N_pix_st':100, #starting minimum area\n",
    "    'astr_min':80, # approx. 0.9 min in dataset\n",
    "    'percentile': 80,\n",
    "    'pad':5,\n",
    "    'astro_num':4, # number of astro min in FOV\n",
    "    'init_th_':0.6, # threshold initialization\n",
    "    'decr_dim':10, # astro area decrease\n",
    "    'decr_th':25, # temporal threshold decrease\n",
    "    'corr_int':False, # intensity correction flag\n",
    "    'gpu_flag':True\n",
    "}\n",
    "\n",
    "# dict_param = {\n",
    "#     'list':[0],\n",
    "#     'blocks':8,\n",
    "#     'threads':32,\n",
    "#     'BPM_ratio':8,\n",
    "#     'bb':256,\n",
    "#     'N_pix_st':250, #starting minimum area\n",
    "#     'astr_min':225, # approx. 0.9 min in dataset\n",
    "#     'percentile': 80,\n",
    "#     'pad':5,\n",
    "#     'astro_num':1, # number of astro min in FOV\n",
    "\n",
    "#     'init_th_':0.65, # threshold initialization approx. 120 frame\n",
    "#     'decr_dim':25, # astro area decrease\n",
    "#     'decr_th':25, # temporal threshold decrease\n",
    "#     'corr_int':False, # intensity correction flag\n",
    "#     'gpu_flag':True\n",
    "# }\n",
    "\n",
    "# dict_param = {\n",
    "#     'list':[i for i in range(0,390,30)],\n",
    "#     'blocks':15,\n",
    "#     'threads':20,\n",
    "#     'BPM_ratio':2,\n",
    "#     'bb':40,\n",
    "#     'N_pix_st':25, #starting minimum area\n",
    "#     'astr_min':22, \n",
    "#     'percentile': 90,\n",
    "#     'pad':5,\n",
    "#     'astro_num':95, # number of astro min in FOV\n",
    "#     'init_th':0.5, # threshold initialization approx. 125\n",
    "#     'decr_dim':3, # astro area decrease\n",
    "#     'decr_th':12, # temporal threshold decrease\n",
    "#     'corr_int':True, # intensity correction flag\n",
    "#     'gpu_flag':True\n",
    "#}"
   ]
  },
  {
   "cell_type": "markdown",
   "metadata": {},
   "source": [
    "# Generate Masks from .zip "
   ]
  },
  {
   "cell_type": "code",
   "execution_count": 2,
   "metadata": {},
   "outputs": [],
   "source": [
    "folder_to_save = '/media/DATA/jbonato/astro_segm/set1/dataset/'\n",
    "mask_path_root = '/media/DATA/jbonato/astro_segm/zip_mask/consensus/D1/'\n",
    "if not(os.path.exists(folder_to_save)):\n",
    "    os.mkdir(folder_to_save)\n",
    "    print('Created',folder_to_save)\n",
    "\n",
    "prefix='SMALL_'\n",
    "folder_to_save+= prefix"
   ]
  },
  {
   "cell_type": "code",
   "execution_count": 3,
   "metadata": {},
   "outputs": [],
   "source": [
    "remove_flag = True  # set true if you want to remove all\n",
    "if remove_flag:\n",
    "    for fl in glob.glob(folder_to_save+'*.hdf5'):\n",
    "        os.remove(fl)\n",
    "    for fl in glob.glob(folder_to_save+'*.tif'):\n",
    "        os.remove(fl)\n",
    "\n",
    "items = os.listdir(mask_path_root)#collect folder\n",
    "items = [i for i in items if 'RoiSet' in i]"
   ]
  },
  {
   "cell_type": "code",
   "execution_count": 4,
   "metadata": {},
   "outputs": [
    {
     "name": "stdout",
     "output_type": "stream",
     "text": [
      "mask num:  009  in  /media/DATA/jbonato/astro_segm/zip_mask/consensus/D1/RoiSet_SMALL_009.zip\n",
      "mask num:  003  in  /media/DATA/jbonato/astro_segm/zip_mask/consensus/D1/RoiSet_SMALL_003.zip\n",
      "mask num:  011  in  /media/DATA/jbonato/astro_segm/zip_mask/consensus/D1/RoiSet_SMALL_011.zip\n",
      "mask num:  006  in  /media/DATA/jbonato/astro_segm/zip_mask/consensus/D1/RoiSet_SMALL_006.zip\n",
      "mask num:  014  in  /media/DATA/jbonato/astro_segm/zip_mask/consensus/D1/RoiSet_SMALL_014.zip\n",
      "mask num:  015  in  /media/DATA/jbonato/astro_segm/zip_mask/consensus/D1/RoiSet_SMALL_015.zip\n",
      "mask num:  016  in  /media/DATA/jbonato/astro_segm/zip_mask/consensus/D1/RoiSet_SMALL_016.zip\n",
      "mask num:  004  in  /media/DATA/jbonato/astro_segm/zip_mask/consensus/D1/RoiSet_SMALL_004.zip\n",
      "mask num:  008  in  /media/DATA/jbonato/astro_segm/zip_mask/consensus/D1/RoiSet_SMALL_008.zip\n",
      "mask num:  010  in  /media/DATA/jbonato/astro_segm/zip_mask/consensus/D1/RoiSet_SMALL_010.zip\n",
      "mask num:  021  in  /media/DATA/jbonato/astro_segm/zip_mask/consensus/D1/RoiSet_SMALL_021.zip\n",
      "mask num:  022  in  /media/DATA/jbonato/astro_segm/zip_mask/consensus/D1/RoiSet_SMALL_022.zip\n",
      "mask num:  013  in  /media/DATA/jbonato/astro_segm/zip_mask/consensus/D1/RoiSet_SMALL_013.zip\n",
      "mask num:  018  in  /media/DATA/jbonato/astro_segm/zip_mask/consensus/D1/RoiSet_SMALL_018.zip\n",
      "mask num:  024  in  /media/DATA/jbonato/astro_segm/zip_mask/consensus/D1/RoiSet_SMALL_024.zip\n",
      "mask num:  017  in  /media/DATA/jbonato/astro_segm/zip_mask/consensus/D1/RoiSet_SMALL_017.zip\n",
      "mask num:  019  in  /media/DATA/jbonato/astro_segm/zip_mask/consensus/D1/RoiSet_SMALL_019.zip\n",
      "mask num:  001  in  /media/DATA/jbonato/astro_segm/zip_mask/consensus/D1/RoiSet_SMALL_001.zip\n",
      "mask num:  002  in  /media/DATA/jbonato/astro_segm/zip_mask/consensus/D1/RoiSet_SMALL_002.zip\n",
      "mask num:  012  in  /media/DATA/jbonato/astro_segm/zip_mask/consensus/D1/RoiSet_SMALL_012.zip\n",
      "mask num:  025  in  /media/DATA/jbonato/astro_segm/zip_mask/consensus/D1/RoiSet_SMALL_025.zip\n",
      "mask num:  005  in  /media/DATA/jbonato/astro_segm/zip_mask/consensus/D1/RoiSet_SMALL_005.zip\n",
      "mask num:  023  in  /media/DATA/jbonato/astro_segm/zip_mask/consensus/D1/RoiSet_SMALL_023.zip\n",
      "mask num:  007  in  /media/DATA/jbonato/astro_segm/zip_mask/consensus/D1/RoiSet_SMALL_007.zip\n"
     ]
    }
   ],
   "source": [
    "im_enh_l=[]\n",
    "\n",
    "for item in items:        \n",
    "        ######################################Mask#################################################\n",
    "        mask_path = mask_path_root+item\n",
    "        print('mask num: ',mask_path[-7:-4],' in ',mask_path)\n",
    "\n",
    "        c_mask = create_mask(mask_path)###mask generation from .zip file generated using fiji\n",
    "        instances_num = c_mask.get_dim()\n",
    "\n",
    "        mask = np.empty((N, M, instances_num))\n",
    "        soma_num, mask = c_mask.create_multiple_mask_im()#im_dim=None add this attribute \n",
    "        #if N,M are different from 256\n",
    "\n",
    "        values_soma = np.zeros((N,M),dtype = np.float32 )\n",
    "\n",
    "        values_soma = np.sum(mask[:,:,:soma_num],axis=2)\n",
    "        values = np.sum(mask[:,:,soma_num:],axis=2)\n",
    "        values[values>1]=1\n",
    "        values = values.astype(np.float32) \n",
    "        values_soma = values_soma.astype(np.float32)\n",
    "        \n",
    "        #save unfiltered mask\n",
    "        with h5py.File(folder_to_save +mask_path[-7:-4]+'_nf.hdf5','w') as f:\n",
    "            dset = f.create_dataset('Values',data=values)\n",
    "            dset2 = f.create_dataset('Values_soma',data=values_soma)\n",
    "                "
   ]
  },
  {
   "cell_type": "markdown",
   "metadata": {},
   "source": [
    "# Get Somata Area"
   ]
  },
  {
   "cell_type": "code",
   "execution_count": 5,
   "metadata": {},
   "outputs": [
    {
     "name": "stdout",
     "output_type": "stream",
     "text": [
      "/media/DATA/jbonato/astro_segm/set1/dataset/SMALL_001_nf.hdf5\n",
      "/media/DATA/jbonato/astro_segm/set1/dataset/SMALL_002_nf.hdf5\n",
      "/media/DATA/jbonato/astro_segm/set1/dataset/SMALL_003_nf.hdf5\n",
      "/media/DATA/jbonato/astro_segm/set1/dataset/SMALL_004_nf.hdf5\n",
      "/media/DATA/jbonato/astro_segm/set1/dataset/SMALL_005_nf.hdf5\n",
      "/media/DATA/jbonato/astro_segm/set1/dataset/SMALL_006_nf.hdf5\n",
      "/media/DATA/jbonato/astro_segm/set1/dataset/SMALL_007_nf.hdf5\n",
      "/media/DATA/jbonato/astro_segm/set1/dataset/SMALL_008_nf.hdf5\n",
      "/media/DATA/jbonato/astro_segm/set1/dataset/SMALL_009_nf.hdf5\n",
      "/media/DATA/jbonato/astro_segm/set1/dataset/SMALL_010_nf.hdf5\n",
      "/media/DATA/jbonato/astro_segm/set1/dataset/SMALL_011_nf.hdf5\n",
      "/media/DATA/jbonato/astro_segm/set1/dataset/SMALL_012_nf.hdf5\n",
      "/media/DATA/jbonato/astro_segm/set1/dataset/SMALL_013_nf.hdf5\n",
      "/media/DATA/jbonato/astro_segm/set1/dataset/SMALL_014_nf.hdf5\n",
      "/media/DATA/jbonato/astro_segm/set1/dataset/SMALL_015_nf.hdf5\n",
      "/media/DATA/jbonato/astro_segm/set1/dataset/SMALL_016_nf.hdf5\n",
      "/media/DATA/jbonato/astro_segm/set1/dataset/SMALL_017_nf.hdf5\n",
      "/media/DATA/jbonato/astro_segm/set1/dataset/SMALL_018_nf.hdf5\n",
      "/media/DATA/jbonato/astro_segm/set1/dataset/SMALL_019_nf.hdf5\n",
      "/media/DATA/jbonato/astro_segm/set1/dataset/SMALL_021_nf.hdf5\n",
      "/media/DATA/jbonato/astro_segm/set1/dataset/SMALL_022_nf.hdf5\n",
      "/media/DATA/jbonato/astro_segm/set1/dataset/SMALL_023_nf.hdf5\n",
      "/media/DATA/jbonato/astro_segm/set1/dataset/SMALL_024_nf.hdf5\n",
      "/media/DATA/jbonato/astro_segm/set1/dataset/SMALL_025_nf.hdf5\n",
      "There are 121 somata\n",
      "MIN 89 and MAX 345\n"
     ]
    }
   ],
   "source": [
    "def measure_soma(soma,area_soma):\n",
    "    ret, labels = cv2.connectedComponents(np.uint8(soma))\n",
    "    for i in range(1,ret):\n",
    "        pts = np.where(labels==i)\n",
    "        area_soma.append(len(pts[0]))\n",
    "    return ret-1\n",
    "\n",
    "items = glob.glob('/media/DATA/jbonato/astro_segm/set1/dataset/*.hdf5')\n",
    "#items = glob.glob('/media/DATA/jbonato/segm_project/mask_compl/*.hdf5')\n",
    "hdf5_tot=[i for i in items if 'nf' in i]\n",
    "res = np.empty((len(hdf5_tot),2))\n",
    "hdf5_tot.sort()\n",
    "hdf5_tot\n",
    "\n",
    "area_soma = []\n",
    "\n",
    "g=0\n",
    "for i in hdf5_tot:\n",
    "    print(i)\n",
    "    area_soma_s = []\n",
    "    dset= h5py.File(i,'r') \n",
    "    proc_mask =  np.asarray(dset['Values'])\n",
    "    soma_mask =  np.asarray(dset['Values_soma'])\n",
    "    proc_mask -= soma_mask\n",
    "    proc_mask[proc_mask<0]=0\n",
    "    g+= measure_soma(soma_mask,area_soma_s)\n",
    "    area_soma.append(area_soma_s)\n",
    "\n",
    "\n",
    "area_soma = list(itertools.chain.from_iterable(area_soma))\n",
    "area_soma = np.asarray(area_soma)\n",
    "print('There are {:d} somata'.format(g))\n",
    "print('MIN {:d} and MAX {:d}'.format(area_soma.min(),area_soma.max()))\n",
    "dict_param['max_min'] = np.asarray([area_soma.max(),area_soma.min()])"
   ]
  },
  {
   "cell_type": "markdown",
   "metadata": {},
   "source": [
    "# Compute Thresholds in Local Activity filter"
   ]
  },
  {
   "cell_type": "code",
   "execution_count": 6,
   "metadata": {},
   "outputs": [
    {
     "name": "stdout",
     "output_type": "stream",
     "text": [
      "/media/DATA/jbonato/astro_segm/set1/1/ ['/media/DATA/jbonato/astro_segm/set1/1/TSeries-04082019-1513-1250_Ch2__movie_corrected_aligned.tiff']\n",
      "/media/DATA/jbonato/astro_segm/set1/2/ ['/media/DATA/jbonato/astro_segm/set1/2/TSeries-04082019-1513-1251_Ch2__movie_corrected_aligned.tiff']\n",
      "/media/DATA/jbonato/astro_segm/set1/3/ ['/media/DATA/jbonato/astro_segm/set1/3/TSeries-04082019-1513-1252_Ch2__movie_corrected_aligned.tiff']\n",
      "/media/DATA/jbonato/astro_segm/set1/4/ ['/media/DATA/jbonato/astro_segm/set1/4/TSeries-04112019-1605-1257_Ch2__movie_corrected_aligned.tiff']\n",
      "/media/DATA/jbonato/astro_segm/set1/5/ ['/media/DATA/jbonato/astro_segm/set1/5/TSeries-04112019-1605-1258_Ch2__movie_corrected_aligned.tiff']\n",
      "/media/DATA/jbonato/astro_segm/set1/6/ ['/media/DATA/jbonato/astro_segm/set1/6/TSeries-04112019-1605-1266_Ch2__movie_corrected_aligned.tiff']\n",
      "/media/DATA/jbonato/astro_segm/set1/7/ ['/media/DATA/jbonato/astro_segm/set1/7/TSeries-04112019-1605-1267_Ch2__movie_corrected_aligned.tiff']\n",
      "/media/DATA/jbonato/astro_segm/set1/8/ ['/media/DATA/jbonato/astro_segm/set1/8/TSeries-04112019-1605-1268_Ch2__movie_corrected_aligned.tiff']\n",
      "/media/DATA/jbonato/astro_segm/set1/9/ ['/media/DATA/jbonato/astro_segm/set1/9/TSeries-04172019-1817-1280_Ch2__movie_corrected_aligned.tiff']\n",
      "/media/DATA/jbonato/astro_segm/set1/10/ ['/media/DATA/jbonato/astro_segm/set1/10/TSeries-04172019-1817-1281_Ch2__movie_corrected_aligned.tiff']\n",
      "/media/DATA/jbonato/astro_segm/set1/11/ ['/media/DATA/jbonato/astro_segm/set1/11/TSeries-04172019-1817-1282_Ch2__movie_corrected_aligned.tiff']\n",
      "/media/DATA/jbonato/astro_segm/set1/12/ ['/media/DATA/jbonato/astro_segm/set1/12/TSeries-04172019-1817-1287_Ch2__movie_corrected_aligned.tiff']\n",
      "/media/DATA/jbonato/astro_segm/set1/13/ ['/media/DATA/jbonato/astro_segm/set1/13/TSeries-04172019-1817-1288_Ch2__movie_corrected_aligned.tiff']\n",
      "/media/DATA/jbonato/astro_segm/set1/14/ ['/media/DATA/jbonato/astro_segm/set1/14/TSeries-04172019-1817-1289_Ch2__movie_corrected_aligned.tiff']\n",
      "/media/DATA/jbonato/astro_segm/set1/15/ ['/media/DATA/jbonato/astro_segm/set1/15/TSeries-04182019-1453-1295_Ch2__movie_corrected_aligned.tiff']\n",
      "/media/DATA/jbonato/astro_segm/set1/16/ ['/media/DATA/jbonato/astro_segm/set1/16/TSeries-06072018-1654-1094_Ch2__movie_corrected_aligned.tiff']\n",
      "/media/DATA/jbonato/astro_segm/set1/17/ ['/media/DATA/jbonato/astro_segm/set1/17/TSeries-07192018-1913-1119_Ch2__movie_corrected_aligned.tiff']\n",
      "/media/DATA/jbonato/astro_segm/set1/18/ ['/media/DATA/jbonato/astro_segm/set1/18/TSeries-07262018-1151-1126_Ch2__movie_corrected_aligned.tiff']\n",
      "/media/DATA/jbonato/astro_segm/set1/19/ ['/media/DATA/jbonato/astro_segm/set1/19/TSeries-07262018-1151-1129_Ch2__movie_corrected_aligned.tiff']\n",
      "/media/DATA/jbonato/astro_segm/set1/21/ ['/media/DATA/jbonato/astro_segm/set1/21/TSeries-09042017-1020-547_Cycle00001_Ch2_0000movieNoRM4Iteration.tif']\n",
      "/media/DATA/jbonato/astro_segm/set1/22/ ['/media/DATA/jbonato/astro_segm/set1/22/TSeries-09042017-1020-551_Cycle00001_Ch2_0000movieNoRM4Iteration.tif']\n",
      "/media/DATA/jbonato/astro_segm/set1/23/ ['/media/DATA/jbonato/astro_segm/set1/23/TSeries-09052017-1126-559_Cycle00001_Ch2_0000movieNoRM4Iteration.tif']\n",
      "/media/DATA/jbonato/astro_segm/set1/24/ ['/media/DATA/jbonato/astro_segm/set1/24/TSeries-09052017-1126-564_Cycle00001_Ch2_0000movieNoRM4Iteration.tif']\n",
      "/media/DATA/jbonato/astro_segm/set1/25/ ['/media/DATA/jbonato/astro_segm/set1/25/TSeries-09052017-1126-572_Cycle00001_Ch2_0000movie_momovieNoRM4Iteration.tif']\n"
     ]
    }
   ],
   "source": [
    "path = '/media/DATA/jbonato/astro_segm/set1/'\n",
    "res = np.empty((4,2,24))\n",
    "fov = 0\n",
    "for j in range(1,26):\n",
    "    if j !=20:\n",
    "        \n",
    "        if len(str(j))==1:\n",
    "            test_folder_str='00'+str(j)\n",
    "        else:\n",
    "            test_folder_str='0'+str(j)\n",
    "        \n",
    "        path_f = path+str(j)+'/'\n",
    "        item = glob.glob(path_f+'*')\n",
    "        print(path_f,item)\n",
    " \n",
    "        sp_pp=spatial_pp(item[0])\n",
    "        stack,_ = sp_pp.create_img()\n",
    "        ### use functions in spatia_pp for the generation of corrected stack\n",
    "        ### for dataset2 and dataset3\n",
    "        T,N,_ = stack.shape\n",
    "        \n",
    "        Res_file_path='/media/DATA/jbonato/segm_project/set/dataset/SMALL_'+test_folder_str+'_nf.hdf5'\n",
    "        Res_mat = np.empty((N,N,2))\n",
    "        dset= h5py.File(Res_file_path,'r') \n",
    "        Res_mat[:,:,0] =  np.asarray(dset['Values'])\n",
    "        Res_mat[:,:,1] =  np.asarray(dset['Values_soma'])\n",
    "\n",
    "        \n",
    "        th_res = tune_th(stack,mask=Res_mat,BB_dim=86)\n",
    "        thre = th_res.save_im()\n",
    "        \n",
    "        if j>20:\n",
    "            res[:,:,j-2] = thre\n",
    "        else:\n",
    "            res[:,:,j-1] = thre\n",
    "\n"
   ]
  },
  {
   "cell_type": "code",
   "execution_count": 7,
   "metadata": {},
   "outputs": [
    {
     "name": "stdout",
     "output_type": "stream",
     "text": [
      "(4, 2)\n"
     ]
    },
    {
     "data": {
      "text/plain": [
       "Text(0.5, 1.0, 'Processes')"
      ]
     },
     "execution_count": 7,
     "metadata": {},
     "output_type": "execute_result"
    },
    {
     "data": {
      "image/png": "[encoded data removed]",
      "text/plain": [
       "<Figure size 1080x288 with 2 Axes>"
      ]
     },
     "metadata": {
      "needs_background": "light"
     },
     "output_type": "display_data"
    }
   ],
   "source": [
    "vec = np.mean(res,axis=2)\n",
    "err = np.std(res,axis=2)\n",
    "print(vec.shape)\n",
    "fig,[ax1,ax2] = plt.subplots(figsize=(15,4),ncols=2,nrows=1)\n",
    "ax1.errorbar(np.arange(4),vec[:,0],yerr=err[:,0])\n",
    "ax2.errorbar(np.arange(4),vec[:,1],yerr=err[:,1])\n",
    "ax1.set_xticks(np.arange(4))\n",
    "ax2.set_xticks(np.arange(4))\n",
    "ax1.set_xticklabels([0.3,0.25,0.20,0.15])\n",
    "ax2.set_xticklabels([0.15,0.1,0.07,0.05])\n",
    "ax1.hlines(xmin=0,xmax=4,y=5,linestyles='dotted')\n",
    "ax2.hlines(xmin=0,xmax=4,y=5,linestyles='dotted')\n",
    "ax1.set_title('Somata')\n",
    "ax1.set_title('Processes')\n"
   ]
  },
  {
   "cell_type": "code",
   "execution_count": 5,
   "metadata": {},
   "outputs": [],
   "source": [
    "dict_param['th1_p']=0.25\n",
    "dict_param['th2_p']=0.1"
   ]
  },
  {
   "cell_type": "markdown",
   "metadata": {},
   "source": [
    "# Activity Map Generator: Set percentile"
   ]
  },
  {
   "cell_type": "code",
   "execution_count": 2,
   "metadata": {},
   "outputs": [
    {
     "name": "stdout",
     "output_type": "stream",
     "text": [
      "/media/DATA/jbonato/astro_segm/set1/1/ ['/media/DATA/jbonato/astro_segm/set1/1/TSeries-04082019-1513-1250_Ch2__movie_corrected_aligned.tiff']\n",
      "/media/DATA/jbonato/astro_segm/set1/2/ ['/media/DATA/jbonato/astro_segm/set1/2/TSeries-04082019-1513-1251_Ch2__movie_corrected_aligned.tiff']\n",
      "/media/DATA/jbonato/astro_segm/set1/3/ ['/media/DATA/jbonato/astro_segm/set1/3/TSeries-04082019-1513-1252_Ch2__movie_corrected_aligned.tiff']\n",
      "/media/DATA/jbonato/astro_segm/set1/4/ ['/media/DATA/jbonato/astro_segm/set1/4/TSeries-04112019-1605-1257_Ch2__movie_corrected_aligned.tiff']\n",
      "/media/DATA/jbonato/astro_segm/set1/5/ ['/media/DATA/jbonato/astro_segm/set1/5/TSeries-04112019-1605-1258_Ch2__movie_corrected_aligned.tiff']\n",
      "/media/DATA/jbonato/astro_segm/set1/6/ ['/media/DATA/jbonato/astro_segm/set1/6/TSeries-04112019-1605-1266_Ch2__movie_corrected_aligned.tiff']\n",
      "/media/DATA/jbonato/astro_segm/set1/7/ ['/media/DATA/jbonato/astro_segm/set1/7/TSeries-04112019-1605-1267_Ch2__movie_corrected_aligned.tiff']\n",
      "/media/DATA/jbonato/astro_segm/set1/8/ ['/media/DATA/jbonato/astro_segm/set1/8/TSeries-04112019-1605-1268_Ch2__movie_corrected_aligned.tiff']\n",
      "/media/DATA/jbonato/astro_segm/set1/9/ ['/media/DATA/jbonato/astro_segm/set1/9/TSeries-04172019-1817-1280_Ch2__movie_corrected_aligned.tiff']\n",
      "/media/DATA/jbonato/astro_segm/set1/10/ ['/media/DATA/jbonato/astro_segm/set1/10/TSeries-04172019-1817-1281_Ch2__movie_corrected_aligned.tiff']\n",
      "/media/DATA/jbonato/astro_segm/set1/11/ ['/media/DATA/jbonato/astro_segm/set1/11/TSeries-04172019-1817-1282_Ch2__movie_corrected_aligned.tiff']\n",
      "/media/DATA/jbonato/astro_segm/set1/12/ ['/media/DATA/jbonato/astro_segm/set1/12/TSeries-04172019-1817-1287_Ch2__movie_corrected_aligned.tiff']\n",
      "/media/DATA/jbonato/astro_segm/set1/13/ ['/media/DATA/jbonato/astro_segm/set1/13/TSeries-04172019-1817-1288_Ch2__movie_corrected_aligned.tiff']\n",
      "/media/DATA/jbonato/astro_segm/set1/14/ ['/media/DATA/jbonato/astro_segm/set1/14/TSeries-04172019-1817-1289_Ch2__movie_corrected_aligned.tiff']\n",
      "/media/DATA/jbonato/astro_segm/set1/15/ ['/media/DATA/jbonato/astro_segm/set1/15/TSeries-04182019-1453-1295_Ch2__movie_corrected_aligned.tiff']\n",
      "/media/DATA/jbonato/astro_segm/set1/16/ ['/media/DATA/jbonato/astro_segm/set1/16/TSeries-06072018-1654-1094_Ch2__movie_corrected_aligned.tiff']\n",
      "/media/DATA/jbonato/astro_segm/set1/17/ ['/media/DATA/jbonato/astro_segm/set1/17/TSeries-07192018-1913-1119_Ch2__movie_corrected_aligned.tiff']\n",
      "/media/DATA/jbonato/astro_segm/set1/18/ ['/media/DATA/jbonato/astro_segm/set1/18/TSeries-07262018-1151-1126_Ch2__movie_corrected_aligned.tiff']\n",
      "/media/DATA/jbonato/astro_segm/set1/19/ ['/media/DATA/jbonato/astro_segm/set1/19/TSeries-07262018-1151-1129_Ch2__movie_corrected_aligned.tiff']\n",
      "/media/DATA/jbonato/astro_segm/set1/21/ ['/media/DATA/jbonato/astro_segm/set1/21/TSeries-09042017-1020-547_Cycle00001_Ch2_0000movieNoRM4Iteration.tif']\n",
      "/media/DATA/jbonato/astro_segm/set1/22/ ['/media/DATA/jbonato/astro_segm/set1/22/TSeries-09042017-1020-551_Cycle00001_Ch2_0000movieNoRM4Iteration.tif']\n",
      "/media/DATA/jbonato/astro_segm/set1/23/ ['/media/DATA/jbonato/astro_segm/set1/23/TSeries-09052017-1126-559_Cycle00001_Ch2_0000movieNoRM4Iteration.tif']\n",
      "/media/DATA/jbonato/astro_segm/set1/24/ ['/media/DATA/jbonato/astro_segm/set1/24/TSeries-09052017-1126-564_Cycle00001_Ch2_0000movieNoRM4Iteration.tif']\n",
      "/media/DATA/jbonato/astro_segm/set1/25/ ['/media/DATA/jbonato/astro_segm/set1/25/TSeries-09052017-1126-572_Cycle00001_Ch2_0000movie_momovieNoRM4Iteration.tif']\n"
     ]
    }
   ],
   "source": [
    "path = '/media/DATA/jbonato/astro_segm/set1/'\n",
    "res = np.empty((24,7))\n",
    "fov = 0\n",
    "resize=False\n",
    "\n",
    "for j in range(1,26):\n",
    "    if j !=20:\n",
    "        \n",
    "        if len(str(j))==1:\n",
    "            test_folder_str='00'+str(j)\n",
    "        else:\n",
    "            test_folder_str='0'+str(j)\n",
    "        \n",
    "        path_f = path+str(j)+'/'\n",
    "        item = glob.glob(path_f+'*')\n",
    "        print(path_f,item)\n",
    "        \n",
    "        #for dataset2 and dataset3 this class is necessary to transform the stack\n",
    "        #sp_pp=spatial_pp(item[0])\n",
    "        #stack,_ = sp_pp.create_img()\n",
    "\n",
    "        stack = io.imread(item[0])\n",
    "        T,N,_ = stack.shape\n",
    "\n",
    "        Res_file_path='/media/DATA/jbonato/astro_segm/set1/dataset/SMALL_'+test_folder_str+'_nf.hdf5'\n",
    "        Res_mat = np.empty((N,N,2))\n",
    "        dset= h5py.File(Res_file_path,'r') \n",
    "        Res_mat[:,:,0] =  np.asarray(dset['Values'])\n",
    "        Res_mat[:,:,1] =  np.asarray(dset['Values_soma'])\n",
    "\n",
    "\n",
    "        maskGT = np.sum(Res_mat,axis=2)\n",
    "        maskGT[maskGT>1]=1\n",
    "        iter_ = 0\n",
    "        for i in [30,40,50,60,70,80,90]:\n",
    "            \n",
    "            dict_param['percentile'] = i \n",
    "            \n",
    "            cr = sel_active_reg(stack,dict_param,verbose=False)\n",
    "            mask = cr.get_mask()\n",
    "            res[fov,iter_] = f1_score(maskGT.flatten(), mask.flatten(), average='binary')\n",
    "            iter_+=1\n",
    "        fov+=1"
   ]
  },
  {
   "cell_type": "code",
   "execution_count": null,
   "metadata": {},
   "outputs": [],
   "source": []
  },
  {
   "cell_type": "code",
   "execution_count": 3,
   "metadata": {},
   "outputs": [
    {
     "data": {
      "image/png": "[encoded data removed]",
      "text/plain": [
       "<Figure size 720x576 with 1 Axes>"
      ]
     },
     "metadata": {
      "needs_background": "light"
     },
     "output_type": "display_data"
    }
   ],
   "source": [
    "fig, ax = plt.subplots(figsize=(10,8),ncols = 1, nrows = 1)\n",
    "\n",
    "ax.errorbar(np.arange(7),np.nanmean(res,axis=0),yerr=np.nanstd(res,axis=0),fmt='--', marker='s')\n",
    "ax.set_xticklabels(labels =[0,30,40,50,60,70,80,90],fontsize=16)\n",
    "\n",
    "ax.set_xlabel('Percentile values',fontsize=16)\n",
    "ax.set_ylabel('F1-score',fontsize=16)\n",
    "ax.tick_params(axis=\"y\", labelsize=16)\n"
   ]
  },
  {
   "cell_type": "code",
   "execution_count": 3,
   "metadata": {},
   "outputs": [],
   "source": [
    "dict_param['percentile']=80"
   ]
  },
  {
   "cell_type": "markdown",
   "metadata": {},
   "source": [
    "# Save Dictionary values"
   ]
  },
  {
   "cell_type": "code",
   "execution_count": 7,
   "metadata": {},
   "outputs": [],
   "source": [
    "set_dir='/media/DATA/jbonato/astro_segm/set1/.tmp/'\n",
    "\n",
    "if not(os.path.exists(set_dir)):\n",
    "    os.mkdir(set_dir)\n",
    "    print('Created',set_dir)\n",
    "    \n",
    "with open(set_dir+'dict_dataset1.txt', \"wb\") as fp:   #Pickling\n",
    "    pickle.dump(dict_param, fp)"
   ]
  },
  {
   "cell_type": "code",
   "execution_count": null,
   "metadata": {},
   "outputs": [],
   "source": []
  },
  {
   "cell_type": "code",
   "execution_count": null,
   "metadata": {},
   "outputs": [],
   "source": []
  },
  {
   "cell_type": "code",
   "execution_count": null,
   "metadata": {},
   "outputs": [],
   "source": []
  },
  {
   "cell_type": "code",
   "execution_count": null,
   "metadata": {},
   "outputs": [],
   "source": []
  }
 ],
 "metadata": {
  "kernelspec": {
   "display_name": "Python 3",
   "language": "python",
   "name": "python3"
  },
  "language_info": {
   "codemirror_mode": {
    "name": "ipython",
    "version": 3
   },
   "file_extension": ".py",
   "mimetype": "text/x-python",
   "name": "python",
   "nbconvert_exporter": "python",
   "pygments_lexer": "ipython3",
   "version": "3.6.8"
  }
 },
 "nbformat": 4,
 "nbformat_minor": 4
}
