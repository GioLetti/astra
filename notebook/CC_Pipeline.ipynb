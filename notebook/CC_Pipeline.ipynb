{
 "cells": [
  {
   "cell_type": "markdown",
   "metadata": {},
   "source": [
    "# In this notbeook threse is an application of the CrossCorrelation module\n",
    "\n"
   ]
  },
  {
   "cell_type": "code",
   "execution_count": 1,
   "metadata": {},
   "outputs": [],
   "source": [
    "from __future__ import print_function\n",
    "#%matplotlib inline\n",
    "import argparse\n",
    "import os\n",
    "import random\n",
    "import torch\n",
    "import torch.nn.functional as F\n",
    "import numpy as np\n",
    "import cv2\n",
    "import glob\n",
    "import os\n",
    "from skimage import io\n",
    "import h5py\n",
    "import matplotlib.pyplot as plt\n",
    "import numpy.ma as ma\n",
    "import matplotlib.animation as animation\n",
    "from IPython.display import HTML\n",
    "import pickle\n",
    "\n",
    "import sys\n",
    "sys.path.insert(0,'/media/DATA/jbonato/astro_segm/Astro3S/modules/')\n",
    "from CC import main_CC,clean_outer_pixel\n",
    "from get_traces import Extr_miniROI,get_signal,get_signals\n",
    "from gui_results import layout\n",
    "\n",
    "\n",
    "MAX_ROI_AREA_PROC=60\n",
    "MU_PX = 1"
   ]
  },
  {
   "cell_type": "markdown",
   "metadata": {},
   "source": [
    "## Rocording loading\n"
   ]
  },
  {
   "cell_type": "code",
   "execution_count": 2,
   "metadata": {},
   "outputs": [
    {
     "name": "stdout",
     "output_type": "stream",
     "text": [
      "t-series loaded, dim:  (550, 256, 256)\n",
      "roi loaded, dim:  (5, 256, 256, 2)\n"
     ]
    }
   ],
   "source": [
    "device1 = torch.device('cuda:0' if torch.cuda.is_available() else 'cpu')\n",
    "#device = torch.device('cpu')\n",
    "num = '2'\n",
    "query = '{0:0>3}'.format(num)\n",
    "dict_im = pickle.load( open( \"inference_ex.pkl\", \"rb\" ))\n",
    "stack_o = dict_im['t-series_'+query]\n",
    "mask_sp = dict_im['Single_cell_mask_'+query]\n",
    "T,N,M = stack_o.shape\n",
    "###\n",
    "print('t-series loaded, dim: ',stack_o.shape)\n",
    "print('roi loaded, dim: ',mask_sp.shape)\n",
    "\n",
    "\n",
    "#### remove outer pixels\n",
    "mask_sp = clean_outer_pixel(mask_sp,num_pix=4)\n"
   ]
  },
  {
   "cell_type": "code",
   "execution_count": 3,
   "metadata": {},
   "outputs": [],
   "source": [
    "plot_video = False\n",
    "if plot_video:\n",
    "    im_list = []\n",
    "    for i in range(100):\n",
    "        im_list.append(stack_o[i,:,:])\n",
    "\n",
    "    fig = plt.figure(figsize=(8,8))\n",
    "    plt.axis(\"off\")\n",
    "    ims = [[plt.imshow(i, animated=True)] for i in im_list]\n",
    "\n",
    "    ani = animation.ArtistAnimation(fig, ims, interval=1, repeat_delay=1000, blit=True)\n",
    "\n",
    "    HTML(ani.to_jshtml())\n",
    "\n",
    "    \n"
   ]
  },
  {
   "cell_type": "code",
   "execution_count": 4,
   "metadata": {},
   "outputs": [
    {
     "name": "stdout",
     "output_type": "stream",
     "text": [
      "////////// CORR ANALysis //////////\n",
      "True\n",
      "correlation error = 0.048380 with threshold = 0.850000\n",
      "Reduction finish\n"
     ]
    }
   ],
   "source": [
    "r = 60\n",
    "mask_single_corr,mask_ROI = main_CC(stack_o,mask_sp,r,device=device1)"
   ]
  },
  {
   "cell_type": "code",
   "execution_count": 5,
   "metadata": {},
   "outputs": [],
   "source": [
    "###clean CC for retrieving signals\n",
    "def cleanCC_for_signals(dict_ROI,mask_ROI,MAX_ROI_AREA_PROC):\n",
    "    _,N,M,_ = mask_ROI.shape\n",
    "    for key in dict_ROI.keys():\n",
    "        coord = dict_ROI[key]\n",
    "        mask_ROI[:,coord[0],coord[1],2]=0\n",
    "    mask_ROI_clean = np.zeros_like(mask_ROI)\n",
    "    mask_ROI_clean[:,:,:,:2] = mask_ROI[:,:,:,:2]\n",
    "    \n",
    "    mask_ROI_inter_region = np.zeros((N,M))\n",
    "    \n",
    "    for i in range(mask_ROI.shape[0]):\n",
    "        num,comp = cv2.connectedComponents(mask_ROI[i,:,:,2].astype(np.uint8))\n",
    "        for k in range(1,num):\n",
    "            pt = np.where(comp==k)\n",
    "            if pt[0].shape[0]>=(MAX_ROI_AREA_PROC)//2:\n",
    "                mask_ROI_clean[i,pt[0],pt[1],2]=1\n",
    "    ### Intersection regions\n",
    "    mask_ROI_inter_region = np.sum(mask_ROI_clean[:,:,:,2],axis=0)\n",
    "    mask_ROI_inter_region[mask_ROI_inter_region<=1]=0\n",
    "    \n",
    "    for i in range(mask_ROI.shape[0]):\n",
    "        for j in range(i+1,mask_ROI.shape[0]):\n",
    "            mask_ROI_clean[i,:,:,2]-=mask_ROI_clean[j,:,:,2]\n",
    "    \n",
    "    mask_ROI_clean[mask_ROI_clean<0]=0\n",
    "    \n",
    "    return mask_ROI_clean,mask_ROI_inter_region\n",
    "\n",
    "####\n",
    "mask_ROI_new,intersection = cleanCC_for_signals(dict_im['ROI_'+query],mask_ROI,MAX_ROI_AREA_PROC)\n"
   ]
  },
  {
   "cell_type": "code",
   "execution_count": null,
   "metadata": {},
   "outputs": [],
   "source": []
  },
  {
   "cell_type": "code",
   "execution_count": 6,
   "metadata": {},
   "outputs": [
    {
     "name": "stdout",
     "output_type": "stream",
     "text": [
      "ROI NUM 5\n",
      "%%%%%%%%%%%%%%%%%%%%%%%%%%%%%%%%%%%%%%%%%%%%%%%%%% Extracting cell: 0\n",
      "ROIS 30\n",
      "mat_out (30, 256, 256)\n",
      "check size (30, 256, 256)\n",
      "ratio 0.05 0\n",
      "ratio 31.716666666666665 31\n",
      "ratio 0.23333333333333334 0\n",
      "ratio 0.03333333333333333 0\n",
      "ratio 3.5 3\n",
      "ratio 0.016666666666666666 0\n",
      "ratio 0.016666666666666666 0\n",
      "ratio 5.283333333333333 5\n",
      "ratio 0.016666666666666666 0\n",
      "ratio 0.16666666666666666 0\n",
      "ratio 0.016666666666666666 0\n",
      "ratio 0.1 0\n",
      "ratio 0.03333333333333333 0\n",
      "ratio 0.08333333333333333 0\n",
      "ratio 0.05 0\n",
      "ratio 0.016666666666666666 0\n",
      "ratio 0.016666666666666666 0\n",
      "ratio 0.11666666666666667 0\n",
      "ratio 0.08333333333333333 0\n",
      "ratio 0.016666666666666666 0\n",
      "ratio 0.016666666666666666 0\n",
      "ratio 0.016666666666666666 0\n",
      "ratio 0.03333333333333333 0\n",
      "ratio 0.016666666666666666 0\n",
      "ratio 0.016666666666666666 0\n",
      "ratio 0.05 0\n",
      "ratio 1.1833333333333333 1\n",
      "ratio 0.016666666666666666 0\n",
      "ratio 0.016666666666666666 0\n",
      "ratio 0.016666666666666666 0\n",
      "SPLIT DONE (256, 256, 67)\n",
      "Extraction: done\n",
      "%%%%%%%%%%%%%%%%%%%%%%%%%%%%%%%%%%%%%%%%%%%%%%%%%% Extracting cell: 1\n",
      "ROIS 53\n",
      "mat_out (53, 256, 256)\n",
      "check size (53, 256, 256)\n",
      "ratio 3.2333333333333334 3\n",
      "ratio 0.06666666666666667 0\n",
      "ratio 3.3833333333333333 3\n",
      "ratio 0.016666666666666666 0\n",
      "ratio 0.016666666666666666 0\n",
      "ratio 0.11666666666666667 0\n",
      "ratio 0.03333333333333333 0\n",
      "ratio 0.016666666666666666 0\n",
      "ratio 67.88333333333334 67\n",
      "ratio 0.016666666666666666 0\n",
      "ratio 0.06666666666666667 0\n",
      "ratio 0.016666666666666666 0\n",
      "ratio 0.05 0\n",
      "ratio 0.016666666666666666 0\n",
      "ratio 0.016666666666666666 0\n",
      "ratio 0.016666666666666666 0\n",
      "ratio 0.016666666666666666 0\n",
      "ratio 0.05 0\n",
      "ratio 0.6166666666666667 0\n",
      "ratio 0.016666666666666666 0\n",
      "ratio 0.016666666666666666 0\n",
      "ratio 0.03333333333333333 0\n",
      "ratio 0.03333333333333333 0\n",
      "ratio 0.016666666666666666 0\n",
      "ratio 0.016666666666666666 0\n",
      "ratio 0.6333333333333333 0\n",
      "ratio 0.08333333333333333 0\n",
      "ratio 0.016666666666666666 0\n",
      "ratio 0.016666666666666666 0\n",
      "ratio 0.016666666666666666 0\n",
      "ratio 0.05 0\n",
      "ratio 0.1 0\n",
      "ratio 0.016666666666666666 0\n",
      "ratio 0.5666666666666667 0\n",
      "ratio 1.0166666666666666 1\n",
      "ratio 0.016666666666666666 0\n",
      "ratio 0.016666666666666666 0\n",
      "ratio 0.1 0\n",
      "ratio 0.016666666666666666 0\n",
      "ratio 0.016666666666666666 0\n",
      "ratio 0.11666666666666667 0\n",
      "ratio 0.016666666666666666 0\n",
      "ratio 0.03333333333333333 0\n",
      "ratio 0.03333333333333333 0\n",
      "ratio 0.03333333333333333 0\n",
      "ratio 0.016666666666666666 0\n",
      "ratio 0.016666666666666666 0\n",
      "ratio 0.016666666666666666 0\n",
      "ratio 0.016666666666666666 0\n",
      "ratio 0.016666666666666666 0\n",
      "ratio 0.016666666666666666 0\n",
      "ratio 0.016666666666666666 0\n",
      "ratio 0.016666666666666666 0\n",
      "SPLIT DONE (256, 256, 126)\n",
      "Extraction: done\n",
      "%%%%%%%%%%%%%%%%%%%%%%%%%%%%%%%%%%%%%%%%%%%%%%%%%% Extracting cell: 2\n",
      "ROIS 33\n",
      "mat_out (33, 256, 256)\n",
      "check size (33, 256, 256)\n",
      "ratio 0.13333333333333333 0\n",
      "ratio 0.03333333333333333 0\n",
      "ratio 0.016666666666666666 0\n",
      "ratio 20.116666666666667 20\n",
      "ratio 0.08333333333333333 0\n",
      "ratio 0.016666666666666666 0\n",
      "ratio 0.03333333333333333 0\n",
      "ratio 0.016666666666666666 0\n",
      "ratio 0.05 0\n",
      "ratio 0.03333333333333333 0\n",
      "ratio 0.016666666666666666 0\n",
      "ratio 0.016666666666666666 0\n",
      "ratio 0.016666666666666666 0\n",
      "ratio 0.11666666666666667 0\n",
      "ratio 0.016666666666666666 0\n",
      "ratio 0.03333333333333333 0\n",
      "ratio 0.016666666666666666 0\n",
      "ratio 0.03333333333333333 0\n",
      "ratio 0.11666666666666667 0\n",
      "ratio 0.05 0\n",
      "ratio 0.016666666666666666 0\n",
      "ratio 0.11666666666666667 0\n",
      "ratio 1.3 1\n",
      "ratio 0.26666666666666666 0\n",
      "ratio 0.15 0\n",
      "ratio 0.05 0\n",
      "ratio 0.15 0\n",
      "ratio 0.016666666666666666 0\n",
      "ratio 0.016666666666666666 0\n",
      "ratio 0.016666666666666666 0\n",
      "ratio 0.11666666666666667 0\n",
      "ratio 0.06666666666666667 0\n",
      "ratio 0.5 0\n",
      "SPLIT DONE (256, 256, 53)\n",
      "Extraction: done\n",
      "%%%%%%%%%%%%%%%%%%%%%%%%%%%%%%%%%%%%%%%%%%%%%%%%%% Extracting cell: 3\n",
      "ROIS 27\n",
      "mat_out (27, 256, 256)\n",
      "check size (27, 256, 256)\n",
      "ratio 0.03333333333333333 0\n",
      "ratio 0.016666666666666666 0\n",
      "ratio 0.1 0\n",
      "ratio 0.3333333333333333 0\n",
      "ratio 0.016666666666666666 0\n",
      "ratio 0.03333333333333333 0\n",
      "ratio 0.03333333333333333 0\n",
      "ratio 1.15 1\n",
      "ratio 0.016666666666666666 0\n",
      "ratio 0.15 0\n",
      "ratio 0.03333333333333333 0\n",
      "ratio 0.05 0\n",
      "ratio 0.03333333333333333 0\n",
      "ratio 0.03333333333333333 0\n",
      "ratio 0.05 0\n",
      "ratio 0.03333333333333333 0\n",
      "ratio 0.1 0\n",
      "ratio 0.05 0\n",
      "ratio 0.016666666666666666 0\n",
      "ratio 0.016666666666666666 0\n",
      "ratio 0.016666666666666666 0\n",
      "ratio 1.7333333333333334 1\n",
      "ratio 0.016666666666666666 0\n",
      "ratio 0.31666666666666665 0\n",
      "ratio 0.23333333333333334 0\n",
      "ratio 0.03333333333333333 0\n",
      "ratio 0.016666666666666666 0\n",
      "SPLIT DONE (256, 256, 28)\n",
      "Extraction: done\n",
      "%%%%%%%%%%%%%%%%%%%%%%%%%%%%%%%%%%%%%%%%%%%%%%%%%% Extracting cell: 4\n",
      "ROIS 6\n",
      "mat_out (6, 256, 256)\n",
      "check size (6, 256, 256)\n",
      "ratio 0.7 0\n",
      "ratio 0.016666666666666666 0\n",
      "ratio 0.03333333333333333 0\n",
      "ratio 0.03333333333333333 0\n",
      "ratio 0.016666666666666666 0\n",
      "ratio 0.016666666666666666 0\n",
      "SPLIT DONE (256, 256, 7)\n",
      "Extraction: done\n"
     ]
    }
   ],
   "source": [
    "print(\"ROI NUM\",mask_ROI.shape[0])\n",
    "dict_roi={}\n",
    "dict_traces={}\n",
    "dict_roi_num={}\n",
    "for s_roi_num in range(mask_ROI.shape[0]):\n",
    "    print(50*'%','Extracting cell:',s_roi_num)\n",
    "    constr_split_roi = Extr_miniROI(MAX_ROI_AREA_PROC,MU_PX,mask_ROI[s_roi_num,:,:,2],mask_ROI[s_roi_num,:,:,1],True,dilate_ROI=0)\n",
    "    arr_out_CC = constr_split_roi.get_miniROI()\n",
    "    if  s_roi_num==0:\n",
    "        list_out=arr_out_CC\n",
    "    else:\n",
    "        list_out = np.dstack((list_out,arr_out_CC))\n",
    "    name = str(s_roi_num)\n",
    "    dict_roi_num['Num_CC_'+f'{name:0>3}']=arr_out_CC.shape[2]\n",
    "    for area_num in range(arr_out_CC.shape[2]):\n",
    "        name_area = str(area_num)\n",
    "        dict_roi['CC_'+f'{name:0>3}'+'_'+f'{name_area:0>3}'] = np.where(arr_out_CC[:,:,area_num]==1)\n",
    "        dict_traces['CC_'+f'{name:0>3}'+'_'+f'{name_area:0>3}']  = get_signal(arr_out_CC[:,:,area_num],dict_im['t-series_'+query])\n",
    "    print('Extraction: done')\n",
    "\n",
    "dict_im['Signals_extr_'+query].update(dict_traces) \n",
    "dict_im['ROI_'+query].update(dict_roi)\n",
    "\n",
    "# #### for Visualization purposes\n",
    "list_out = np.dstack((list_out,dict_im['Final_Mask_'+query][:,:,1:]))\n",
    "dict_im['Final_Mask_fraction_'+query] = list_out\n",
    "dict_im['Num_CC_'+query] = dict_roi_num\n",
    "# #### save dict\n",
    "# pickle.dump(dict_im, open( \"inference_ex.pkl\", \"wb\" ) )"
   ]
  },
  {
   "cell_type": "markdown",
   "metadata": {},
   "source": [
    "## visualization"
   ]
  },
  {
   "cell_type": "code",
   "execution_count": 10,
   "metadata": {},
   "outputs": [],
   "source": [
    "cell = [0,1,2,4,5]"
   ]
  },
  {
   "cell_type": "code",
   "execution_count": 11,
   "metadata": {},
   "outputs": [
    {
     "data": {
      "image/png": "[encoded data removed]",
      "text/plain": [
       "<Figure size 1440x1440 with 3 Axes>"
      ]
     },
     "metadata": {
      "needs_background": "light"
     },
     "output_type": "display_data"
    }
   ],
   "source": [
    "fig,[ax1,ax2,ax3] =plt.subplots(figsize=(20,20),ncols=3,nrows=1)\n",
    "for j,a in zip(cell,[ax1,ax2,ax3]):\n",
    "    a.imshow(mask_ROI[j,:,:,2])"
   ]
  },
  {
   "cell_type": "code",
   "execution_count": null,
   "metadata": {},
   "outputs": [],
   "source": []
  },
  {
   "cell_type": "markdown",
   "metadata": {},
   "source": [
    "# Dislpay"
   ]
  },
  {
   "cell_type": "code",
   "execution_count": 13,
   "metadata": {},
   "outputs": [
    {
     "data": {
      "text/plain": [
       "['002']"
      ]
     },
     "execution_count": 13,
     "metadata": {},
     "output_type": "execute_result"
    }
   ],
   "source": [
    "fov_name = []\n",
    "for j in [2]:\n",
    "    j = str(j)\n",
    "    if len(j)==1:\n",
    "        j='00'+j\n",
    "    else:\n",
    "        j='0'+j\n",
    "    fov_name.append(j)\n",
    "fov_name\n"
   ]
  },
  {
   "cell_type": "code",
   "execution_count": 14,
   "metadata": {},
   "outputs": [
    {
     "data": {
      "application/vnd.jupyter.widget-view+json": {
       "model_id": "3a63a855783f426fb29f1f1d56f14440",
       "version_major": 2,
       "version_minor": 0
      },
      "text/plain": [
       "VBox(children=(Output(layout=Layout(height='400px', width='1200px')), HBox(children=(VBox(children=(Dropdown(d…"
      ]
     },
     "metadata": {},
     "output_type": "display_data"
    }
   ],
   "source": [
    "hbox,button,display_plot = layout(fov_name,dict_im)\n",
    "display(hbox)\n",
    "button.on_click(display_plot)"
   ]
  },
  {
   "cell_type": "code",
   "execution_count": null,
   "metadata": {},
   "outputs": [],
   "source": []
  },
  {
   "cell_type": "code",
   "execution_count": null,
   "metadata": {},
   "outputs": [],
   "source": []
  }
 ],
 "metadata": {
  "kernelspec": {
   "display_name": "Python 3",
   "language": "python",
   "name": "python3"
  },
  "language_info": {
   "codemirror_mode": {
    "name": "ipython",
    "version": 3
   },
   "file_extension": ".py",
   "mimetype": "text/x-python",
   "name": "python",
   "nbconvert_exporter": "python",
   "pygments_lexer": "ipython3",
   "version": "3.6.8"
  }
 },
 "nbformat": 4,
 "nbformat_minor": 4
}
